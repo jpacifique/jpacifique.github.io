{
 "cells": [
  {
   "cell_type": "markdown",
   "metadata": {
    "colab_type": "text",
    "id": "1ZJsH6GX3LcU"
   },
   "source": [
    "## \"journal pacifique\" web bot\n",
    "parses sources for new articles, translates them into target languages [\"es\",\"pt\",\"pl\",\"zh-CN\"]. Wraps it up in a simple html document and writes it out to the appropriate directory.\n",
    "\n",
    "#### TO DO:\n",
    "\n",
    "*   resizable design\n",
    "*   implement an automatic parser\n",
    "*   mobile-friendly design\n",
    "*   detect and highlight keywords\n",
    "*   automatic git push\n",
    "*   run the script on an aws server\n",
    "*   maybe a language rating mechanism?\n",
    "*   don't send a separate request to the website for every translation (__done__)\n",
    "*   make sure same pages aren't crawled twice. Even if they are crawled twice they shouldn't be overwritten.\n",
    "*   subscribe and social media block\n",
    "\n",
    "translations under a certain quality are dispensable\n",
    "\n",
    "#### Requests count as of 12.09.19\n",
    "\n",
    "\n",
    "*   Google Translate reqs: 4 * language * article. (now L * A)\n",
    "    *   SHOULD BE REDUCED! translate articles by seperating them with simple tags.\n",
    "    *   this should reduce GT reqs to language * article  (__done__)\n",
    "*   Website reqs: number of articles\n",
    "*   Total: ( 4 * L + 1) * A -> ( L + 1 ) * A\n",
    "\n",
    "NOTE: google transalte tokens refresh every hour (?)\n",
    "\n",
    "\n",
    "\n",
    "\n",
    "\n",
    "\n",
    "---\n",
    "\n"
   ]
  },
  {
   "cell_type": "code",
   "execution_count": 1,
   "metadata": {
    "colab": {
     "base_uri": "https://localhost:8080/",
     "height": 391
    },
    "colab_type": "code",
    "id": "am1FAv62IYw-",
    "outputId": "a6430627-a1b7-4973-b011-c8db27c4d236"
   },
   "outputs": [
    {
     "name": "stdout",
     "output_type": "stream",
     "text": [
      "Collecting googletrans\n",
      "  Downloading https://files.pythonhosted.org/packages/fd/f0/a22d41d3846d1f46a4f20086141e0428ccc9c6d644aacbfd30990cf46886/googletrans-2.4.0.tar.gz\n",
      "Requirement already satisfied: requests in /usr/local/lib/python3.6/dist-packages (from googletrans) (2.21.0)\n",
      "Requirement already satisfied: chardet<3.1.0,>=3.0.2 in /usr/local/lib/python3.6/dist-packages (from requests->googletrans) (3.0.4)\n",
      "Requirement already satisfied: idna<2.9,>=2.5 in /usr/local/lib/python3.6/dist-packages (from requests->googletrans) (2.8)\n",
      "Requirement already satisfied: certifi>=2017.4.17 in /usr/local/lib/python3.6/dist-packages (from requests->googletrans) (2019.6.16)\n",
      "Requirement already satisfied: urllib3<1.25,>=1.21.1 in /usr/local/lib/python3.6/dist-packages (from requests->googletrans) (1.24.3)\n",
      "Building wheels for collected packages: googletrans\n",
      "  Building wheel for googletrans (setup.py) ... \u001b[?25l\u001b[?25hdone\n",
      "  Created wheel for googletrans: filename=googletrans-2.4.0-cp36-none-any.whl size=15776 sha256=fd6b1dbf4506afacaf1382f396ea344d0926e9725de88472d874a44e1eb89560\n",
      "  Stored in directory: /root/.cache/pip/wheels/50/d6/e7/a8efd5f2427d5eb258070048718fa56ee5ac57fd6f53505f95\n",
      "Successfully built googletrans\n",
      "Installing collected packages: googletrans\n",
      "Successfully installed googletrans-2.4.0\n",
      "Collecting mechanize\n",
      "\u001b[?25l  Downloading https://files.pythonhosted.org/packages/bc/68/5ab6f96dfbdae2182e214cf9cc4790f2810c695c04034cc067b0e4ffa2b7/mechanize-0.4.3-py2.py3-none-any.whl (107kB)\n",
      "\u001b[K     |████████████████████████████████| 112kB 2.7MB/s \n",
      "\u001b[?25hRequirement already satisfied: html5lib>=0.999999999 in /usr/local/lib/python3.6/dist-packages (from mechanize) (1.0.1)\n",
      "Requirement already satisfied: webencodings in /usr/local/lib/python3.6/dist-packages (from html5lib>=0.999999999->mechanize) (0.5.1)\n",
      "Requirement already satisfied: six>=1.9 in /usr/local/lib/python3.6/dist-packages (from html5lib>=0.999999999->mechanize) (1.12.0)\n",
      "Installing collected packages: mechanize\n",
      "Successfully installed mechanize-0.4.3\n"
     ]
    }
   ],
   "source": [
    "#for colab\n",
    "#!pip install googletrans\n",
    "#!pip install mechanize\n",
    "\n",
    "## Character limit: 15K"
   ]
  },
  {
   "cell_type": "code",
   "execution_count": 1,
   "metadata": {
    "colab": {},
    "colab_type": "code",
    "id": "VcmCkaflIcmH"
   },
   "outputs": [],
   "source": [
    "import googletrans\n",
    "from googletrans import Translator\n",
    "import re\n",
    "\n",
    "translator = Translator()"
   ]
  },
  {
   "cell_type": "code",
   "execution_count": 2,
   "metadata": {
    "colab": {},
    "colab_type": "code",
    "id": "sSj3rydyWNvr"
   },
   "outputs": [],
   "source": [
    "def find_between( s, first, last ):\n",
    "    try:\n",
    "        start = s.index( first ) + len( first )\n",
    "        end = s.index( last, start )\n",
    "        return s[start:end]\n",
    "    except ValueError:\n",
    "        return \"\""
   ]
  },
  {
   "cell_type": "code",
   "execution_count": 3,
   "metadata": {
    "colab": {},
    "colab_type": "code",
    "id": "Gg1MHPIoPIKG"
   },
   "outputs": [],
   "source": [
    "def string_strip(s):\n",
    "    return re.sub(r\"[^A-Za-z0-9]\", \"-\", s)"
   ]
  },
  {
   "cell_type": "code",
   "execution_count": 4,
   "metadata": {
    "colab": {},
    "colab_type": "code",
    "id": "5cFY6cTtOwLM"
   },
   "outputs": [],
   "source": [
    "#def sciencedaily_parse_links():\n",
    "  "
   ]
  },
  {
   "cell_type": "code",
   "execution_count": 5,
   "metadata": {
    "colab": {},
    "colab_type": "code",
    "id": "s-z6efhTaAfI"
   },
   "outputs": [],
   "source": [
    "from urllib.request import Request, urlopen\n",
    "\n",
    "def sciencedaily_parse_article(url):\n",
    "  \n",
    "    site = url\n",
    "    html_string = \"\"\n",
    "    tagged_w_ps = \"\"\n",
    "\n",
    "    # parse html\n",
    "\n",
    "    req = Request(url, headers={'User-Agent': 'Mozilla/5.0'})\n",
    "    webpage = urlopen(req).read()\n",
    "\n",
    "    html_string = webpage.decode(\"utf-8\") \n",
    "  \n",
    "    # get info\n",
    "  \n",
    "    # get the headline\n",
    "\n",
    "    headline = find_between(html_string, '<h1 id=\"headline\" class=\"headline\">','</h1>')\n",
    "  \n",
    "    # get the meta\n",
    "  \n",
    "    meta     = find_between(html_string, '<dd id=\"abstract\">','</dd>')\n",
    "  \n",
    "    # get the img address\n",
    "  \n",
    "    imgaddr  = find_between(html_string, 'center-block\" src=\"','\"')\n",
    "    if(imgaddr!=\"\"):\n",
    "        imgaddr  = 'https://www.sciencedaily.com'+imgaddr\n",
    "    else:\n",
    "        imgaddr  = '../../../dummy.jpeg'\n",
    "  \n",
    "    # get the img alt\n",
    "  \n",
    "    imgalt   = find_between(html_string, '<div class=\"photo-caption\">','</div>')\n",
    "    cred     = '\\t'+find_between(html_string, '<div class=\"photo-credit\"><em>','</div>')\n",
    "  \n",
    "    # get the citation\n",
    "  \n",
    "    citation = find_between(html_string, '<div role=\"tabpanel\" class=\"tab-pane active\" id=\"citation_mla\">','</div>')\n",
    "  \n",
    "    \n",
    "    # get the article itself\n",
    "\n",
    "    article  = find_between(html_string, '<div id=\"text\">','</div>')\n",
    "    article  = re.sub(r\"<p>\" ,     \"\", article)\n",
    "    article  = re.sub(r\"</p>\", \"\\n\", article)\n",
    "  \n",
    "    # get the href at the end if it exists\n",
    "    href_tab = \"\"\n",
    "    href_tab = href_tab + find_between(article, '<a href','</a>')\n",
    "  \n",
    "    # delete the href and useless tags from the article\n",
    "  \n",
    "    article  = re.sub(r\"<a href.*?</a>\", \"\", article)\n",
    "    article  = re.sub(r\"<.*?>\", \"\",          article)\n",
    "    article  = re.sub(r\" -- \", \", \",         article)\n",
    "  \n",
    "    # special characters, this list will expand.\n",
    "  \n",
    "    #article  = re.sub(r\"&uuml;\", \"ü\",         article)\n",
    "    #article  = re.sub(r\"&ouml;\", \"ö\",         article)\n",
    "    #article  = re.sub(r\"&eacute;\", \"e\",         article)\n",
    "    # new sltn:\n",
    "    import html\n",
    "    article   = html.unescape(article)\n",
    "      \n",
    "            #y                    #y                                #y                                                       #y                  \n",
    "    return {\"headline\": headline, \"meta\": meta, \"imgaddr\": imgaddr, \"imgalt\": imgalt, \"imgcredit\":cred,\"citation\": citation, \"article\": article, \"href\": href_tab}\n",
    "  "
   ]
  },
  {
   "cell_type": "code",
   "execution_count": 6,
   "metadata": {
    "colab": {},
    "colab_type": "code",
    "id": "S9bqtXa0mCjf"
   },
   "outputs": [],
   "source": [
    "def get_translation(article_dictionary,target_language):\n",
    "    big_string= \"\"\n",
    "    translations = {}\n",
    "    token_in = \"(#@)\"\n",
    "    if (target_language==\"zh-CN\"):\n",
    "      token_out = \"（＃@）\"\n",
    "    else: token_out=\"(# @)\"\n",
    "      \n",
    "    \n",
    "    #sırası karışmasın!! keylerden array oluştur, arrayi itere et.\n",
    "    keys = [\"headline\",\"meta\",\"article\",\"imgalt\"]\n",
    "    \n",
    "    for key in keys:\n",
    "        print(key)\n",
    "        if big_string != \"\":\n",
    "            big_string = big_string + token_in + article_dictionary[key]\n",
    "        else:\n",
    "            big_string = article_dictionary[key]\n",
    "            \n",
    "    big_translated_string = translator.translate(big_string,dest=target_language).text\n",
    "    \n",
    "    translations_array    = big_translated_string.split(token_out)\n",
    "   \n",
    "    #print(big_translated_string)\n",
    "    #print(len(translations_array),translations_array)\n",
    "    \n",
    "    for i in range (4):\n",
    "        translations[keys[i]]=translations_array[i]\n",
    "\n",
    "    return translations"
   ]
  },
  {
   "cell_type": "code",
   "execution_count": 7,
   "metadata": {
    "colab": {},
    "colab_type": "code",
    "id": "RcFIKve4csNY"
   },
   "outputs": [],
   "source": [
    ";# deprecated\n",
    "def get_language_dictionary(target_language):\n",
    "    ld = {}\n",
    "    words = [\"journal pacifique\", \"homepage\", \"archive\", \"about us\", \"source:\"]\n",
    "    for word in words:\n",
    "        print(word)\n",
    "        ld[word] = translator.translate(word, dest=target_language).text\n",
    "    return ld"
   ]
  },
  {
   "cell_type": "code",
   "execution_count": null,
   "metadata": {
    "colab": {},
    "colab_type": "code",
    "id": "HD6jZB1jmpVe"
   },
   "outputs": [],
   "source": []
  },
  {
   "cell_type": "code",
   "execution_count": 8,
   "metadata": {
    "colab": {},
    "colab_type": "code",
    "id": "hSvSx7ACTufo"
   },
   "outputs": [],
   "source": [
    "def html_from_dictionary(vanilla_dictionary, translated_dictionary, target_language, language_dictionary): # translated & language could be just one dictionary this was stupid.\n",
    "  \n",
    "    from datetime import date\n",
    "    hoy  = date.today()\n",
    "    d1   = hoy.strftime(\"%d/%m/%Y\")\n",
    "  \n",
    "    template  =\"https://journalpacifique.com/jp.temp\"\n",
    "    req       = Request(template, headers={'User-Agent': 'Mozilla/5.0'})\n",
    "    webpage   = urlopen(req).read()\n",
    "\n",
    "    html = webpage.decode(\"utf-8\") \n",
    "  \n",
    "    html_article = re.sub(r\"\\n\\n\", \"</p>\\n\\n<p>\",   translated_dictionary[\"article\"])\n",
    "    html_article = \"<p>\" + html_article + \"</p>\"\n",
    "  \n",
    "    print(translated_dictionary)\n",
    "    print(language_dictionary)\n",
    "  \n",
    "    html = re.sub(r\"\\$\\$article-title%%\",  translated_dictionary[\"headline\"],         html)\n",
    "    html = re.sub(r\"\\$\\$img-alt%%\",        translated_dictionary[\"imgalt\"],           html)\n",
    "    html = re.sub(r\"\\$\\$article-meta%%\",   translated_dictionary[\"meta\"],             html)\n",
    "    html = re.sub(r\"\\$\\$source%%\",         vanilla_dictionary[\"citation\"],            html)\n",
    "    html = re.sub(r\"\\$\\$img.jpg%%\",        vanilla_dictionary[\"imgaddr\"],             html)\n",
    "    html = re.sub(r\"\\$\\$article-text%%\",   html_article                  ,            html)\n",
    "  \n",
    "    html = re.sub(r\"\\$\\$home%%\",           language_dictionary[\"homepage-\"+target_language],           html)\n",
    "    html = re.sub(r\"\\$\\$archive%%\",        language_dictionary[\"archive-\"+target_language],            html)\n",
    "    html = re.sub(r\"\\$\\$about%%\",          language_dictionary[\"about us-\"+target_language],           html)\n",
    "    html = re.sub(r\"\\$\\$jp-translation%%\", language_dictionary[\"journal pacifique-\"+target_language],  html)\n",
    "    html = re.sub(r\"\\$\\$taken-from%%\",     language_dictionary[\"source:-\"+target_language],            html)\n",
    "  \n",
    "    html = re.sub(r\"\\$\\$imgcredit%%\",       vanilla_dictionary[\"imgcredit\"],          html)\n",
    "  \n",
    "    html = re.sub(r\"<a\",       '<a style=\"color:black\"',          html)\n",
    "  \n",
    "  \n",
    "  \n",
    "    html = re.sub(r\"\\$\\$href%%\",           vanilla_dictionary[\"href\"],            html)\n",
    "  \n",
    "    html = re.sub(r\"-- \", \",\",  html)\n",
    " \n",
    "    html = re.sub(r\"\\$\\$date%%\", d1, html)\n",
    "  \n",
    "    #html = re.sub(r'</head>', '<style> p { text-indent: 30px;} </style>\\n\\t</head>', html)\n",
    "  \n",
    "    return html\n",
    "  "
   ]
  },
  {
   "cell_type": "code",
   "execution_count": 9,
   "metadata": {
    "colab": {},
    "colab_type": "code",
    "id": "a8_T668O03h9"
   },
   "outputs": [],
   "source": [
    "def getnewpath(dic,translated_dict):\n",
    "  \n",
    "    from datetime import date\n",
    "    hoy  = date.today()\n",
    "    date = hoy.strftime(\"%Y-%m-%d\")\n",
    "    \n",
    "    translated_dict[\"date\"]=date\n",
    "  \n",
    "    urlheadline = string_strip(dic[\"headline\"])+\"-\"+target_language\n",
    "    newpathaddr = target_language+\"/posts/\"+date+\"/\"\n",
    "    newheadline = newpathaddr+urlheadline+\".html\"\n",
    "    \n",
    "    translated_dict[\"path\"]=newheadline\n",
    "    \n",
    "    # this was implemented for short headlines (~10char)\n",
    "    #if newheadline in headlinessofar:\n",
    "    #    c=2\n",
    "    #    while (newheadline[:-5]+repr(c)+newheadline[-5:] in headlinessofar):\n",
    "    #        c+=1\n",
    "    #    newheadline = newheadline[:-5]+repr(c)+newheadline[-5:]\n",
    "    \n",
    "    headlinessofar.append(newheadline)\n",
    "    return [newheadline,newpathaddr,urlheadline]"
   ]
  },
  {
   "cell_type": "code",
   "execution_count": 10,
   "metadata": {
    "colab": {},
    "colab_type": "code",
    "id": "X5dlG_rpmpVm"
   },
   "outputs": [],
   "source": [
    "def dic_to_dirfile(dic,target_language, elements_dictionary):\n",
    "    \n",
    "    #we used to translate all elements at every step, now it is automated due to\n",
    "    #google translate's quota restrictions.\n",
    "    \n",
    "    #zh_ld = get_language_dictionary(target_language)\n",
    "\n",
    "    tr_di = get_translation(dic,target_language)\n",
    "    htmlx = html_from_dictionary(dic, tr_di, target_language, elements_dictionary)\n",
    "  \n",
    "    newdirs = getnewpath(dic,tr_di)\n",
    "  \n",
    "    import os\n",
    "    cmd = \"mkdir -p \"+newdirs[1]\n",
    "    os.system(cmd)\n",
    "  \n",
    "    f= open(newdirs[0],\"w+\")\n",
    "    f.write(htmlx)\n",
    "  \n",
    "    return [htmlx,tr_di,newdirs[2]]"
   ]
  },
  {
   "cell_type": "code",
   "execution_count": 11,
   "metadata": {
    "colab": {},
    "colab_type": "code",
    "id": "B7W8jsdDvoxH"
   },
   "outputs": [],
   "source": [
    "elements_dictionary = {\n",
    "    \"journal pacifique-es\":\"periódico pacífico\", \n",
    "    \"homepage-es\":\"página principal\", \n",
    "    \"archive-es\":\"archivo\",\n",
    "    \"about us-es\":\"sobre nosotros\",\n",
    "    \"source:-es\":\"fuente:\",\n",
    "    \"journal pacifique-pt\":\"jornal pacífico\", \n",
    "    \"homepage-pt\":\"pagina inicial\", \n",
    "    \"archive-pt\":\"arquivo\",\n",
    "    \"about us-pt\":\"sobre nós\",\n",
    "    \"source:-pt\":\"fonte:\",\n",
    "    \"journal pacifique-zh-CN\":\"和平的报纸\", \n",
    "    \"homepage-zh-CN\":\"主页\", \n",
    "    \"archive-zh-CN\":\"档案\",\n",
    "    \"about us-zh-CN\":\"关于我们\",\n",
    "    \"source:-zh-CN\":\"资源\",\n",
    "    \"journal pacifique-pl\":\"spokojna gazeta\", \n",
    "    \"homepage-pl\":\"strona główna\", \n",
    "    \"archive-pl\":\"archiwum\",\n",
    "    \"about us-pl\":\"o nas\",\n",
    "    \"source:-pl\":\"źródło\",\n",
    "}"
   ]
  },
  {
   "cell_type": "code",
   "execution_count": 12,
   "metadata": {
    "colab": {},
    "colab_type": "code",
    "id": "tyhS7v6RUPR4"
   },
   "outputs": [],
   "source": [
    "def url_to_dirfile(url,target_language):\n",
    "\n",
    "    ar_di = sciencedaily_parse_article(url)\n",
    "\n",
    "    htmlx = dic_to_dirfile(ar_di,target_language, elements_dictionary)\n",
    "  \n",
    "    return [htmlx,ar_di]"
   ]
  },
  {
   "cell_type": "code",
   "execution_count": 13,
   "metadata": {
    "colab": {},
    "colab_type": "code",
    "id": "un2GoaZampVw"
   },
   "outputs": [],
   "source": [
    "articles = [\"https://www.sciencedaily.com/releases/2019/09/190910080021.htm\",\n",
    "            \"https://www.sciencedaily.com/releases/2019/09/190911174649.htm\",\n",
    "            \"https://www.sciencedaily.com/releases/2019/09/190911142815.htm\",\n",
    "            \"https://www.sciencedaily.com/releases/2019/09/190911142740.htm\",\n",
    "            \"https://www.sciencedaily.com/releases/2019/09/190911142736.htm\",\n",
    "            \"https://www.sciencedaily.com/releases/2019/09/190911121952.htm\",\n",
    "            \"https://www.sciencedaily.com/releases/2019/09/190903084035.htm\",\n",
    "            \"https://www.sciencedaily.com/releases/2019/09/190905145348.htm\",\n",
    "            \"https://www.sciencedaily.com/releases/2019/09/190904125337.htm\",\n",
    "           ]   \n",
    "            \n",
    "languages = [\"es\",\"pt\",\"pl\",\"zh-CN\"]"
   ]
  },
  {
   "cell_type": "code",
   "execution_count": 14,
   "metadata": {
    "colab": {},
    "colab_type": "code",
    "id": "0Or4n3Fx01Mu"
   },
   "outputs": [],
   "source": [
    "headlinessofar = []\n",
    "articlessofar  = {}"
   ]
  },
  {
   "cell_type": "code",
   "execution_count": 15,
   "metadata": {
    "colab": {
     "base_uri": "https://localhost:8080/",
     "height": 445
    },
    "colab_type": "code",
    "id": "F5uaV7Za0s9w",
    "outputId": "35e8c518-e19b-434f-de85-c868a2a66490"
   },
   "outputs": [
    {
     "name": "stdout",
     "output_type": "stream",
     "text": [
      "headline\n",
      "meta\n",
      "article\n",
      "imgalt\n",
      "{'headline': 'Según un nuevo estudio, una nueva especie de reptil volador fue uno de los animales voladores más grandes de la historia ', 'article': '\\nCryodrakon boreas, del grupo de pterosaurios Azhdarchid (a menudo incorrectamente llamados \\'pterodáctilos\\'), era un reptil volador con una envergadura de hasta 10 metros que vivió durante el período Cretácico hace unos 77 millones de años.\\n\\nSus restos fueron descubiertos hace 30 años en Alberta, Canadá, pero los paleontólogos habían asumido que pertenecían a una especie de pterosaurio ya conocida descubierta en Texas, EE. UU., Llamada Quetzalcoatlus.\\n\\nEl estudio, publicado en el Journal of Vertebrate Paleontology, revela que en realidad es una nueva especie y el primer pterosaurio descubierto en Canadá.\\n\\nEl Dr. David Hone, autor principal del estudio de la Universidad Queen Mary de Londres, dijo: \"Este es un descubrimiento genial, sabíamos que este animal estaba aquí, pero ahora podemos demostrar que es diferente a otros azhdarchids y por eso recibe un nombre\".\\n\\nAunque los restos, que consisten en un esqueleto que tiene parte de las alas, piernas, cuello y costillas, fueron asignados originalmente a Quetzalcoatlus, el estudio de esto y el material adicional descubierto a lo largo de los años muestra que es una especie diferente a la luz de la creciente comprensión. de la diversidad azhdarchid.\\n\\nEl esqueleto principal es de un animal joven con una envergadura de unos 5 metros, pero un hueso del cuello gigante de otro espécimen sugiere que un animal adulto tendría una envergadura de unos 10 metros.\\n\\nEsto hace que el Cryodrakon boreas sea comparable en tamaño a otros azhdarquidos gigantes, incluido el Quetzalcoatlus texano, que podría alcanzar los 10,5 m de envergadura y pesar alrededor de 250 kg.\\n\\nAl igual que otros azhdarquidos, estos animales eran carnívoros y predominantemente depredadores de animales pequeños que probablemente incluirían lagartos, mamíferos e incluso dinosaurios bebés.\\n\\nEl Dr. Hone agregó: \"Es genial que podamos identificar a Cryodrakon como algo distinto de Quetzalcoatlus, ya que significa que tenemos una mejor imagen de la diversidad y evolución de los pterosaurios depredadores en América del Norte\".\\n\\nA diferencia de la mayoría de los grupos de pterosaurios, los azhdarquidos se conocen principalmente de entornos terrestres y, a pesar de su capacidad probable de cruzar distancias oceánicas en vuelo, se los considera en general animales que se adaptaron y vivieron en ambientes interiores.\\n\\nA pesar de su gran tamaño y su distribución en América del Norte y del Sur, Asia, África y Europa, se conocen pocos azhdarquidos por restos más que fragmentarios. Esto hace que Cryodrakon sea un animal importante ya que tiene huesos muy bien conservados e incluye múltiples individuos de diferentes tamaños.\\n\\n', 'imgalt': ' Ilustración de pterosaurios en vuelo (imagen de stock).', 'meta': '. Una especie de pterosaurio recientemente identificada se encuentra entre los animales voladores más grandes de la historia.\\n'}\n",
      "{'source:-pt': 'fonte:', 'archive-zh-CN': '档案', 'journal pacifique-es': 'periódico pacífico', 'source:-pl': 'źródło', 'archive-es': 'archivo', 'about us-es': 'sobre nosotros', 'source:-es': 'fuente:', 'archive-pl': 'archiwum', 'homepage-zh-CN': '主页', 'homepage-pt': 'pagina inicial', 'journal pacifique-pt': 'jornal pacífico', 'archive-pt': 'arquivo', 'journal pacifique-zh-CN': '和平的报纸', 'about us-pl': 'o nas', 'about us-zh-CN': '关于我们', 'homepage-pl': 'strona główna', 'source:-zh-CN': '资源', 'homepage-es': 'página principal', 'about us-pt': 'sobre nós', 'journal pacifique-pl': 'spokojna gazeta'}\n",
      "headline\n",
      "meta\n",
      "article\n",
      "imgalt\n",
      "{'headline': 'Novas espécies de répteis voadores foram um dos maiores animais que já voaram ', 'article': '\\nCryodrakon boreas, do grupo de pterossauros de Azhdarchid (muitas vezes chamado incorretamente de \\'pterodáctilos\\'), era um réptil voador com envergadura de até 10 metros que viveu durante o período Cretáceo, cerca de 77 milhões de anos atrás.\\n\\nSeus restos foram descobertos há 30 anos em Alberta, no Canadá, mas os paleontólogos haviam assumido que pertenciam a uma espécie já conhecida de pterossauro descoberta no Texas, EUA, chamada Quetzalcoatlus.\\n\\nO estudo, publicado no Journal of Vertebrate Paleontology, revela que é realmente uma nova espécie e o primeiro pterossauro a ser descoberto no Canadá.\\n\\nO Dr. David Hone, principal autor do estudo da Universidade Queen Mary de Londres, disse: \"Esta é uma descoberta interessante, sabíamos que este animal estava aqui, mas agora podemos mostrar que é diferente de outros azhdarchids e, portanto, ganha um nome\".\\n\\nEmbora os restos mortais, constituídos por um esqueleto com parte das asas, pernas, pescoço e costela, tenham sido originalmente atribuídos a Quetzalcoatlus, o estudo deste e de outro material descoberto ao longo dos anos mostra que é uma espécie diferente à luz do entendimento crescente da diversidade azhdarchid.\\n\\nO esqueleto principal é de um animal jovem com uma envergadura de cerca de 5 metros, mas um osso do pescoço gigante de outro espécime sugere que um animal adulto teria uma envergadura de cerca de 10 metros.\\n\\nIsso torna o Cryodrakon boreas comparável em tamanho a outros azharchids gigantes, incluindo o Texan Quetzalcoatlus, que pode atingir 10,5 m de envergadura e pesar cerca de 250 kg.\\n\\nComo outros azhdarchids, esses animais eram carnívoros e predominavam em pequenos animais, o que provavelmente incluiria lagartos, mamíferos e até dinossauros bebês.\\n\\nO Dr. Hone acrescentou: \"É ótimo que possamos identificar Cryodrakon como sendo distinto de Quetzalcoatlus, pois significa que temos uma melhor imagem da diversidade e evolução dos pterossauros predadores na América do Norte\".\\n\\nAo contrário da maioria dos grupos de pterossauros, os azhdarchids são conhecidos principalmente em ambientes terrestres e, apesar de sua provável capacidade de atravessar distâncias oceânicas em vôo, eles são amplamente considerados animais adaptados e vividos em ambientes interiores.\\n\\nApesar de seu grande tamanho e distribuição nas Américas do Norte e do Sul, Ásia, África e Europa, poucas azhdarchids são conhecidas em mais do que restos fragmentários. Isso faz do Cryodrakon um animal importante, pois possui ossos muito bem preservados e inclui vários indivíduos de tamanhos diferentes.\\n\\n', 'imgalt': ' Ilustração de pterossauros em voo (imagem).', 'meta': ' Uma espécie de pterossauro recém-identificada está entre os maiores animais que já voaram, de acordo com um novo estudo.\\n'}\n",
      "{'source:-pt': 'fonte:', 'archive-zh-CN': '档案', 'journal pacifique-es': 'periódico pacífico', 'source:-pl': 'źródło', 'archive-es': 'archivo', 'about us-es': 'sobre nosotros', 'source:-es': 'fuente:', 'archive-pl': 'archiwum', 'homepage-zh-CN': '主页', 'homepage-pt': 'pagina inicial', 'journal pacifique-pt': 'jornal pacífico', 'archive-pt': 'arquivo', 'journal pacifique-zh-CN': '和平的报纸', 'about us-pl': 'o nas', 'about us-zh-CN': '关于我们', 'homepage-pl': 'strona główna', 'source:-zh-CN': '资源', 'homepage-es': 'página principal', 'about us-pt': 'sobre nós', 'journal pacifique-pl': 'spokojna gazeta'}\n",
      "headline\n",
      "meta\n",
      "article\n",
      "imgalt\n",
      "{'headline': 'Nowe gatunki latających gadów były jednym z największych kiedykolwiek latających zwierząt ', 'article': '\\nCryodrakon boreas, z grupy pterozaurów z Azhdarchid (często błędnie zwanych „pterodaktylami”), był latającym gadem o rozpiętości skrzydeł do 10 metrów, który żył w okresie kredowym około 77 milionów lat temu.\\n\\nJego szczątki zostały odkryte 30 lat temu w Albercie w Kanadzie, ale paleontolodzy założyli, że należą do znanego już gatunku pterozaura odkrytego w Teksasie w USA, zwanego Quetzalcoatlus.\\n\\nBadanie, opublikowane w Journal of Vertebrate Paleontology, ujawnia, że \\u200b\\u200bjest to właściwie nowy gatunek i pierwszy pterozaur odkryty w Kanadzie.\\n\\nDr David Hone, główny autor badania z Queen Mary University of London, powiedział: „To fajne odkrycie, wiedzieliśmy, że to zwierzę było tutaj, ale teraz możemy pokazać, że różni się od innych azhdarchidów, a więc ma swoją nazwę”.\\n\\nChociaż szczątki składające się ze szkieletu, który ma część skrzydeł, nóg, szyi i żebra, zostały pierwotnie przypisane Quetzalcoatlus, badania tego i dodatkowego materiału odkrytego przez lata pokazują, że jest to inny gatunek w świetle rosnącego zrozumienia różnorodności azhdarchid.\\n\\nGłówny szkielet pochodzi od młodego zwierzęcia o rozpiętości skrzydeł około 5 metrów, ale jedna gigantyczna kość szyi z innego okazu sugeruje, że dorosłe zwierzę miałoby rozpiętość skrzydeł około 10 metrów.\\n\\nTo sprawia, że \\u200b\\u200botwory Cryodrakon są porównywalne pod względem wielkości z innymi gigantycznymi azhdarchidami, w tym Texan Quetzalcoatlus, który mógłby osiągnąć rozpiętość skrzydeł 10,5 m i ważyć około 250 kg.\\n\\nPodobnie jak inne azhdarchidy, zwierzęta te były mięsożerne i przeważnie drapieżne w stosunku do małych zwierząt, które prawdopodobnie obejmowałyby jaszczurki, ssaki, a nawet małe dinozaury.\\n\\nDr Hone dodał: „To wspaniałe, że możemy zidentyfikować Cryodrakon jako odrębny od Quetzalcoatlus, ponieważ oznacza to, że mamy lepszy obraz różnorodności i ewolucji drapieżnych pterozaurów w Ameryce Północnej”.\\n\\nW przeciwieństwie do większości grup pterozaurów, azhdarchidy są znane przede wszystkim ze środowisk lądowych i pomimo ich prawdopodobnej zdolności do pokonywania oceanicznych odległości w locie, są powszechnie uważane za zwierzęta, które zostały przystosowane i żyły w środowisku śródlądowym.\\n\\nPomimo ich dużych rozmiarów i rozmieszczenia w Ameryce Północnej i Południowej, Azji, Afryce i Europie, niewiele azhdarchidów jest znanych z bardziej niż fragmentarycznych szczątków. To sprawia, że \\u200b\\u200bCryodrakon jest ważnym zwierzęciem, ponieważ ma bardzo dobrze zachowane kości i obejmuje wiele osobników o różnych rozmiarach.\\n\\n', 'imgalt': ' Ilustracja pterozaurów w locie (obraz czasowy).', 'meta': '. Według nowych badań nowo zidentyfikowany gatunek pterozaura jest jednym z największych kiedykolwiek latających zwierząt.\\n'}\n",
      "{'source:-pt': 'fonte:', 'archive-zh-CN': '档案', 'journal pacifique-es': 'periódico pacífico', 'source:-pl': 'źródło', 'archive-es': 'archivo', 'about us-es': 'sobre nosotros', 'source:-es': 'fuente:', 'archive-pl': 'archiwum', 'homepage-zh-CN': '主页', 'homepage-pt': 'pagina inicial', 'journal pacifique-pt': 'jornal pacífico', 'archive-pt': 'arquivo', 'journal pacifique-zh-CN': '和平的报纸', 'about us-pl': 'o nas', 'about us-zh-CN': '关于我们', 'homepage-pl': 'strona główna', 'source:-zh-CN': '资源', 'homepage-es': 'página principal', 'about us-pt': 'sobre nós', 'journal pacifique-pl': 'spokojna gazeta'}\n",
      "headline\n",
      "meta\n",
      "article\n",
      "imgalt\n"
     ]
    },
    {
     "name": "stdout",
     "output_type": "stream",
     "text": [
      "{'headline': '新的飞行爬行动物物种是有史以来最大的飞行动物之一', 'article': '\\n来自Azhdarchid翼龙（通常被错误地称为“翼龙”）的Cryodrakon boreas是一种飞行爬行动物，翼展高达10米，生活在大约7700万年前的白垩纪时期。\\n\\n它的遗体是30年前在加拿大阿尔伯塔省发现的，但古生物学家认为它们属于在美国德克萨斯州发现的已知的翼龙种，名为Quetzalcoatlus。\\n\\n该研究发表在“脊椎动物古生物学杂志”上，揭示它实际上是一种新物种，也是加拿大首次发现的翼龙。\\n\\n来自伦敦玛丽女王大学的研究报告的第一作者David Hone博士说：“这是一个很酷的发现，我们知道这种动物就在这里，但现在我们可以证明它与其他azhdarchids有所不同，所以它得名。”\\n\\n虽然由具有部分翅膀，腿部，颈部和肋骨的骨架组成的遗骸最初被分配给Quetzalcoatlus，但多年来发现的这种和其他材料的研究表明，鉴于人们日益增长的理解，它是一个不同的物种。 azhdarchid多样性。\\n\\n主要骨骼来自一只翼展约5米的幼小动物，但另一个标本的一个巨大骨颈表明成年动物的翼展约为10米。\\n\\n这使得Cryodrakon boreas在尺寸上与其他巨型azhdacids相当，包括Texan Quetzalcoatlus，翼展可达10.5米，重约250公斤。\\n\\n像其他azhdarchids一样，这些动物是食肉动物，主要以小动物为主，可能包括蜥蜴，哺乳动物甚至婴儿恐龙。\\n\\nHone博士补充说：“我们可以确定Cryodrakon与Quetzalcoatlus不同，因为它意味着我们可以更好地了解北美掠食性翼龙的多样性和进化。”\\n\\n与大多数翼龙群不同，azhdarchids主要来自陆地环境，尽管它们有可能在飞行中穿越海洋距离，但它们被广泛认为是适应和生活在内陆环境中的动物。\\n\\n尽管它们规模庞大，分布在北美洲，南美洲，亚洲，非洲和欧洲，但很少有人知道它们不仅仅是零碎的遗骸。这使得Cryodrakon成为一种重要的动物，因为它具有保存完好的骨骼，并且包括多个不同大小的个体。\\n\\n', 'imgalt': '翼龙在飞行中的插图（股票图像）。', 'meta': '根据一项新的研究，新发现的翼龙种类是有史以来最大的飞行动物之一。\\n'}\n",
      "{'source:-pt': 'fonte:', 'archive-zh-CN': '档案', 'journal pacifique-es': 'periódico pacífico', 'source:-pl': 'źródło', 'archive-es': 'archivo', 'about us-es': 'sobre nosotros', 'source:-es': 'fuente:', 'archive-pl': 'archiwum', 'homepage-zh-CN': '主页', 'homepage-pt': 'pagina inicial', 'journal pacifique-pt': 'jornal pacífico', 'archive-pt': 'arquivo', 'journal pacifique-zh-CN': '和平的报纸', 'about us-pl': 'o nas', 'about us-zh-CN': '关于我们', 'homepage-pl': 'strona główna', 'source:-zh-CN': '资源', 'homepage-es': 'página principal', 'about us-pt': 'sobre nós', 'journal pacifique-pl': 'spokojna gazeta'}\n",
      "headline\n",
      "meta\n",
      "article\n",
      "imgalt\n",
      "{'headline': \"Se necesita un 'consorcio': los investigadores desarrollan una técnica de ingeniería metabólica \", 'article': '\\nPero alterar los procesos genéticos y reguladores que tienen lugar dentro de las células presenta desafíos.\\n\\nPara comenzar, las células ya están programadas para llevar a cabo sus procesos normales y cotidianos con la máxima eficiencia; cualquier alteración que hagan los ingenieros para aumentar la producción de una determinada sustancia en una célula puede, a su vez, alterar estos procesos y sobrecargar la célula.\\n\\nPara abordar este problema, William E. Bentley, profesor de bioingeniería de la Universidad de Maryland y director del Instituto Robert E. Fischell para Dispositivos Biomédicos de la universidad, está trabajando con un equipo de investigadores para centrarse en la ingeniería de consorcios microbianos, en los que las subpoblaciones celulares están diseñadas para trabajar juntos para llevar a cabo una función deseada. Esta estrategia, que otros en el campo también han explorado, permite a los ingenieros diseñar celdas especializadas y repartir la carga de trabajo objetivo entre un grupo de celdas. La desventaja es que conducir un consorcio para llevar a cabo un conjunto específico de tareas requiere que los ingenieros regulen de alguna manera cuántas de cada subpoblación de células están presentes.\\n\\nA pesar de este desafío, pocos estudios científicos se han centrado en el desarrollo de dispositivos o sistemas que puedan regular las composiciones de subpoblaciones celulares dentro de un consorcio. Muy a menudo, tales estudios requieren que los ingenieros confíen en técnicas manuales o controladas por el usuario para lograr un equilibrio entre las subpoblaciones de células.\\n\\nComo tal, Bentley y su equipo se dieron cuenta de que un enfoque más poderoso sería rediseñar las células para coordinar sus densidades de subpoblación de forma autónoma. Su técnica se destacó en un artículo de Nature Communications publicado hoy.\\n\\nAl igual que otros en el campo, Bentley y los miembros de su Laboratorio de Ingeniería Biomolecular y Metabólica investigaron previamente la detección de quórum (QS), una forma bacteriana de comunicación de célula a célula, para diseñar circuitos de comunicación entre cepas bacterianas y entre ellas para coordinar sus comportamientos. . El QS implica la síntesis de pequeñas moléculas de señalización, llamadas autoinductores (AI), que son secretadas por bacterias individuales pero que sirven para coordinar sus respuestas. Una vez que el nivel de AI alcanza un umbral, señalando un \"quórum\" de células, las señales de AI se transportan intracelularmente, donde activan la expresión génica y permiten respuestas coordinadas.\\n\\nPero, Bentley y su equipo llevaron la investigación un paso más allá. El grupo desarrolló la primera plataforma conocida para la regulación autónoma y dirigida de la composición de consorcios basada en la presencia de una señal ambiental conocida como autoinductor-2 (AI-2). AI-2 se considera una señal QS universal, lo que significa que es reconocida y producida por muchas especies de bacterias. En términos generales, indica la densidad de la población celular, y se considera una señal importante en consorcios y microbiomas naturales.\\n\\nPara crear un sistema autónomo, Bentley y su equipo volvieron a cablear los sistemas QS bacterianos en juego en dos cepas de E. coli para que la tasa de crecimiento de las subpoblaciones de células comunicantes dentro de los consorcios se dictara mediante la señalización entre las células. Su sistema funciona como un circuito de retroalimentación. La primera cepa detecta AI-2 y, en respuesta, produce una salida de autoinductor-1 (AI-1). La segunda cepa de E. coli, considerada la cepa \"controladora\", está diseñada para llevar a cabo una tasa de crecimiento ajustable de señales de las células del consorcio, regulada por nada menos que el AI-1 producido por la primera cepa. De esta manera, el sistema del equipo emplea su propio proceso de controles y equilibrios entre AI-1 y AI-2 que, a su vez, regula la composición de los consorcios sintéticos.\\n\\n\"Cada vez más, los consorcios de microbios tendrán la tarea de convertir las materias primas en productos valiosos\", dijo Bentley. \"Las materias primas pueden ser desechos o subproductos de procesos industriales. Las capacidades sintéticas de los consorcios pueden superar con creces las de los monocultivos puros, por lo que se necesitarán metodologías que ayuden a alinear los consorcios. Esto podría resultar especialmente valioso en situaciones donde el equipo de procesamiento no es disponible, como en el tracto gastrointestinal (GI) \".\\n\\n', 'imgalt': '', 'meta': ' Durante años, los científicos han explorado formas de alterar las células de los microorganismos en un esfuerzo por mejorar la cantidad de productos que se fabrican, incluidos los medicamentos, los combustibles e incluso la cerveza. Pero alterar los procesos genéticos y reguladores que tienen lugar dentro de las células presenta desafíos. Ahora, bioingenieros está trabajando con un equipo de investigadores para diseñar consorcios microbianos, en los que las subpoblaciones celulares están diseñadas para trabajar juntas para llevar a cabo una función deseada.\\n'}\n",
      "{'source:-pt': 'fonte:', 'archive-zh-CN': '档案', 'journal pacifique-es': 'periódico pacífico', 'source:-pl': 'źródło', 'archive-es': 'archivo', 'about us-es': 'sobre nosotros', 'source:-es': 'fuente:', 'archive-pl': 'archiwum', 'homepage-zh-CN': '主页', 'homepage-pt': 'pagina inicial', 'journal pacifique-pt': 'jornal pacífico', 'archive-pt': 'arquivo', 'journal pacifique-zh-CN': '和平的报纸', 'about us-pl': 'o nas', 'about us-zh-CN': '关于我们', 'homepage-pl': 'strona główna', 'source:-zh-CN': '资源', 'homepage-es': 'página principal', 'about us-pt': 'sobre nós', 'journal pacifique-pl': 'spokojna gazeta'}\n",
      "headline\n",
      "meta\n",
      "article\n",
      "imgalt\n",
      "{'headline': \"É preciso um 'consórcio': os pesquisadores desenvolvem a técnica de engenharia metabólica \", 'article': '\\nPorém, alterar os processos genéticos e regulatórios que ocorrem dentro das células apresenta desafios.\\n\\nPara começar, as células já estão programadas para realizar seus processos cotidianos normais com a máxima eficiência; quaisquer alterações feitas pelos engenheiros para aumentar a produção de uma determinada substância por uma célula podem, por sua vez, perturbar esses processos e sobrecarregar a célula.\\n\\nPara resolver esse problema, William E. Bentley, professor de bioengenharia da Universidade de Maryland e diretor do Instituto de Dispositivos Biomédicos Robert E. Fischell da universidade, está trabalhando com uma equipe de pesquisadores para se concentrar em consórcios microbianos de engenharia, nos quais as subpopulações de células são projetadas para trabalhem juntos para realizar a função desejada. Essa estratégia, que outras pessoas no campo também exploraram, permite que os engenheiros projetem células especializadas e dividam a carga de trabalho de destino entre um grupo de células. A desvantagem é que levar um consórcio a realizar um conjunto específico de tarefas exige que os engenheiros regulem de alguma forma quantas de cada subpopulação de células estão presentes.\\n\\nApesar desse desafio, poucos estudos científicos se concentraram no desenvolvimento de dispositivos ou sistemas que poderiam regular as composições de subpopulações celulares dentro de um consórcio. Na maioria das vezes, esses estudos exigem que os engenheiros confiem em técnicas manuais ou controladas pelo usuário para encontrar um equilíbrio entre as subpopulações de células.\\n\\nComo tal, Bentley e sua equipe perceberam que uma abordagem mais poderosa seria reengenharia das próprias células para coordenar autonomamente suas densidades de subpopulação. Sua técnica foi destacada em um artigo da Nature Communications publicado hoje.\\n\\nComo outros especialistas em campo, Bentley e membros de seu Laboratório de Engenharia Biomolecular e Metabólica já haviam investigado a detecção de quorum (QS), uma forma bacteriana de comunicação célula a célula, para projetar circuitos de comunicação entre e entre as cepas bacterianas, a fim de coordenar seus comportamentos. . O QS envolve a síntese de pequenas moléculas de sinalização, chamadas autoindutores (AI), que são secretadas por bactérias individuais, mas servem para coordenar suas respostas. Quando o nível de IA atinge um limiar, sinalizando um \"quorum\" de células, os sinais de AI são transportados intracelularmente, onde ativam a expressão gênica e permitem respostas coordenadas.\\n\\nMas Bentley e sua equipe deram um passo à frente na pesquisa. O grupo desenvolveu a primeira plataforma conhecida para regulação autônoma e direcionada da composição de consórcios com base na presença de uma sugestão ambiental conhecida como autoindutor-2 (AI-2). O AI-2 é considerado um sinal QS universal, o que significa que é reconhecido e produzido por muitas espécies de bactérias. Indica amplamente a densidade populacional celular e é considerado um sinal importante em consórcios e microbiomas que ocorrem naturalmente.\\n\\nPara criar um sistema autônomo, Bentley e sua equipe reconectaram os sistemas bacterianos de QS em jogo em duas linhagens de E. coli, de modo que a taxa de crescimento das subpopulações de células comunicantes nos consórcios seria ditada pela sinalização entre as células. O sistema deles funciona como um loop de feedback. A primeira cepa detecta AI-2 e, em resposta, produz uma saída do autoindutor-1 (AI-1). A segunda cepa de E. coli, considerada a cepa \"controladora\", é projetada para realizar uma taxa de crescimento sintonizável, orientada por sinal, das células dos consórcios, regulada por ninguém menos que a AI-1 produzida pela primeira cepa. Dessa forma, o sistema da equipe emprega seu próprio processo de verificação e equilíbrio entre AI-1 e AI-2 que, por sua vez, regula a composição de consórcios sintéticos.\\n\\n\"Cada vez mais, consórcios de micróbios terão a tarefa de converter matérias-primas em produtos valiosos\", disse Bentley. \"As matérias-primas podem ser resíduos ou subprodutos de processos industriais. As capacidades sintéticas dos consórcios podem superar em muito as das monoculturas puras, portanto serão necessárias metodologias que ajudem a alinhar os consórcios. Isso pode ser especialmente valioso em situações onde o equipamento de processamento não é disponíveis, como no trato gastrointestinal (GI). \"\\n\\n', 'imgalt': '', 'meta': '. Durante anos, os cientistas exploraram maneiras de alterar as células dos microorganismos nos esforços para melhorar a quantidade de produtos fabricados, incluindo medicamentos, combustíveis e até cerveja. Mas alterar os processos genéticos e regulatórios que ocorrem dentro das células apresenta desafios. Agora, os bioengenheiros estão trabalhando com uma equipe de pesquisadores para projetar consórcios microbianos, em que as subpopulações de células são projetadas para trabalharem em conjunto para realizar a função desejada.\\n'}\n",
      "{'source:-pt': 'fonte:', 'archive-zh-CN': '档案', 'journal pacifique-es': 'periódico pacífico', 'source:-pl': 'źródło', 'archive-es': 'archivo', 'about us-es': 'sobre nosotros', 'source:-es': 'fuente:', 'archive-pl': 'archiwum', 'homepage-zh-CN': '主页', 'homepage-pt': 'pagina inicial', 'journal pacifique-pt': 'jornal pacífico', 'archive-pt': 'arquivo', 'journal pacifique-zh-CN': '和平的报纸', 'about us-pl': 'o nas', 'about us-zh-CN': '关于我们', 'homepage-pl': 'strona główna', 'source:-zh-CN': '资源', 'homepage-es': 'página principal', 'about us-pt': 'sobre nós', 'journal pacifique-pl': 'spokojna gazeta'}\n",
      "headline\n",
      "meta\n",
      "article\n",
      "imgalt\n"
     ]
    },
    {
     "name": "stdout",
     "output_type": "stream",
     "text": [
      "{'headline': 'To wymaga „konsorcjum”: naukowcy opracowują technikę inżynierii metabolicznej ', 'article': '\\nJednak zmiana procesów genetycznych i regulacyjnych zachodzących w komórkach stanowi wyzwanie.\\n\\nNa początek komórki są już zaprogramowane do wykonywania swoich normalnych, codziennych procesów z maksymalną wydajnością; wszelkie zmiany dokonywane przez inżynierów w celu zwiększenia produkcji określonej substancji przez komórkę mogą z kolei zaburzyć te procesy i przeciążyć komórkę.\\n\\nAby rozwiązać ten problem, William E. Bentley, profesor bioinżynierii z University of Maryland i dyrektor uniwersytetu Robert E. Fischell Institute for Biomedical Devices, współpracuje z zespołem naukowców, aby skupić się na inżynierii mikrobiologicznych konsorcjów, w których subpopulacje komórek są zaprojektowane tak, aby współpracować, aby wykonać pożądaną funkcję. Ta strategia, którą również badali inni w tej dziedzinie, pozwala inżynierom projektować wyspecjalizowane komórki i dzielić docelowy nakład pracy między grupę komórek. Kompromis polega na tym, że doprowadzenie konsorcjum do wykonania określonego zestawu zadań wymaga od inżynierów regulacji w jaki sposób każdej z subpopulacji komórek jest obecnych.\\n\\nPomimo tego wyzwania niewiele badań naukowych koncentrowało się na opracowaniu urządzeń lub systemów, które mogłyby regulować skład subpopulacji komórkowych w ramach konsorcjum. Najczęściej takie badania wymagają od inżynierów polegania na technikach manualnych lub kontrolowanych przez użytkownika w celu osiągnięcia równowagi między subpopulacjami komórek.\\n\\nW związku z tym Bentley i jego zespół zdali sobie sprawę, że silniejszym podejściem byłoby przeprojektowanie samych komórek w celu autonomicznego koordynowania ich gęstości zaludnienia. Ich technika została podkreślona w opublikowanym dzisiaj dokumencie Nature Communications.\\n\\nPodobnie jak inni w tej dziedzinie, Bentley i członkowie jego Biomolecular and Metabolic Engineering Lab wcześniej badali wykrywanie kworum (QS), bakteryjną formę komunikacji między komórkami, w celu zaprojektowania obwodów komunikacyjnych między szczepami bakteryjnymi w celu skoordynowania ich zachowań . QS obejmuje syntezę małych cząsteczek sygnałowych, zwanych autoinduktorami (AI), które są wydzielane przez poszczególne bakterie, ale służą do koordynowania ich odpowiedzi. Gdy poziom AI osiągnie próg, sygnalizując „kworum” komórek, sygnały AI są transportowane wewnątrzkomórkowo, gdzie aktywują ekspresję genów i umożliwiają skoordynowane odpowiedzi.\\n\\nAle Bentley i jego zespół posunęli badania o krok dalej. Grupa opracowała pierwszą znaną platformę do autonomicznej i ukierunkowanej regulacji składu konsorcjów w oparciu o obecność wskazówki środowiskowej znanej jako autoinducer-2 (AI-2). AI-2 jest uważany za uniwersalny sygnał QS, co oznacza, że \\u200b\\u200bjest rozpoznawany i wytwarzany przez wiele gatunków bakterii. Ogólnie wskazuje gęstość populacji komórek i jest uważany za ważny sygnał w naturalnie występujących konsorcjach i mikrobiomach.\\n\\nAby stworzyć autonomiczny system, Bentley i jego zespół ponownie powiązali bakteryjne systemy QS podczas gry w dwóch szczepach E. coli, tak aby tempo wzrostu komunikujących się subpopulacji komórek w konsorcjach było podyktowane sygnalizacją między komórkami. Ich system działa jak pętla sprzężenia zwrotnego. Pierwszy szczep wykrywa AI-2 i, w odpowiedzi, daje wynik działania autoindulatora-1 (AI-1). Drugi szczep E. coli, uważany za szczep „kontrolujący”, jest zaprojektowany do przeprowadzania sterowanej sygnałem, przestrajalnej szybkości wzrostu komórek konsorcjów, regulowanej przez nic innego niż AI-1 wytwarzany przez pierwszy szczep. W ten sposób system zespołu stosuje własny proces kontroli i równowagi między AI-1 a AI-2, który z kolei reguluje skład syntetycznych konsorcjów.\\n\\n„Coraz częściej konsorcja mikrobów będą miały za zadanie przekształcanie surowców w cenne produkty” - powiedział Bentley. „Surowce mogą być odpadami lub produktami ubocznymi procesów przemysłowych. Syntetyczne możliwości konsorcjów mogą znacznie przewyższać możliwości czystych monokultur, dlatego potrzebne będą metodologie, które pomogą wyrównać konsorcja. Może to okazać się szczególnie cenne w sytuacjach, w których sprzęt przetwarzający nie jest dostępne, na przykład w przewodzie pokarmowym. ”\\n\\n', 'imgalt': '', 'meta': ' Przez lata naukowcy badali sposoby modyfikowania komórek mikroorganizmów, starając się poprawić liczbę wytwarzanych produktów, w tym leków, paliw, a nawet piwa. Ale zmiana procesów genetycznych i regulacyjnych zachodzących w komórkach stanowi wyzwanie. Teraz bioinżynierowie współpracują z zespołem naukowców w celu opracowania konsorcjów mikrobiologicznych, w których subpopulacje komórek są zaprojektowane do współpracy w celu spełnienia pożądanej funkcji.\\n'}\n",
      "{'source:-pt': 'fonte:', 'archive-zh-CN': '档案', 'journal pacifique-es': 'periódico pacífico', 'source:-pl': 'źródło', 'archive-es': 'archivo', 'about us-es': 'sobre nosotros', 'source:-es': 'fuente:', 'archive-pl': 'archiwum', 'homepage-zh-CN': '主页', 'homepage-pt': 'pagina inicial', 'journal pacifique-pt': 'jornal pacífico', 'archive-pt': 'arquivo', 'journal pacifique-zh-CN': '和平的报纸', 'about us-pl': 'o nas', 'about us-zh-CN': '关于我们', 'homepage-pl': 'strona główna', 'source:-zh-CN': '资源', 'homepage-es': 'página principal', 'about us-pt': 'sobre nós', 'journal pacifique-pl': 'spokojna gazeta'}\n",
      "headline\n",
      "meta\n",
      "article\n",
      "imgalt\n",
      "{'headline': '需要一个“联合体”：研究人员开发代谢工程技术', 'article': '\\n但是，改变细胞内发生的遗传和调节过程带来了挑战。\\n\\n首先，细胞已经被编程，以最高效率执行正常的日常过程;工程师为增加细胞产生某种物质所做的任何改变反过来会破坏这些过程并使细胞负担过重。\\n\\n为了解决这个问题，马里兰大学生物工程教授兼大学Robert E. Fischell生物医学设备研究所所长William E. Bentley正在与一组研究人员合作，专注于工程微生物聚生体，其中细胞亚群设计为共同努力，实现理想的功能。该战略，该领域的其他人也在探索，允许工程师设计专门的单元格，并在一组单元格中分配目标工作负载。权衡是驱动财团执行一系列特定任务需要工程师以某种方式调节每个细胞亚群的存在量。\\n\\n尽管面临这一挑战，但很少有科学研究专注于开发可以调节联盟内细胞亚群组成的装置或系统。大多数情况下，此类研究要求工程师依靠手动或用户控制的技术在细胞亚群之间取得平衡。\\n\\n因此，Bentley和他的团队意识到更强大的方法是重新设计细胞本身以自主地协调其亚群密度。他们的技术在今天发表的Nature Communications论文中得到了强调。\\n\\n与该领域的其他人一样，Bentley及其生物分子和代谢工程实验室的成员之前研究了群体感应（QS），一种细胞形式的细胞间通信，用于在细菌菌株之间和之间设计通信电路以协调其行为。 。 QS涉及小信号分子的合成，称为自诱导物（AI），其由个体细菌分泌但用于协调它们的反应。一旦AI水平达到阈值，发出“法定数量”的细胞信号，AI信号在细胞内转运，在那里它们激活基因表达并实现协调反应。\\n\\n但是，宾利和他的团队更进了一步。该小组开发了第一个已知的平台，用于基于存在称为自诱导剂-2（AI-2）的环境线索，对聚生体组成进行自主和有针对性的调节。 AI-2被认为是一种通用的QS信号，这意味着它被许多种细菌识别和产生。它广泛地表明细胞群密度，并且被认为是天然存在的聚生体和微生物组中的重要信号。\\n\\n为了创建一个自主系统，Bentley和他的团队在两种大肠杆菌菌株中对细菌QS系统进行了重新布线，以便在细胞群内通信细胞亚群的生长速度由细胞间的信号决定。他们的系统像反馈循环一样工作。第一个菌株检测到AI-2，并且作为响应，产生autoinducer-1（AI-1）的输出。被认为是“控制”菌株的第二种大肠杆菌菌株被设计成实现由第一菌株产生的AI-1调节的聚生细胞的信号驱动的可调节生长速率。通过这种方式，团队的系统采用了自己的AI-1和AI-2之间的检查和平衡过程，这反过来又调节了合成财团的构成。\\n\\n“越来越多的微生物联盟将负责将原材料转化为有价值的产品，”宾利说。 “原材料可能是工业过程的废物或副产品。财团的合成能力可能远远超过纯单一栽培，因此需要有助于协调财团的方法。这在加工设备不具备的情况下尤其有用。可用的，例如在胃肠（GI）道中。“\\n\\n', 'imgalt': '', 'meta': '多年来，科学家们一直在探索改变微生物细胞的方法，以改善生产多少产品，包括药品，燃料，甚至啤酒。但改变细胞内发生的遗传和调节过程带来了挑战。现在，生物工程师正在与一组研究人员合作设计微生物聚生体，其中细胞亚群被设计成一起工作以实现所需的功能。\\n'}\n",
      "{'source:-pt': 'fonte:', 'archive-zh-CN': '档案', 'journal pacifique-es': 'periódico pacífico', 'source:-pl': 'źródło', 'archive-es': 'archivo', 'about us-es': 'sobre nosotros', 'source:-es': 'fuente:', 'archive-pl': 'archiwum', 'homepage-zh-CN': '主页', 'homepage-pt': 'pagina inicial', 'journal pacifique-pt': 'jornal pacífico', 'archive-pt': 'arquivo', 'journal pacifique-zh-CN': '和平的报纸', 'about us-pl': 'o nas', 'about us-zh-CN': '关于我们', 'homepage-pl': 'strona główna', 'source:-zh-CN': '资源', 'homepage-es': 'página principal', 'about us-pt': 'sobre nós', 'journal pacifique-pl': 'spokojna gazeta'}\n",
      "headline\n",
      "meta\n",
      "article\n",
      "imgalt\n",
      "{'headline': 'Rasgos en forma de globos descubiertos cerca del centro de la Vía Láctea ', 'article': '\\nUsando el telescopio MeerKAT del Observatorio de Radioastronomía de Sudáfrica (SARAO), Ian Heywood del Departamento de Física de la Universidad de Oxford y sus colegas cartografiaron amplias regiones en el centro de la galaxia, realizando observaciones en longitudes de onda cercanas a los 23 centímetros. La emisión de radio de este tipo se genera en un proceso conocido como radiación sincrotrón, en el que los electrones que flotan libremente se aceleran al interactuar con potentes campos magnéticos. Esto produce una señal de radio característica que puede usarse para rastrear regiones energéticas en el espacio. La luz de radio vista por MeerKAT penetra las densas nubes de polvo que bloquean la luz visible desde el centro de la galaxia.\\n\\nEl autor principal, el Dr. Heywood, que procesó la gran cantidad de datos de observación que condujeron a este resultado, dijo: \\'El centro de nuestra galaxia está relativamente tranquilo en comparación con otras galaxias con agujeros negros centrales muy activos. Aun así, el agujero negro central de la Vía Láctea puede volverse inusualmente activo, encendiéndose a medida que periódicamente devora grandes masas de polvo y gas. Es posible que uno de esos frenesí alimentario desencadene poderosos estallidos que inflan esta característica nunca antes vista \\'.\\n\\nAl examinar la extensión y la morfología casi idénticas de las burbujas gemelas, los científicos creen que han encontrado evidencia convincente de que estas características se formaron a partir de una erupción violenta que durante un corto período de tiempo atravesó el medio interestelar en direcciones opuestas.\\n\\nMeerKAT tiene una sensibilidad y capacidades de imagen sin precedentes que, junto con su punto de vista geográfico para observar el centro galáctico, ha dado como resultado la imagen más clara de las ondas de radio que emanan del centro de la Vía Láctea, una parte del cielo que es notoriamente difícil para obtener imágenes a tales longitudes de onda.\\n\\nEstas nuevas capacidades de observación están desbloqueando un \"registro fósil\" que permite a los científicos reconstruir la historia del centro galáctico y el agujero negro supermasivo que acecha allí. Aunque es probable que la estructura tenga unos pocos millones de años, todavía es posible observarla, y desde allí los científicos pueden inferir de dónde vino.\\n\\nEl director de Astrofísica de la Universidad de Oxford, el profesor Steve Balbus, dijo: \"Es extremadamente emocionante poder mirar el centro de la Galaxia con tanta definición y precisión\". Este es el agujero negro supermasivo más cercano a nosotros en el Universo, y MeerKAT nos ha proporcionado asientos centrales en la primera fila. Vamos a aprender una enorme cantidad sobre cómo se alimentan los agujeros negros y cómo influyen en sus entornos. En el relativamente breve tiempo que MeerKAT ha estado funcionando, la ciencia que el equipo de Oxford ya ha producido ha sido transformadora. Oxford puede estar orgullosamente orgulloso de su participación de liderazgo en el Proyecto MeerKAT, y personalmente no puedo esperar para ver qué más hay por venir, esto es solo el comienzo de una nueva era en radioastronomía \\'.\\n\\nEl coautor, William Cotton, del Observatorio Nacional de Radioastronomía en Charlottesville, Virginia, dijo: `` La forma y simetría de lo que hemos observado sugiere fuertemente que ocurrió un evento asombrosamente poderoso hace unos millones de años muy cerca del agujero negro central de nuestra galaxia. . Esta erupción posiblemente fue provocada por grandes cantidades de gas interestelar que cayeron en el agujero negro, o por una explosión masiva de formación estelar que envió ondas de choque a través del centro galáctico. En efecto, esto infló burbujas energéticas en el gas ionizado caliente cerca del centro galáctico, energizándolo y generando ondas de radio que eventualmente podríamos detectar aquí en la Tierra \\'.\\n\\nEl evento, reportado hoy en Nature, también podría ser el origen de la población de electrones que se requieren para alimentar la emisión de radio de filamentos magnetizados misteriosos. Estas estructuras en forma de hilo no se han visto en ninguna parte sino en el centro galáctico, y no ha habido una explicación definitiva de su origen desde que se descubrieron por primera vez hace 35 años. \"Casi todos los más de cien filamentos están confinados por las burbujas de radio\", dijo el coautor Prof. Farhad Yusef-Zadeh, de la Universidad Northwestern en Evanston, Illinois.\\n\\nEl coautor Fernando Camilo de SARAO en Ciudad del Cabo, dijo: `` Estas enormes burbujas hasta ahora han estado ocultas por el resplandor de la emisión de radio extremadamente brillante desde el centro de la galaxia. Sacar las burbujas del \\'ruido\\' de fondo fue un tour de force técnico, solo posible gracias a las características únicas de MeerKAT y su ubicación propicia en el hemisferio sur. Con este descubrimiento inesperado, estamos presenciando en la Vía Láctea una nueva manifestación de flujos de materia y energía a escala de galaxias, en última instancia gobernados por el agujero negro central \\'\\'.\\n\\nEl resultado de hoy consolida el gran potencial de \"máquina de descubrimiento\" de la nueva generación de radiotelescopios a medida que avanzamos hacia la construcción de la matriz de kilómetros cuadrados.\\n\\n', 'imgalt': ' Vía Láctea (imagen de stock).', 'meta': ' Los astrónomos han descubierto una de las características más grandes jamás observadas en el centro de la Vía Láctea: un par de enormes burbujas emisoras de radio que se elevan cientos de años luz arriba y debajo de la región central de nuestra galaxia.\\n'}\n",
      "{'source:-pt': 'fonte:', 'archive-zh-CN': '档案', 'journal pacifique-es': 'periódico pacífico', 'source:-pl': 'źródło', 'archive-es': 'archivo', 'about us-es': 'sobre nosotros', 'source:-es': 'fuente:', 'archive-pl': 'archiwum', 'homepage-zh-CN': '主页', 'homepage-pt': 'pagina inicial', 'journal pacifique-pt': 'jornal pacífico', 'archive-pt': 'arquivo', 'journal pacifique-zh-CN': '和平的报纸', 'about us-pl': 'o nas', 'about us-zh-CN': '关于我们', 'homepage-pl': 'strona główna', 'source:-zh-CN': '资源', 'homepage-es': 'página principal', 'about us-pt': 'sobre nós', 'journal pacifique-pl': 'spokojna gazeta'}\n",
      "headline\n",
      "meta\n",
      "article\n",
      "imgalt\n"
     ]
    },
    {
     "name": "stdout",
     "output_type": "stream",
     "text": [
      "{'headline': 'Recursos imponentes em forma de balão descobertos perto do centro da Via Láctea ', 'article': '\\nUsando o telescópio MeerKAT do Observatório de Radioastronomia da África do Sul (SARAO), Ian Heywood, do Departamento de Física da Universidade de Oxford, e seus colegas mapearam amplas regiões no centro da galáxia, realizando observações em comprimentos de onda próximos a 23 centímetros. Emissões de rádio desse tipo são geradas em um processo conhecido como radiação síncrotron, em que elétrons flutuantes são acelerados à medida que interagem com poderosos campos magnéticos. Isso produz um sinal de rádio característico que pode ser usado para rastrear regiões energéticas no espaço. A luz do rádio vista pelo MeerKAT penetra nas densas nuvens de poeira que bloqueiam a luz visível do centro da galáxia.\\n\\nO autor principal, Dr. Heywood, que processou a grande quantidade de dados observacionais que levaram a esse resultado, disse: \\'O centro de nossa galáxia é relativamente calmo quando comparado a outras galáxias com buracos negros centrais muito ativos. Mesmo assim, o buraco negro central da Via Láctea pode se tornar incomumente ativo, explodindo à medida que periodicamente devora aglomerados maciços de poeira e gás. É possível que um frenesi desse tipo tenha provocado explosões poderosas que inflaram esse recurso inédito.\\n\\nAo examinar a extensão quase idêntica e a morfologia das bolhas gêmeas, os cientistas acreditam ter encontrado evidências convincentes de que essas características foram formadas a partir de uma erupção violenta que durante um curto período de tempo perfurou o meio interestelar em direções opostas.\\n\\nO MeerKAT possui recursos sem precedentes de sensibilidade e imagem que, juntamente com seu ponto de vista geográfico para observação do centro galáctico, resultaram na imagem mais clara de sempre das ondas de rádio que emanam do centro da Via Láctea, uma parte do céu que é notoriamente difícil imagem em tais comprimentos de onda.\\n\\nEssas novas capacidades de observação estão desbloqueando um \"registro fóssil\" que permite aos cientistas reunir a história do centro galáctico e o buraco negro supermassivo que se esconde por lá. Embora a estrutura provavelmente tenha alguns milhões de anos, ainda é possível observá-la e, a partir daí, os cientistas podem inferir de onde ela veio.\\n\\nO diretor de Astrofísica da Universidade de Oxford, professor Steve Balbus, disse: \\'É extremamente emocionante poder observar o centro da galáxia com tanta alta definição e precisão. Este é o buraco negro supermassivo mais próximo de nós no Universo, e o MeerKAT nos forneceu os assentos centrais da primeira fila. Vamos aprender muito sobre como os buracos negros se alimentam e como eles influenciam seus ambientes. No tempo relativamente curto em que o MeerKAT está em funcionamento, a ciência que a equipe de Oxford já produziu foi transformadora. Oxford pode se orgulhar de seu envolvimento de liderança no Projeto MeerKAT, e eu mal posso esperar para ver o que mais há por vir; este é apenas o começo de uma nova era na radioastronomia. \\'\\n\\nO co-autor William Cotton, do National Radio Astronomy Observatory, em Charlottesville, Virgínia, disse: \\'A forma e a simetria do que observamos sugerem fortemente que um evento incrivelmente poderoso aconteceu há alguns milhões de anos muito perto do buraco negro central da nossa galáxia. . Essa erupção foi possivelmente desencadeada por grandes quantidades de gás interestelar que caíam no buraco negro ou por uma explosão maciça de formação de estrelas que enviou ondas de choque atravessando o centro galáctico. Com efeito, isso inflou bolhas energéticas no gás quente e ionizado próximo ao centro galáctico, energizando-o e gerando ondas de rádio que poderíamos detectar aqui na Terra. \\'\\n\\nO evento, relatado hoje na Nature, também pode ser a origem da população de elétrons necessários para alimentar a emissão de rádio de misteriosos filamentos magnetizados. Essas estruturas semelhantes a fios não foram vistas em nenhum outro lugar, exceto no centro galáctico, e não houve explicação definitiva para sua origem desde que foram descobertas, há 35 anos. \"Quase todos os mais de cem filamentos estão confinados pelas bolhas de rádio\", disse o co-autor Prof Farhad Yusef-Zadeh, da Northwestern University, em Evanston, Illinois.\\n\\nO co-autor Fernando Camilo, do SARAO, na Cidade do Cabo, disse: \\'Essas enormes bolhas foram escondidas até agora pelo brilho das emissões de rádio extremamente brilhantes do centro da galáxia. Provocar as bolhas do \\'ruído\\' de fundo foi um tour de force técnico, possibilitado apenas pelas características únicas do MeerKAT e pela localização propícia no hemisfério sul. Com essa descoberta inesperada, estamos testemunhando na Via Láctea uma nova manifestação de fluxos de matéria e energia em escala de galáxias, finalmente governados pelo buraco negro central.\\n\\nO resultado de hoje cimenta o grande potencial de \"máquina de descoberta\" da nova geração de radiotelescópios à medida que avançamos na construção da matriz de quilômetros quadrados.\\n\\n', 'imgalt': ' Via Láctea (imagem).', 'meta': ' Os astrônomos descobriram uma das maiores características já observadas no centro da Via Láctea: um par de enormes bolhas emissoras de rádio que elevam centenas de anos-luz acima e abaixo da região central da nossa galáxia.\\n'}\n",
      "{'source:-pt': 'fonte:', 'archive-zh-CN': '档案', 'journal pacifique-es': 'periódico pacífico', 'source:-pl': 'źródło', 'archive-es': 'archivo', 'about us-es': 'sobre nosotros', 'source:-es': 'fuente:', 'archive-pl': 'archiwum', 'homepage-zh-CN': '主页', 'homepage-pt': 'pagina inicial', 'journal pacifique-pt': 'jornal pacífico', 'archive-pt': 'arquivo', 'journal pacifique-zh-CN': '和平的报纸', 'about us-pl': 'o nas', 'about us-zh-CN': '关于我们', 'homepage-pl': 'strona główna', 'source:-zh-CN': '资源', 'homepage-es': 'página principal', 'about us-pt': 'sobre nós', 'journal pacifique-pl': 'spokojna gazeta'}\n",
      "headline\n",
      "meta\n",
      "article\n",
      "imgalt\n",
      "{'headline': 'Wysokie obiekty podobne do balonów odkryte w pobliżu centrum Drogi Mlecznej ', 'article': '\\nZa pomocą teleskopu MeerKAT Południowoafrykańskiego Radia Astronomy Observatory (SARAO) Ian Heywood z Wydziału Fizyki Uniwersytetu Oksfordzkiego wraz ze swoimi kolegami nakreślił rozległe regiony w centrum galaktyki, prowadząc obserwacje na długościach fal blisko 23 centymetrów. Tego rodzaju emisja radiowa jest generowana w procesie znanym jako promieniowanie synchrotronowe, w którym swobodnie unoszące się elektrony są przyspieszane, gdy oddziałują z silnymi polami magnetycznymi. Daje to charakterystyczny sygnał radiowy, który można wykorzystać do śledzenia energetycznych obszarów w kosmosie. Światło radiowe widziane przez MeerKAT przenika gęste chmury pyłu, które blokują światło widzialne ze środka galaktyki.\\n\\nGłówny autor dr Heywood, który przetworzył dużą ilość danych obserwacyjnych, które doprowadziły do \\u200b\\u200btego wyniku, powiedział: „Centrum naszej galaktyki jest stosunkowo spokojne w porównaniu z innymi galaktykami z bardzo aktywnymi centralnymi czarnymi dziurami. Mimo to centralna czarna dziura Drogi Mlecznej może stać się nietypowo aktywna, rozszerzając się, gdy okresowo pochłania ogromne grudki pyłu i gazu. Możliwe, że jedno z takich szaleństw wywołało potężne wybuchy, które zawyżyły tę niewidzialną wcześniej funkcję.\\n\\nBadając prawie identyczny zasięg i morfologię bliźniaczych bąbelków, naukowcy uważają, że znaleźli przekonujące dowody, że te cechy powstały w wyniku gwałtownej erupcji, która w krótkim czasie przebiła ośrodek międzygwiezdny w przeciwnych kierunkach.\\n\\nMeerKAT ma niespotykaną dotąd czułość i możliwości obrazowania, co w połączeniu z geograficznym punktem obserwacyjnym do obserwowania centrum Galaktyki pozwoliło uzyskać najczystszy jak dotąd obraz fal radiowych emanujących ze środka Drogi Mlecznej, części nieba, która jest niezwykle trudna obrazować przy takich długościach fal.\\n\\nTe nowe możliwości obserwacyjne odblokowują „zapis kopalny”, który pozwala naukowcom poskładać historię centrum galaktycznego i czającej się tam supermasywnej czarnej dziury. Chociaż struktura prawdopodobnie będzie miała kilka milionów lat, nadal można ją obserwować, a stamtąd naukowcy mogą wywnioskować, skąd się wzięła.\\n\\nProfesor Steve Balbus, szef astrofizyki na uniwersytecie w Oksfordzie, powiedział: „Niezwykle ekscytujące jest obserwowanie centrum Galaktyki z tak wysoką rozdzielczością i precyzją. To najbliższa nam supermasywna czarna dziura we Wszechświecie, a MeerKAT zapewnił nam środkowe siedzenia w pierwszym rzędzie. Dowiemy się ogromnie dużo o tym, jak czarne dziury się żywią i jak wpływają na otoczenie. W stosunkowo krótkim czasie, gdy MeerKAT został uruchomiony, nauka, którą stworzył zespół w Oksfordzie, przekształciła się. Oksford może być dumny ze swojego przywództwa w projekcie MeerKAT, a ja osobiście nie mogę się doczekać, aby zobaczyć, co jeszcze może nadejść, to dopiero początek nowej ery radioastronomii ”.\\n\\nWspółautor, William Cotton, z National Radio Astronomy Observatory w Charlottesville, Wirginia, powiedział: „Kształt i symetria tego, co zaobserwowaliśmy, silnie sugeruje, że zdumiewająco potężne wydarzenie miało miejsce kilka milionów lat temu bardzo blisko centralnej czarnej dziury naszej galaktyki . Erupcja ta została prawdopodobnie wywołana przez ogromne ilości gazu międzygwiezdnego spadające na czarną dziurę lub potężny wybuch formacji gwiazd, który wysłał fale uderzeniowe przemykające przez centrum galaktyki. W efekcie napompowały one bąbelki energii w gorącym, zjonizowanym gazie w pobliżu centrum galaktyki, zasilając go i generując fale radiowe, które ostatecznie mogliśmy wykryć tutaj na Ziemi.\\n\\nWydarzenie, o którym dziś doniesiono w Nature, może być również źródłem populacji elektronów, które są wymagane do zasilania emisji radiowej z tajemniczych namagnesowanych włókien. Te struktury nitkowate nie zostały nigdzie widoczne, ale w centrum Galaktyki, i nie ma ostatecznego wyjaśnienia ich pochodzenia, odkąd zostały odkryte 35 lat temu. „Prawie wszystkie z ponad stu włókien są ograniczone przez bąbelki radiowe” - powiedział współautor prof. Farhad Yusef-Zadeh z Northwestern University w Evanston, Illinois.\\n\\nWspółautor Fernando Camilo z SARAO w Kapsztadzie powiedział: „Te olbrzymie bąbelki były dotąd ukryte przez blask wyjątkowo jasnej emisji radiowej z centrum galaktyki. Wyciąganie bąbelków z „szumu” tła było technicznym doświadczeniem, możliwym tylko dzięki wyjątkowym cechom MeerKAT i dogodnej lokalizacji na półkuli południowej. Dzięki temu nieoczekiwanemu odkryciu jesteśmy świadkami w Drodze Mlecznej nowej manifestacji wypływów materii i energii w skali galaktyki, ostatecznie rządzonych przez centralną czarną dziurę.\\n\\nDzisiejszy wynik cementuje wielki potencjał „maszyny odkrywczej” nowej generacji radioteleskopów, gdy zbliżamy się do budowy tablicy Kilometrów kwadratowych.\\n\\n', 'imgalt': ' Droga Mleczna (zdjęcie stockowe).', 'meta': ' Astronomowie odkryli jedną z największych cech, jakie kiedykolwiek zaobserwowano w centrum Drogi Mlecznej: parę ogromnych emitujących fale radiowe, które górują setki lat świetlnych powyżej i poniżej środkowego regionu naszej galaktyki.\\n'}\n",
      "{'source:-pt': 'fonte:', 'archive-zh-CN': '档案', 'journal pacifique-es': 'periódico pacífico', 'source:-pl': 'źródło', 'archive-es': 'archivo', 'about us-es': 'sobre nosotros', 'source:-es': 'fuente:', 'archive-pl': 'archiwum', 'homepage-zh-CN': '主页', 'homepage-pt': 'pagina inicial', 'journal pacifique-pt': 'jornal pacífico', 'archive-pt': 'arquivo', 'journal pacifique-zh-CN': '和平的报纸', 'about us-pl': 'o nas', 'about us-zh-CN': '关于我们', 'homepage-pl': 'strona główna', 'source:-zh-CN': '资源', 'homepage-es': 'página principal', 'about us-pt': 'sobre nós', 'journal pacifique-pl': 'spokojna gazeta'}\n",
      "headline\n",
      "meta\n",
      "article\n",
      "imgalt\n"
     ]
    },
    {
     "name": "stdout",
     "output_type": "stream",
     "text": [
      "{'headline': '在银河系中心附近发现了高耸的气球状特征', 'article': '\\n使用南非射电天文观测台（SARAO）MeerKAT望远镜，牛津大学物理系的Ian Heywood及其同事绘制了银河系中心的广阔区域，在23厘米附近的波长进行观测。这种无线电发射是在称为同步辐射的过程中产生的，其中自由浮动电子在与强磁场相互作用时被加速。这产生了可用于跟踪空间中高能区域的特征无线电信号。 MeerKAT看到的无线电光穿过密集的尘埃云，阻挡来自银河系中心的可见光。\\n\\n主要作者Heywood博士处理了导致这一结果的大量观测数据，他说：“与其他具有非常活跃的中心黑洞的星系相比，我们银河系的中心相对平静。即便如此，银河系的中央黑洞也会变得异常活跃，因为它会定期吞噬大量的灰尘和气体。有可能一次这样的喂食狂潮引发了强大的爆发，使这个以前看不见的特征膨胀。\\n\\n通过研究双气泡几乎相同的程度和形态，科学家们相信他们已经找到了令人信服的证据，证明这些特征是由一次猛烈的喷发形成的，这种喷发在很短的时间内以相反的方向穿过星际介质。\\n\\nMeerKAT具有前所未有的灵敏度和成像能力，再加上其观测银河系中心的地理优势，已经产生了从银河系中心发出的无线电波最清晰的图像，这是众所周知的天空中的一部分。在这样的波长下成像。\\n\\n这些新的观测能力正在打开一个“化石记录”，使科学家能够将银河系中心的历史和潜伏在那里的超大质量黑洞拼凑在一起。虽然结构很可能已有几百万年的历史，但仍然可以观察它，科学家可以从那里推断它的来源。\\n\\n牛津大学天体物理学系主任史蒂夫巴尔布斯教授说：“能够以如此高的清晰度和精确度来观察银河系中心是非常令人兴奋的。这是我们宇宙中最近的超大质量黑洞，而MeerKAT为我们提供了前排中心座位。我们将学习大量关于黑洞如何养活自己以及它们如何影响环境的知识。在MeerKAT启动和运行的相对短暂的时间里，牛津大学团队已经制作的科学已经变革了。牛津可以为他们领导参与MeerKAT项目感到自豪，我个人迫不及待地想看看还会发生什么，这只是射电天文学新时代的开始。\\n\\n来自弗吉尼亚州夏洛茨维尔的国家射电天文台的共同作者威廉·科顿说：“我们观察到的形状和对称性强烈地表明，几百万年前发生了一个非常强大的事件，非常接近我们银河系的中心黑洞。这次爆发可能是由于大量的星际气体落入黑洞或大量爆发的恒星形成而引发的冲击波穿过银河系中心引发的。实际上，这会在银河系中心附近的热电离气体中产生充满活力的气泡，使其充满活力并产生无线电波，我们最终可以在地球上发现这些无线电波。\\n\\n今天在“自然”杂志上报道的这一事件也可能是电子群的起源，这些电子是从神秘的磁化灯丝中发射无线电所需的。这些线状结构在银河系中心无处可见，自35年前首次发现它们以来，它们的起源一直没有明确的解释。伊利诺伊州埃文斯顿西北大学的共同作者Farhad Yusef-Zadeh教授说：“几乎所有超过一百根细丝都受到无线电泡的限制。”\\n\\nSARAO在开普敦的共同作者Fernando Camilo说：“这些巨大的气泡到目前为止一直被银河系中心极其明亮的无线电发射所掩盖。从背景“噪音”中梳理出泡沫是一种技术性的旅行，只有通过MeerKAT在南半球的独特特征和有利位置才能实现。凭借这一意想不到的发现，我们在银河系中见证了物质和能量的星系级流出的新奇表现，最终由中央黑洞统治。\\n\\n今天的结果巩固了新一代射电望远镜的巨大“发现机器”潜力，因为我们正在建造平方公里阵列。\\n\\n', 'imgalt': '银河系（股票图片）。', 'meta': '天文学家发现了银河系中心观测到的最大特征之一：一对巨大的无线电发射气泡，高达数百光年以上在我们银河系的中心区域之下。\\n'}\n",
      "{'source:-pt': 'fonte:', 'archive-zh-CN': '档案', 'journal pacifique-es': 'periódico pacífico', 'source:-pl': 'źródło', 'archive-es': 'archivo', 'about us-es': 'sobre nosotros', 'source:-es': 'fuente:', 'archive-pl': 'archiwum', 'homepage-zh-CN': '主页', 'homepage-pt': 'pagina inicial', 'journal pacifique-pt': 'jornal pacífico', 'archive-pt': 'arquivo', 'journal pacifique-zh-CN': '和平的报纸', 'about us-pl': 'o nas', 'about us-zh-CN': '关于我们', 'homepage-pl': 'strona główna', 'source:-zh-CN': '资源', 'homepage-es': 'página principal', 'about us-pt': 'sobre nós', 'journal pacifique-pl': 'spokojna gazeta'}\n",
      "headline\n",
      "meta\n",
      "article\n",
      "imgalt\n",
      "{'headline': 'Una zona de Ricitos de Oro para el tamaño del planeta ', 'article': '\\nPor supuesto, en la vida real, los objetos celestes tan pequeños no pueden soportar la vida porque no tienen suficiente gravedad para mantener una atmósfera. Pero, ¿qué tan pequeño es demasiado pequeño para la habitabilidad?\\n\\nEn un artículo reciente, investigadores de la Universidad de Harvard describieron un nuevo límite de tamaño más bajo para que los planetas mantengan el agua líquida en la superficie durante largos períodos de tiempo, extendiendo la llamada Zona Habitable o \"Ricitos de Oro\" para planetas pequeños de baja gravedad. expande el área de búsqueda de vida en el universo y arroja luz sobre el importante proceso de evolución atmosférica en planetas pequeños.\\n\\nLa investigación fue publicada en el Astrophysical Journal.\\n\\n\"Cuando las personas piensan en los bordes interno y externo de la zona habitable, tienden a pensar solo en el espacio, lo que significa cuán cerca está el planeta de la estrella\", dijo Constantin Arnscheidt, A.B. \\'18, primer autor del artículo. \"Pero en realidad, hay muchas otras variables de habitabilidad, incluida la masa. Establecer un límite inferior para la habitabilidad en términos del tamaño del planeta nos da una restricción importante en nuestra búsqueda continua de exoplanetas y exomoons habitables\".\\n\\nEn general, los planetas se consideran habitables si pueden mantener el agua líquida en la superficie el tiempo suficiente para permitir la evolución de la vida, conservadoramente alrededor de mil millones de años. Los astrónomos buscan estos planetas habitables dentro de distancias específicas de ciertos tipos de estrellas, las estrellas que son más pequeñas, más frías y de menor masa que nuestro Sol tienen una zona habitable mucho más cercana que las estrellas más grandes y calientes.\\n\\nEl borde interior de la zona habitable se define por lo cerca que puede estar un planeta de una estrella antes de que un efecto invernadero desbocado conduzca a la evaporación de todas las aguas superficiales. Pero, como demostraron Arnscheidt y sus colegas, esta definición no es válida para planetas pequeños de baja gravedad.\\n\\nEl efecto invernadero desbocado ocurre cuando la atmósfera absorbe más calor del que puede irradiar hacia el espacio, evitando que el planeta se enfríe y eventualmente conduciendo a un calentamiento imparable hasta que sus océanos se conviertan en vapor en la atmósfera.\\n\\nSin embargo, algo importante sucede cuando los planetas disminuyen de tamaño: a medida que se calientan, sus atmósferas se expanden hacia afuera, volviéndose más y más grandes en relación con el tamaño del planeta. Estas grandes atmósferas aumentan tanto la absorción como la radiación del calor, permitiendo que el planeta mantenga mejor una temperatura estable. Los investigadores encontraron que la expansión atmosférica evita que los planetas de baja gravedad experimenten un efecto invernadero desbocado, lo que les permite mantener el agua líquida en la superficie mientras orbitan más cerca de sus estrellas.\\n\\nSin embargo, cuando los planetas se vuelven demasiado pequeños, pierden sus atmósferas por completo y el agua superficial líquida se congela o se vaporiza. Los investigadores demostraron que hay un tamaño crítico por debajo del cual un planeta nunca puede ser habitable, lo que significa que la zona habitable está limitada no solo en el espacio, sino también en el tamaño del planeta.\\n\\nLos investigadores encontraron que el tamaño crítico es aproximadamente el 2.7 por ciento de la masa de la Tierra. Si un objeto es más pequeño que el 2.7 por ciento de la masa de la Tierra, su atmósfera escapará antes de que tenga la oportunidad de desarrollar agua líquida superficial, similar a lo que les sucede a los cometas en el Sistema Solar en la actualidad. Para poner esto en contexto, la Luna es el 1.2 por ciento de la masa de la Tierra y Mercurio es el 5.53 por ciento.\\n\\nLos investigadores también pudieron estimar las zonas habitables de estos pequeños planetas alrededor de ciertas estrellas. Se modelaron dos escenarios para dos tipos diferentes de estrellas: una estrella de tipo G como nuestro propio Sol y una estrella de tipo M inspirada en una enana roja en la constelación de Leo.\\n\\nLos investigadores resolvieron otro misterio de larga data en nuestro propio sistema solar. Los astrónomos se han preguntado durante mucho tiempo si las lunas heladas de Júpiter, Europa, Ganímedes y Calisto serían habitables si aumentara la radiación del sol. Según esta investigación, estas lunas son demasiado pequeñas para mantener el agua líquida superficial, incluso si estuvieran más cerca del Sol.\\n\\n\"Los mundos acuáticos de baja masa son una posibilidad fascinante en la búsqueda de vida, y este artículo muestra cuán diferente es su comportamiento en comparación con los planetas similares a la Tierra\", dijo Robin Wordsworth, profesor asociado de Ciencias e Ingeniería Ambiental en SEAS y autor principal del estudio. \"Una vez que las observaciones para esta clase de objetos sean posibles, será emocionante intentar probar estas predicciones directamente\".\\n\\nEste artículo fue escrito por Feng Ding, becario postdoctoral en la Facultad de Ingeniería y Ciencias Aplicadas John A. Paulson de Harvard.\\n\\n', 'imgalt': '', 'meta': \" Los investigadores han descrito un nuevo límite de tamaño más bajo para que los planetas mantengan el agua líquida superficial durante largos períodos de tiempo, extendiendo la llamada Zona Habitable o 'Ricitos de Oro' para pequeños, de baja gravedad. planetas Esta investigación amplía el área de búsqueda de vida en el universo y arroja luz sobre el importante proceso de evolución atmosférica en planetas pequeños.\\n\"}\n",
      "{'source:-pt': 'fonte:', 'archive-zh-CN': '档案', 'journal pacifique-es': 'periódico pacífico', 'source:-pl': 'źródło', 'archive-es': 'archivo', 'about us-es': 'sobre nosotros', 'source:-es': 'fuente:', 'archive-pl': 'archiwum', 'homepage-zh-CN': '主页', 'homepage-pt': 'pagina inicial', 'journal pacifique-pt': 'jornal pacífico', 'archive-pt': 'arquivo', 'journal pacifique-zh-CN': '和平的报纸', 'about us-pl': 'o nas', 'about us-zh-CN': '关于我们', 'homepage-pl': 'strona główna', 'source:-zh-CN': '资源', 'homepage-es': 'página principal', 'about us-pt': 'sobre nós', 'journal pacifique-pl': 'spokojna gazeta'}\n",
      "headline\n",
      "meta\n",
      "article\n",
      "imgalt\n"
     ]
    },
    {
     "name": "stdout",
     "output_type": "stream",
     "text": [
      "{'headline': 'Uma zona de Goldilocks para o tamanho do planeta ', 'article': '\\nObviamente, na vida real, objetos celestes pequenos não podem suportar a vida porque não têm gravidade suficiente para manter a atmosfera. Mas quão pequeno é pequeno demais para a habitabilidade?\\n\\nEm um artigo recente, os pesquisadores da Universidade de Harvard descreveram um novo limite de tamanho menor para os planetas manterem a água líquida da superfície por longos períodos de tempo, estendendo a chamada Zona Habitável ou \"Cachinhos Dourados\" para pequenos planetas de baixa gravidade. expande a área de busca de vida no universo e lança luz sobre o importante processo de evolução atmosférica em pequenos planetas.\\n\\nA pesquisa foi publicada no Astrophysical Journal.\\n\\n\"Quando as pessoas pensam nas bordas interna e externa da zona habitável, elas tendem a pensar apenas espacialmente, significando o quão perto o planeta está da estrela\", disse Constantin Arnscheidt, A.B. 18, primeiro autor do artigo. \"Mas, na verdade, existem muitas outras variáveis \\u200b\\u200bpara a habitabilidade, incluindo a massa. Estabelecer um limite mais baixo para a habitabilidade em termos de tamanho do planeta nos dá uma restrição importante em nossa busca contínua por exoplanetas e exomonas habitáveis\".\\n\\nGeralmente, os planetas são considerados habitáveis \\u200b\\u200bse puderem manter a água líquida da superfície por tempo suficiente para permitir a evolução da vida, conservadoramente cerca de um bilhão de anos. Os astrônomos buscam esses planetas habitáveis \\u200b\\u200bdentro de distâncias específicas de certos tipos de estrelas, estrelas menores, mais frias e com menor massa que o nosso Sol, e possuem uma zona habitável muito mais próxima que as estrelas maiores e mais quentes.\\n\\nA borda interna da zona habitável é definida pela distância que um planeta pode estar a uma estrela antes que um efeito estufa descontrolado leve à evaporação de toda a água da superfície. Mas, como Arnscheidt e seus colegas demonstraram, essa definição não se aplica a planetas pequenos e de baixa gravidade.\\n\\nO efeito estufa descontrolado ocorre quando a atmosfera absorve mais calor que pode irradiar de volta para o espaço, impedindo o planeta de esfriar e, eventualmente, levando a um aquecimento incontrolável até que seus oceanos se transformem em vapor na atmosfera.\\n\\nNo entanto, algo importante acontece quando os planetas diminuem de tamanho: à medida que se aquecem, suas atmosferas se expandem para fora, ficando cada vez maiores em relação ao tamanho do planeta. Essas grandes atmosferas aumentam a absorção e a radiação do calor, permitindo que o planeta mantenha melhor uma temperatura estável. Os pesquisadores descobriram que a expansão atmosférica impede que os planetas de baixa gravidade experimentem um efeito estufa descontrolado, permitindo que eles mantenham a água líquida da superfície enquanto orbitam em maior proximidade com suas estrelas.\\n\\nQuando os planetas ficam muito pequenos, no entanto, perdem completamente a atmosfera e a água da superfície líquida congela ou vaporiza. Os pesquisadores demonstraram que existe um tamanho crítico abaixo do qual um planeta nunca pode ser habitável, o que significa que a zona habitável é limitada não apenas no espaço, mas também no tamanho do planeta.\\n\\nOs pesquisadores descobriram que o tamanho crítico é de cerca de 2,7% da massa da Terra. Se um objeto tiver menos de 2,7% da massa da Terra, sua atmosfera escapará antes mesmo de ter a chance de desenvolver água líquida superficial, semelhante ao que acontece hoje com os cometas no Sistema Solar. Para colocar isso em contexto, a Lua é de 1,2% da massa da Terra e Mercúrio é de 5,53%.\\n\\nOs pesquisadores também foram capazes de estimar as zonas habitáveis \\u200b\\u200bdesses pequenos planetas em torno de certas estrelas. Dois cenários foram modelados para dois tipos diferentes de estrelas: uma estrela do tipo G como nosso próprio Sol e uma estrela do tipo M modelada após uma anã vermelha na constelação de Leo.\\n\\nOs pesquisadores resolveram outro mistério de longa data em nosso próprio sistema solar. Os astrônomos há muito se perguntam se as luas geladas de Júpiter, Europa, Ganímedes e Calisto, seriam habitáveis \\u200b\\u200bse a radiação do sol aumentasse. Com base nesta pesquisa, essas luas são muito pequenas para manter a água líquida da superfície, mesmo se estivessem mais próximas do Sol.\\n\\n\"Os mundos aquáticos de baixa massa são uma possibilidade fascinante na busca pela vida, e este artigo mostra quão diferente seu comportamento provavelmente será comparado ao dos planetas semelhantes à Terra\", disse Robin Wordsworth, professor associado de ciência e engenharia ambiental da SEAS e autor sênior do estudo. \"Quando as observações para essa classe de objetos se tornarem possíveis, será empolgante tentar testar essas previsões diretamente\".\\n\\nEste artigo foi co-escrito por Feng Ding, um pós-doutorado na Escola de Engenharia e Ciências Aplicadas de Harvard John A. Paulson.\\n\\n', 'imgalt': '', 'meta': \" Os pesquisadores descreveram um novo limite de tamanho menor para os planetas manterem a água líquida da superfície por longos períodos de tempo, estendendo a chamada Zona Habitável ou 'Goldilocks' para pequenas e com baixa gravidade planetas. Esta pesquisa expande a área de busca de vida no universo e lança luz sobre o importante processo de evolução atmosférica em pequenos planetas.\\n\"}\n",
      "{'source:-pt': 'fonte:', 'archive-zh-CN': '档案', 'journal pacifique-es': 'periódico pacífico', 'source:-pl': 'źródło', 'archive-es': 'archivo', 'about us-es': 'sobre nosotros', 'source:-es': 'fuente:', 'archive-pl': 'archiwum', 'homepage-zh-CN': '主页', 'homepage-pt': 'pagina inicial', 'journal pacifique-pt': 'jornal pacífico', 'archive-pt': 'arquivo', 'journal pacifique-zh-CN': '和平的报纸', 'about us-pl': 'o nas', 'about us-zh-CN': '关于我们', 'homepage-pl': 'strona główna', 'source:-zh-CN': '资源', 'homepage-es': 'página principal', 'about us-pt': 'sobre nós', 'journal pacifique-pl': 'spokojna gazeta'}\n",
      "headline\n",
      "meta\n",
      "article\n",
      "imgalt\n",
      "{'headline': 'Strefa Goldilocks dla wielkości planety ', 'article': '\\nOczywiście w prawdziwym życiu tak małe obiekty niebieskie nie mogą utrzymać życia, ponieważ nie mają wystarczającej grawitacji, aby utrzymać atmosferę. Ale jak mały jest zbyt mały, aby nadawał się do zamieszkania?\\n\\nW niedawnym artykule naukowcy z Uniwersytetu Harvarda opisali nowy, niższy limit wielkości dla planet w celu utrzymywania powierzchniowej wody w płynie przez długi czas, rozszerzając tak zwaną Strefę Mieszkalną lub Strefę Złotowłosa dla małych planet o niskiej grawitacji. rozszerza obszar poszukiwań życia we wszechświecie i rzuca światło na ważny proces ewolucji atmosferycznej na małych planetach.\\n\\nBadanie zostało opublikowane w czasopiśmie Astrophysical Journal.\\n\\n„Kiedy ludzie myślą o wewnętrznych i zewnętrznych krawędziach strefy nadającej się do zamieszkania, zwykle myślą o niej tylko przestrzennie, co oznacza, jak blisko planety jest gwiazda” - powiedział Constantin Arnscheidt, A.B. 18, pierwszy autor artykułu. „Ale w rzeczywistości istnieje wiele innych zmiennych dotyczących zdolności do zamieszkania, w tym masy. Ustalenie dolnej granicy dla zdolności do zamieszkania pod względem wielkości planety stanowi ważne ograniczenie w naszym ciągłym polowaniu na nadające się do zamieszkania egzoplanety i egzomony”.\\n\\nZasadniczo planety uważa się za nadające się do zamieszkania, jeśli są w stanie utrzymać wystarczająco długo płynną wodę powierzchniową, aby umożliwić ewolucję życia, zachowawczo około miliarda lat. Astronomowie polują na te planety nadające się do zamieszkania w określonych odległościach od pewnych rodzajów gwiazd, gwiazdy mniejsze, chłodniejsze i o mniejszej masie niż nasze Słońce mają strefę zamieszkiwaną znacznie bliższą niż większe, cieplejsze gwiazdy.\\n\\nWewnętrzna krawędź strefy nadającej się do zamieszkania jest określona przez odległość planety od gwiazdy, zanim efekt niekontrolowanej cieplarni doprowadzi do odparowania wszystkich wód powierzchniowych. Ale, jak wykazał Arnscheidt i jego koledzy, ta definicja nie dotyczy małych planet o niskiej grawitacji.\\n\\nUciekający efekt cieplarniany pojawia się, gdy atmosfera absorbuje więcej ciepła, które może promieniować z powrotem w przestrzeń kosmiczną, zapobiegając ochłodzeniu planety i ostatecznie prowadząc do niemożliwego do powstrzymania ocieplenia, dopóki jej oceany nie zamieniają się w parę w atmosferze.\\n\\nJednak coś ważnego dzieje się, gdy planety zmniejszają się: gdy się ogrzewają, ich atmosfera rozszerza się na zewnątrz, stając się coraz większa w stosunku do wielkości planety. Te duże atmosfery zwiększają zarówno absorpcję, jak i promieniowanie ciepła, co pozwala planecie lepiej utrzymać stabilną temperaturę. Naukowcy odkryli, że ekspansja atmosferyczna zapobiega pojawianiu się na planetach o niskiej grawitacji niekontrolowanego efektu cieplarnianego, umożliwiając im utrzymanie powierzchniowej ciekłej wody podczas orbitowania w pobliżu swoich gwiazd.\\n\\nKiedy planety stają się zbyt małe, tracą jednak atmosferę, a ciekła woda powierzchniowa zamarza lub paruje. Naukowcy wykazali, że istnieje krytyczny rozmiar, poniżej którego planeta nigdy nie będzie nadawać się do zamieszkania, co oznacza, że \\u200b\\u200bstrefa nadająca się do zamieszkania jest ograniczona nie tylko przestrzenią, ale także rozmiarem planety.\\n\\nNaukowcy odkryli, że rozmiar krytyczny wynosi około 2,7 procent masy Ziemi. Jeśli obiekt jest mniejszy niż 2,7 procent masy Ziemi, jego atmosfera ucieknie, zanim zdąży kiedykolwiek rozwinąć powierzchniową ciekłą wodę, podobnie jak to dzieje się dzisiaj z kometami w Układzie Słonecznym. Mówiąc to w kontekście, Księżyc stanowi 1,2 procent masy Ziemi, a Merkury - 5,53 procent.\\n\\nNaukowcy byli również w stanie oszacować strefy życia tych małych planet wokół niektórych gwiazd. Modelowano dwa scenariusze dla dwóch różnych typów gwiazd: gwiazdy typu G, takiej jak nasze Słońce, i gwiazdy typu M, wzorowanej na czerwonym karle w gwiazdozbiorze Lwa.\\n\\nNaukowcy rozwiązali kolejną od dawna tajemnicę w naszym Układzie Słonecznym. Astronomowie od dawna zastanawiają się, czy lodowe księżyce Jowisza: Europa, Ganymede i Callisto będą nadawać się do zamieszkania, jeśli wzrosną promieniowanie słoneczne. Na podstawie tych badań księżyce te są zbyt małe, aby utrzymać powierzchniową ciekłą wodę, nawet jeśli były bliżej Słońca.\\n\\n„Światy wodne o małej masie są fascynującą możliwością w poszukiwaniu życia, a niniejszy artykuł pokazuje, jak różne mogą być ich zachowania w porównaniu z planetami podobnymi do Ziemi” - powiedział Robin Wordsworth, profesor nauk przyrodniczych i inżynierii w SEAS i starszy autor badania. „Gdy obserwacje dla tej klasy obiektów staną się możliwe, ekscytujące będzie bezpośrednie testowanie tych prognoz”.\\n\\nTen artykuł był współautorem Feng Dinga, doktora habilitowanego w Harvard John A. Paulson School of Engineering and Applied Sciences.\\n\\n', 'imgalt': '', 'meta': ' Naukowcy opisali nowy, niższy limit wielkości dla planet w celu utrzymywania powierzchniowej wody w stanie ciekłym przez długi czas, rozszerzając tak zwaną Strefę Mieszkalną lub Strefę Złotowłosa dla małych, o niskiej grawitacji planety. Badania te poszerzają obszar poszukiwań życia we wszechświecie i rzucają światło na ważny proces ewolucji atmosfery na małych planetach.\\n'}\n",
      "{'source:-pt': 'fonte:', 'archive-zh-CN': '档案', 'journal pacifique-es': 'periódico pacífico', 'source:-pl': 'źródło', 'archive-es': 'archivo', 'about us-es': 'sobre nosotros', 'source:-es': 'fuente:', 'archive-pl': 'archiwum', 'homepage-zh-CN': '主页', 'homepage-pt': 'pagina inicial', 'journal pacifique-pt': 'jornal pacífico', 'archive-pt': 'arquivo', 'journal pacifique-zh-CN': '和平的报纸', 'about us-pl': 'o nas', 'about us-zh-CN': '关于我们', 'homepage-pl': 'strona główna', 'source:-zh-CN': '资源', 'homepage-es': 'página principal', 'about us-pt': 'sobre nós', 'journal pacifique-pl': 'spokojna gazeta'}\n",
      "headline\n",
      "meta\n",
      "article\n",
      "imgalt\n"
     ]
    },
    {
     "name": "stdout",
     "output_type": "stream",
     "text": [
      "{'headline': '行星大小的金发姑娘区', 'article': \"\\n当然，在现实生活中，小天体不能支撑生命，因为它们没有足够的重力来维持大气。但是对于可居住性而言，这么小是多小？\\n\\n在最近的一篇论文中，哈佛大学的研究人员描述了一种新的，尺寸较小的行星长度限制，可以长时间保持地表液态水，延伸所谓的Habitable或“Goldilocks”区域用于小型低重力行星。扩展了宇宙中生命的搜索区域，并揭示了小行星上大气演化的重要过程。\\n\\n该研究发表在天体物理学杂志上。\\n\\n“当人们想到可居住区的内外边缘时，他们往往只在空间上思考它，这意味着行星与恒星的距离有多近，”Constantin Arnscheidt，A.B。 '18，该论文的第一作者。 “但实际上，还有很多其他变量可以适应居住，包括质量。根据行星大小设定可居住性的下限，这对我们正在寻找可居住的系外行星和外行星有着重要的制约作用。”\\n\\n一般来说，行星被认为是可居住的，如果它们可以保持表面液态水足够长以允许生命的进化，保守地大约10亿年。天文学家在某些类型的恒星的特定距离内寻找这些可居住的行星，恒星比我们的太阳更小，更冷，质量更低，可居住的区域比更大，更热的恒星更接近。\\n\\n可居住区域的内缘由在失控的温室效应导致所有地表水蒸发之前行星与恒星的接近程度来定义。但是，正如Arnscheidt及其同事所证明的那样，这个定义并不适用于小型低重力行星。\\n\\n失控的温室效应发生在大气吸收更多的热量时，它可以辐射回太空，防止行星冷却，最终导致不可阻挡的变暖，直到海洋变成大气中的蒸汽。\\n\\n然而，当行星尺寸减小时会发生一些重要的事情：当它们变暖时，它们的大气会向外扩展，相对于行星的大小变得越来越大。这些大气氛增加了热量的吸收和辐射，使行星能够更好地保持稳定的温度。研究人员发现，大气膨胀可以防止低重力行星经历失控的温室效应，使它们能够在靠近恒星的轨道上保持表面液态水。\\n\\n然而，当行星变得太小时，它们完全失去了大气层，液态地表水会冻结或蒸发。研究人员证明，有一个临界尺寸，低于该尺寸，行星永远不可居住，这意味着可居住区不仅在空间上受到限制，而且在行星大小上也受到限制。\\n\\n研究人员发现，临界尺寸约为地球质量的2.7％。如果一个物体的质量小于地球质量的2.7％，那么它的大气层将在它有机会形成表面液态水之前逃逸，类似于今天太阳系中的彗星。将其置于背景中，月球占地球质量的1.2％，水星为5.53％。\\n\\n研究人员还能够估计这些小行星围绕某些恒星的可居住区域。针对两种不同类型的恒星模拟了两种情景：像我们自己的太阳一样的G型恒星和在狮子座中的红矮星模拟的M型恒星。\\n\\n研究人员在我们自己的太阳系中解决了另一个长期存在的谜团。天文学家一直想知道，如果来自太阳的辐射增加，木星冰冷的卫星欧罗巴，木卫德和卡利斯托是否适合居住。根据这项研究，这些卫星太小，无法保持表面液态水，即使它们离太阳更近。\\n\\n“低质量的水世界是探索生命的一种迷人的可能性，本文展示了他们的行为与地球类行星的行为有多么不同，”环境科学与工程副教授Robin Wordsworth说。 SEAS和该研究的高级作者。 “一旦对这类物体的观测成为可能，尝试直接测试这些预测将会令人兴奋。”\\n\\n本文由哈佛大学约翰·保尔森工程与应用科学学院博士后研究员冯丁共同撰写。\\n\\n\", 'imgalt': '', 'meta': \"研究人员描述了行星长时间保持表面液态水的新的较小尺寸限制，扩展了所谓的Habitable或'Goldilocks'区域，用于小型，低重力行星。这项研究扩大了宇宙生命的搜索范围，并揭示了小行星上大气演化的重要过程。\\n\"}\n",
      "{'source:-pt': 'fonte:', 'archive-zh-CN': '档案', 'journal pacifique-es': 'periódico pacífico', 'source:-pl': 'źródło', 'archive-es': 'archivo', 'about us-es': 'sobre nosotros', 'source:-es': 'fuente:', 'archive-pl': 'archiwum', 'homepage-zh-CN': '主页', 'homepage-pt': 'pagina inicial', 'journal pacifique-pt': 'jornal pacífico', 'archive-pt': 'arquivo', 'journal pacifique-zh-CN': '和平的报纸', 'about us-pl': 'o nas', 'about us-zh-CN': '关于我们', 'homepage-pl': 'strona główna', 'source:-zh-CN': '资源', 'homepage-es': 'página principal', 'about us-pt': 'sobre nós', 'journal pacifique-pl': 'spokojna gazeta'}\n",
      "headline\n",
      "meta\n",
      "article\n",
      "imgalt\n",
      "{'headline': 'Hitos en el camino hacia el reloj nuclear ', 'article': '\\nDurante décadas, las personas han estado buscando núcleos atómicos adecuados para este propósito, y durante mucho tiempo se había conjeturado que un isótopo de torio específico debe tener un estado nuclear que sea adecuado para la construcción de una nueva generación de relojes de alta precisión. . Este estado central tan buscado de torio ahora ha sido demostrado experimentalmente por primera vez, dos veces, por dos equipos internacionales de investigación diferentes. TU Wien jugó un papel importante en ambos experimentos. Los resultados de los dos experimentos ahora se han publicado simultáneamente en la revista Nature.\\n\\nDos niveles de energía adyacentes.\\n\\n\"En física nuclear, generalmente tenemos que lidiar con energías muy altas\", dice el profesor Thorsten Schumm de TU Wien. \"Las energías de los electrones que orbitan el núcleo atómico suelen ser mucho más bajas, por lo que es relativamente fácil manipular estos electrones con luz láser. Esto generalmente no es posible con los núcleos atómicos\".\\n\\nSin embargo, los núcleos de torio del isótopo 229 son una notable excepción: \"Justo encima del estado fundamental, el estado con la menor energía posible, hay, sorprendentemente, otro estado nuclear, que llamamos isómero\", dice Thorsten Schumm. La diferencia de energía entre estos dos estados nucleares, el estado fundamental y el isómero, es muchos órdenes de magnitud menor que la diferencia entre los niveles de energía en otros núcleos atómicos. Es comparable a las energías de los electrones. El torio-229 es actualmente el único núcleo con un estado de isómero de tan baja energía.\\n\\nLa transición entre los dos estados nucleares de torio es una base excelente para construir un reloj de precisión novedoso. Los estados nucleares se pueden medir incluso con mayor precisión que los estados de capa de electrones como se usa en los relojes atómicos de hoy. Además, el núcleo atómico está mucho mejor protegido contra perturbaciones, por ejemplo, de campos electromagnéticos externos. Hasta ahora, el gran problema era que se desconocía el valor exacto de energía del estado inusual del isómero de torio.\\n\\nMétodo de medición complicado\\n\\nDebido a que la búsqueda de esta condición central es complicada y lleva mucho tiempo, varios equipos unieron fuerzas: grupos de investigación de Alemania y Austria (LMU München, MPI Heidelberg y TU Wien) desarrollaron un método para detectar el estado deseado de los isómeros: cuando el uranio radiactivo 233 Decaimiento de los núcleos, se forman iones de torio cargados eléctricamente, aproximadamente el 2% de ellos terminan en el estado isomérico excitado deseado. Para neutralizar eléctricamente estos iones de torio nuevamente, son guiados a través de una delgada capa de grafeno, desde la cual los iones de torio capturan los electrones faltantes. Los átomos de torio neutros pueden cambiar espontáneamente del estado nuclear excitado al estado fundamental. Esto libera energía: se arroja un electrón. Se mide la energía de este electrón, y si todos los detalles del complicado experimento se pueden controlar y calcular con precisión, se puede deducir la energía del estado del núcleo de torio. Thorsten Schumm y Simon Stellmer ayudaron a desarrollar el experimento, Florian Libisch y Christoph Lemell llevaron a cabo simulaciones por computadora necesarias para una estimación cuantitativa de la energía de los isómeros.\\n\\nAl mismo tiempo, se llevó a cabo un experimento completamente diferente en Japón, y Thorsten Schumm del TU Wien también participó en este trabajo. Allí, se utilizó un sincrotrón que produce rayos X extremadamente intensos. Si los núcleos de torio se irradian con estos rayos, se pueden transferir al segundo estado nuclear excitado con una energía más de 1000 veces mayor que el estado del isómero. A partir de este estado, los núcleos de torio se descomponen predominantemente en el estado isomérico deseado, cerca del estado fundamental, los átomos se \"bombean\" activamente al estado isomérico y se pueden medir allí.\\n\\nNumerosas aplicaciones posibles\\n\\n\"Este es un paso extremadamente importante para nosotros: no solo sabemos que el estado excitado realmente existe justo por encima del estado fundamental, sino que también conocemos su energía bastante bien ahora\", dice Thorsten Schumm. En otras mediciones, el estado se medirá aún más precisamente. Entonces debería ser posible usarlo para construir relojes nucleares atómicos compactos y de alta precisión. Dichos relojes abrirían posibilidades de investigación completamente nuevas: serían una gran herramienta para la investigación básica, por ejemplo, para investigar la materia oscura o para medir si nuestras constantes naturales son realmente constantes. Además de eso, un reloj nuclear atómico haría muchas otras mediciones más precisas, lo que solo puede estar relacionado indirectamente con el tiempo de medición. Estos incluyen la medición de pequeñas irregularidades en el campo gravitacional de la Tierra o el posicionamiento más preciso de los objetos mediante navegación por satélite.\\n\\n', 'imgalt': '', 'meta': ' Durante décadas, las personas han estado buscando núcleos atómicos adecuados para construir un reloj nuclear ultrapreciso. Durante mucho tiempo se había conjeturado que un isótopo de torio específico debe tener un estado nuclear que sea adecuado para este propósito. Este estado central tan buscado de torio ahora se ha demostrado experimentalmente por primera vez, dos veces, por dos equipos internacionales de investigación diferentes.\\n'}\n",
      "{'source:-pt': 'fonte:', 'archive-zh-CN': '档案', 'journal pacifique-es': 'periódico pacífico', 'source:-pl': 'źródło', 'archive-es': 'archivo', 'about us-es': 'sobre nosotros', 'source:-es': 'fuente:', 'archive-pl': 'archiwum', 'homepage-zh-CN': '主页', 'homepage-pt': 'pagina inicial', 'journal pacifique-pt': 'jornal pacífico', 'archive-pt': 'arquivo', 'journal pacifique-zh-CN': '和平的报纸', 'about us-pl': 'o nas', 'about us-zh-CN': '关于我们', 'homepage-pl': 'strona główna', 'source:-zh-CN': '资源', 'homepage-es': 'página principal', 'about us-pt': 'sobre nós', 'journal pacifique-pl': 'spokojna gazeta'}\n",
      "headline\n",
      "meta\n",
      "article\n",
      "imgalt\n"
     ]
    },
    {
     "name": "stdout",
     "output_type": "stream",
     "text": [
      "{'headline': 'Marcos no caminho para o relógio nuclear ', 'article': '\\nPor décadas, as pessoas têm procurado núcleos atômicos adequados para esse fim e, durante muito tempo, havia sido conjeturado que um isótopo específico de tório deveria ter um estado nuclear que seria adequado para a construção de uma nova geração de relógios de alta precisão . Esse há muito procurado estado central do tório foi demonstrado experimentalmente pela primeira vez, duas vezes, por duas equipes de pesquisa internacionais diferentes. TU Wien desempenhou um papel significativo em ambos os experimentos. Os resultados dos dois experimentos foram publicados simultaneamente na revista Nature.\\n\\nDois níveis de energia adjacentes\\n\\n\"Na física nuclear, geralmente precisamos lidar com energias muito altas\", diz o professor Thorsten Schumm, da TU Wien. \"As energias dos elétrons que orbitam o núcleo atômico são geralmente muito mais baixas, por isso é relativamente fácil manipular esses elétrons com luz laser. Isso geralmente não é possível com os núcleos atômicos\".\\n\\nOs núcleos de tório do isótopo 229, no entanto, são uma exceção notável: \"Logo acima do estado fundamental, o estado com a menor energia possível, há, surpreendentemente, outro estado nuclear, que chamamos de isômero\", diz Thorsten Schumm. A diferença de energia entre esses dois estados nucleares, o estado fundamental e o isômero, é muitas ordens de magnitude menor que a diferença entre os níveis de energia em outros núcleos atômicos. É comparável às energias dos elétrons. Atualmente, o tório-229 é o único núcleo com um estado de isômero de baixa energia.\\n\\nA transição entre os dois estados nucleares do tório é uma excelente base para a construção de um novo relógio de precisão. Os estados nucleares podem ser medidos com mais precisão do que os estados de invólucro de elétrons usados \\u200b\\u200bnos relógios atômicos atuais. Além disso, o núcleo atômico é muito melhor protegido contra perturbações, por exemplo, de campos eletromagnéticos externos. Até agora, o grande problema era que o valor exato da energia do estado incomum do isômero do tório era desconhecido.\\n\\nMétodo de medição complicado\\n\\nComo a busca por essa condição central é complicada e demorada, várias equipes uniram forças: grupos de pesquisa da Alemanha e da Áustria (LMU München, MPI Heidelberg e TU Wien) desenvolveram um método para detectar o estado de isômero desejado: Quando o urânio radioativo 233 decaimento dos núcleos, íons de tório com carga elétrica são formados, cerca de 2% deles terminam no estado isomérico excitado desejado. Para neutralizar eletricamente esses íons de tório novamente, eles são guiados através de uma fina camada de grafeno, a partir da qual os íons de tório capturam os elétrons ausentes. Os átomos neutros de tório podem então mudar espontaneamente do estado nuclear excitado para o estado fundamental. Isso libera energia: um elétron é jogado fora. A energia desse elétron é medida e, se todos os detalhes do experimento complicado puderem ser controlados e calculados com precisão, a energia do estado do núcleo do tório poderá ser deduzida. Thorsten Schumm e Simon Stellmer ajudaram a desenvolver o experimento, Florian Libisch e Christoph Lemell realizaram simulações em computador necessárias para uma estimativa quantitativa da energia do isômero.\\n\\nAo mesmo tempo, um experimento completamente diferente foi realizado no Japão, e Thorsten Schumm, da TU Wien, também esteve envolvido neste trabalho. Lá, foi utilizado um síncrotron que produz raios X extremamente intensos. Se os núcleos de tório são irradiados com esses raios, eles podem ser transferidos para o segundo estado nuclear excitado com uma energia 1000 vezes superior ao estado de isômero. A partir desse estado, os núcleos de tório decaem predominantemente para o estado isomérico desejado, próximo ao estado fundamental, os átomos são ativamente \"bombeados\" para o estado isomérico e podem ser medidos ali.\\n\\nInúmeras aplicações possíveis\\n\\n\"Este é um passo extremamente importante para nós: não apenas sabemos que o estado excitado existe realmente acima do estado fundamental, como também sabemos sua energia muito bem agora\", diz Thorsten Schumm. Em medições adicionais, o estado será medido com ainda mais precisão. Em seguida, deve ser possível usá-lo na construção de relógios nucleares atômicos compactos e de alta precisão. Tais relógios abririam possibilidades de pesquisa completamente novas: seriam uma ótima ferramenta para pesquisa básica, por exemplo, para investigar a matéria escura ou para medir se nossas constantes naturais são realmente exatamente constantes. Além disso, um relógio nuclear atômico tornaria muitas outras medições mais precisas, que podem estar indiretamente relacionadas à medição do tempo. Isso inclui a medição de pequenas irregularidades no campo gravitacional da Terra ou o posicionamento mais preciso de objetos usando a navegação por satélite.\\n\\n', 'imgalt': '', 'meta': ' Há décadas, as pessoas procuram núcleos atômicos adequados para a construção de um relógio nuclear ultra-preciso. Por um longo tempo, conjeturou-se que um isótopo específico do tório deve ter um estado nuclear adequado para esse fim. Esse há muito procurado estado central do tório foi demonstrado experimentalmente pela primeira vez - duas vezes por duas equipes de pesquisa internacionais diferentes.\\n'}\n",
      "{'source:-pt': 'fonte:', 'archive-zh-CN': '档案', 'journal pacifique-es': 'periódico pacífico', 'source:-pl': 'źródło', 'archive-es': 'archivo', 'about us-es': 'sobre nosotros', 'source:-es': 'fuente:', 'archive-pl': 'archiwum', 'homepage-zh-CN': '主页', 'homepage-pt': 'pagina inicial', 'journal pacifique-pt': 'jornal pacífico', 'archive-pt': 'arquivo', 'journal pacifique-zh-CN': '和平的报纸', 'about us-pl': 'o nas', 'about us-zh-CN': '关于我们', 'homepage-pl': 'strona główna', 'source:-zh-CN': '资源', 'homepage-es': 'página principal', 'about us-pt': 'sobre nós', 'journal pacifique-pl': 'spokojna gazeta'}\n",
      "headline\n",
      "meta\n",
      "article\n",
      "imgalt\n",
      "{'headline': 'Kamienie milowe w drodze do zegara nuklearnego ', 'article': '\\nPrzez dziesięciolecia ludzie szukali do tego celu odpowiednich jąder atomowych i od dawna przypuszczano, że określony izotop toru musi mieć stan jądrowy, który byłby odpowiedni do budowy nowej generacji precyzyjnych zegarów . Ten od dawna poszukiwany podstawowy stan toru został po raz pierwszy eksperymentalnie wykazany przez dwa różne międzynarodowe zespoły badawcze. TU Wien odegrał znaczącą rolę w obu eksperymentach. Wyniki tych dwóch eksperymentów zostały teraz opublikowane jednocześnie w czasopiśmie Nature.\\n\\nDwa sąsiednie poziomy energii\\n\\n„W fizyce jądrowej zwykle mamy do czynienia z bardzo wysokimi energiami” - mówi prof. Thorsten Schumm z TU Wien. „Energie elektronów krążących wokół jądra atomowego są zwykle znacznie niższe, więc manipulowanie tymi elektronami za pomocą światła laserowego jest stosunkowo łatwe. Zazwyczaj nie jest to możliwe w przypadku jąder atomowych”.\\n\\nJądra toru izotopu 229 są jednak niezwykłym wyjątkiem: „Tuż nad stanem podstawowym, stanem o najmniejszej możliwej energii, jest, co zaskakujące, inny stan jądrowy, który nazywamy izomerem”, mówi Thorsten Schumm. Różnica energii między tymi dwoma stanami jądrowymi, stanem podstawowym i izomerem, jest o wiele rzędów wielkości mniejsza niż różnica między poziomami energii w innych jądrach atomowych. Jest to porównywalne z energiami elektronów. Thor-229 jest obecnie jedynym jądrem o tak niskim stanie energetycznym izomeru.\\n\\nPrzejście między dwoma stanami jąderowymi toru stanowi doskonałą podstawę do skonstruowania nowego precyzyjnego zegara. Stany nuklearne można zmierzyć nawet bardziej precyzyjnie niż stany powłoki elektronowej, jakie stosuje się we współczesnych zegarach atomowych. Ponadto jądro atomowe jest znacznie lepiej chronione przed zaburzeniami, na przykład przed zewnętrznymi polami elektromagnetycznymi. Do tej pory wielkim problemem było to, że dokładna wartość energetyczna niezwykłego stanu izomeru toru była nieznana.\\n\\nSkomplikowana metoda pomiaru\\n\\nPonieważ poszukiwanie tego podstawowego warunku jest skomplikowane i czasochłonne, kilka zespołów połączyło siły: Grupy badawcze z Niemiec i Austrii (LMU München, MPI Heidelberg i TU Wien) opracowały metodę wykrywania pożądanego stanu izomeru: Gdy radioaktywny uran 233 rozpad jąder, powstają elektrycznie naładowane jony toru, około 2% z nich kończy się w pożądanym wzbudzonym stanie izomerycznym. Aby ponownie elektrycznie zneutralizować te jony toru, są one prowadzone przez cienką warstwę grafenu, z której jony toru wychwytują brakujące elektrony. Obojętne atomy toru mogą następnie spontanicznie zmienić stan wzbudzonego jądra na stan podstawowy. To uwalnia energię: elektron jest odrzucany. Energia tego elektronu jest mierzona i jeśli wszystkie szczegóły skomplikowanego eksperymentu można precyzyjnie kontrolować i obliczyć, można wywnioskować energię stanu jądra toru. Thorsten Schumm i Simon Stellmer pomogli w opracowaniu eksperymentu, Florian Libisch i Christoph Lemell przeprowadzili symulacje komputerowe wymagane do ilościowego oszacowania energii izomeru.\\n\\nW tym samym czasie przeprowadzono zupełnie inny eksperyment w Japonii, a Thorsten Schumm z TU Wien również był zaangażowany w tę pracę. Tam zastosowano synchrotron, który wytwarza wyjątkowo intensywne promieniowanie rentgenowskie. Jeśli jądra toru zostaną napromieniowane tymi promieniami, można je przenieść do drugiego wzbudzonego stanu jądrowego o energii ponad 1000 razy większej niż stan izomeru. Z tego stanu jądra toru rozpadają się głównie do pożądanego stanu izomerycznego, blisko stanu podstawowego, atomy są aktywnie „pompowane” do stanu izomerycznego i można je tam zmierzyć.\\n\\nLiczne możliwe zastosowania\\n\\n„Jest to dla nas niezwykle ważny krok: nie tylko wiemy, że stan podekscytowania faktycznie istnieje tuż nad stanem podstawowym, ale teraz dość dobrze znamy jego energię” - mówi Thorsten Schumm. W dalszych pomiarach stan będzie mierzony jeszcze dokładniej. Wtedy powinno być możliwe wykorzystanie go do budowy kompaktowych, precyzyjnych atomowych zegarów jądrowych. Takie zegary otworzyłyby zupełnie nowe możliwości badawcze: byłyby doskonałym narzędziem do podstawowych badań, na przykład do badania ciemnej materii lub do mierzenia, czy nasze naturalne stałe są rzeczywiście dokładnie stałe. Oprócz tego atomowy zegar nuklearny uczyniłby wiele innych pomiarów bardziej precyzyjnymi, co może być tylko pośrednio związane z pomiarem czasu. Obejmują one pomiar drobnych nieregularności w polu grawitacyjnym Ziemi lub bardziej precyzyjne pozycjonowanie obiektów za pomocą nawigacji satelitarnej.\\n\\n', 'imgalt': '', 'meta': ' Od dziesięcioleci ludzie szukają odpowiednich jąder atomowych do budowy ultra precyzyjnego zegara nuklearnego. Przez długi czas przypuszczano, że określony izotop torowy musi mieć stan jądrowy odpowiedni do tego celu. Ten od dawna poszukiwany stan toru został po raz pierwszy wykazany eksperymentalnie - dwa razy przez 2 różne międzynarodowe zespoły badawcze.\\n'}\n",
      "{'source:-pt': 'fonte:', 'archive-zh-CN': '档案', 'journal pacifique-es': 'periódico pacífico', 'source:-pl': 'źródło', 'archive-es': 'archivo', 'about us-es': 'sobre nosotros', 'source:-es': 'fuente:', 'archive-pl': 'archiwum', 'homepage-zh-CN': '主页', 'homepage-pt': 'pagina inicial', 'journal pacifique-pt': 'jornal pacífico', 'archive-pt': 'arquivo', 'journal pacifique-zh-CN': '和平的报纸', 'about us-pl': 'o nas', 'about us-zh-CN': '关于我们', 'homepage-pl': 'strona główna', 'source:-zh-CN': '资源', 'homepage-es': 'página principal', 'about us-pt': 'sobre nós', 'journal pacifique-pl': 'spokojna gazeta'}\n",
      "headline\n",
      "meta\n",
      "article\n",
      "imgalt\n"
     ]
    },
    {
     "name": "stdout",
     "output_type": "stream",
     "text": [
      "{'headline': '在通往核钟的道路上的里程碑', 'article': '\\n几十年来，人们一直在为此目的寻找合适的原子核，并且长期以来一直猜测特定的钍同位素必须具有适合构建新一代高精度时钟的核态。 。这种长期寻求的核心钍状态现在已经由两个不同的国际研究团队首次通过实验证明。 TU Wien在两个实验中都发挥了重要作用。这两个实验的结果现已同时发表在Nature杂志上。\\n\\n两个相邻的能量水平\\n\\n“在核物理学中，我们通常必须处理非常高的能量，”TU Wien的Thorsten Schumm教授说。 “绕原子核运行的电子能量通常要低得多，因此利用激光操纵这些电子相对容易。原子核通常不可能实现。”\\n\\n然而，同位素229的钍核是一个显着的例外：“就在基态之上，能量最小的状态，令人惊讶的是，另一个核态，我们称之为异构体，”Thorsten Schumm说。这两种核态（基态和异构体）之间的能量差异比其他原子核中能级之间的差异小许多个数量级。它与电子的能量相当。钍-229是目前唯一具有这种低能异构体状态的核。\\n\\n两个钍核态之间的过渡是构建新型精密时钟的良好基础。核态可以比当今原子钟中使用的电子壳状态更精确地测量。而且，原子核更好地防止扰动，例如来自外部电磁场。到目前为止，最大的问题是不寻常的钍异构体状态的确切能量值是未知的。\\n\\n复杂的测量方法\\n\\n由于寻找这一核心条件既复杂又耗时，一些团队联合起来：德国和奥地利的研究小组（LMUMünchen，MPI Heidelberg和TU Wien）开发了一种检测所需异构体状态的方法：当放射性铀233时细胞核衰变，形成带电的钍离子，其中约2％最终处于所需的激发的异构状态。为了再次电中和这些钍离子，它们被引导通过薄的石墨烯层，钍离子从该石墨烯层捕获缺失的电子。然后中性钍原子可以自发地从激发的核态转变为基态。这释放了能量：一个电子被扔掉了。测量该电子的能量，如果能够精确控制和计算复杂实验的所有细节，则可以推导出钍核态的能量。 Thorsten Schumm和Simon Stellmer帮助开发了实验，Florian Libisch和Christoph Lemell进行了计算机模拟，以定量估算异构体能量。\\n\\n与此同时，在日本进行了一次完全不同的实验，来自TU Wien的Thorsten Schumm也参与了这项工作。在那里，使用了一个产生极强X射线的同步加速器。如果用这些射线照射钍核，它们可以以比异构体状态高1000倍的能量转移到第二激发核态。从这种状态，钍原子核然后主要衰变成所需的异构状态，接近基态，原子被主动“泵送”到异构体状态并且可以在那里测量。\\n\\n众多可能的应用\\n\\n“这对我们来说是非常重要的一步：我们不仅知道激发态实际存在于基态之上，而且我们现在也非常了解它的能量，”Thorsten Schumm说。在进一步的测量中，将更精确地测量状态。然后它应该可以用它来构建紧凑的，高精度的原子核钟。这样的时钟将开辟全新的研究可能性：它们将成为基础研究的一个很好的工具，例如研究暗物质或测量我们的自然常数是否实际上是恒定的。除此之外，原子核时钟会使许多其他测量更精确，这可能只与测量时间间接相关。其中包括测量地球引力场中的微小不规则性或使用卫星导航更精确地定位物体。\\n\\n', 'imgalt': '', 'meta': '几十年来，人们一直在寻找合适的原子核来构建超精确的核钟。长期以来，人们猜测特定的钍同位素必须具有适合于此目的的核态。这种长期寻求的核心钍状态现在已经首次通过实验证明 - 两次由两个不同的国际研究团队展示。\\n'}\n",
      "{'source:-pt': 'fonte:', 'archive-zh-CN': '档案', 'journal pacifique-es': 'periódico pacífico', 'source:-pl': 'źródło', 'archive-es': 'archivo', 'about us-es': 'sobre nosotros', 'source:-es': 'fuente:', 'archive-pl': 'archiwum', 'homepage-zh-CN': '主页', 'homepage-pt': 'pagina inicial', 'journal pacifique-pt': 'jornal pacífico', 'archive-pt': 'arquivo', 'journal pacifique-zh-CN': '和平的报纸', 'about us-pl': 'o nas', 'about us-zh-CN': '关于我们', 'homepage-pl': 'strona główna', 'source:-zh-CN': '资源', 'homepage-es': 'página principal', 'about us-pt': 'sobre nós', 'journal pacifique-pl': 'spokojna gazeta'}\n",
      "headline\n",
      "meta\n",
      "article\n",
      "imgalt\n",
      "{'headline': 'Resolviendo el antiguo misterio de cómo la fricción conduce a la electricidad estática ', 'article': '\\nAhora, un equipo de la Universidad del Noroeste desarrolló un nuevo modelo que muestra que frotar dos objetos juntos produce electricidad estática, o triboelectricidad, al doblar las pequeñas protuberancias en la superficie de los materiales.\\n\\nEsta nueva comprensión podría tener implicaciones importantes para las aplicaciones electrostáticas existentes, como la recolección e impresión de energía, así como para evitar peligros potenciales, como incendios provocados por chispas de electricidad estática.\\n\\nLa investigación se publicará el jueves 12 de septiembre en la revista Physical Review Letters. Laurence Marks, profesor de ciencia e ingeniería de materiales en la Escuela de Ingeniería McCormick de Northwestern, dirigió el estudio. Christopher Mizzi y Alex Lin, estudiantes de doctorado en el laboratorio de Marks, fueron los primeros autores del artículo.\\n\\nEl filósofo griego Tales de Mileto informó por primera vez de electricidad estática inducida por fricción en el año 600 a.C. Después de frotar el ámbar con la piel, notó que la piel atraía el polvo.\\n\\n\"Desde entonces, ha quedado claro que el roce induce una carga estática en todos los aislantes, no solo en la piel\", dijo Marks. \"Sin embargo, esto es más o menos donde terminó el consenso científico\".\\n\\nA nanoescala, todos los materiales tienen superficies rugosas con innumerables protuberancias pequeñas. Cuando dos materiales entran en contacto y se frotan entre sí, estas protuberancias se doblan y se deforman.\\n\\nEl equipo de Marks descubrió que estas deformaciones dan lugar a voltajes que finalmente causan carga estática. Este fenómeno se denomina \"efecto flexoeléctrico\", que ocurre cuando la separación de carga en un aislante surge de deformaciones como la flexión.\\n\\nUsando un modelo simple, el equipo de Northwestern demostró que los voltajes que surgen de las protuberancias de flexión durante el roce son, de hecho, lo suficientemente grandes como para causar electricidad estática. Este trabajo explica una serie de observaciones experimentales, como por qué se producen cargas incluso cuando se frotan dos piezas del mismo material y predice cargas medidas experimentalmente con una precisión notable.\\n\\n\"Nuestro hallazgo sugiere que la triboelectricidad, la flexoelectricidad y la fricción están inextricablemente vinculadas\", dijo Marks. \"Esto proporciona mucha información sobre cómo adaptar el rendimiento triboeléctrico para las aplicaciones actuales y expandir la funcionalidad a las nuevas tecnologías\".\\n\\n\"Este es un gran ejemplo de cómo la investigación fundamental puede explicar fenómenos cotidianos que no se habían entendido previamente, y de cómo la investigación en un área, en este caso la fricción y el desgaste, puede conducir a avances inesperados en otra área\", dijo Andrew Wells , director de programa de la National Science Foundation (NSF), que financió la investigación. \"NSF financia investigaciones como esta en ciencia e ingeniería de materiales para obtener nuevos conocimientos que algún día puedan abrir nuevas oportunidades\".\\n\\n', 'imgalt': ' Cabello estático (imagen de stock).', 'meta': ' Los científicos desarrollaron un nuevo modelo, que muestra que frotar dos objetos juntos produce electricidad estática, o triboelectricidad, al doblar las pequeñas protuberancias en la superficie de los materiales.\\n'}\n",
      "{'source:-pt': 'fonte:', 'archive-zh-CN': '档案', 'journal pacifique-es': 'periódico pacífico', 'source:-pl': 'źródło', 'archive-es': 'archivo', 'about us-es': 'sobre nosotros', 'source:-es': 'fuente:', 'archive-pl': 'archiwum', 'homepage-zh-CN': '主页', 'homepage-pt': 'pagina inicial', 'journal pacifique-pt': 'jornal pacífico', 'archive-pt': 'arquivo', 'journal pacifique-zh-CN': '和平的报纸', 'about us-pl': 'o nas', 'about us-zh-CN': '关于我们', 'homepage-pl': 'strona główna', 'source:-zh-CN': '资源', 'homepage-es': 'página principal', 'about us-pt': 'sobre nós', 'journal pacifique-pl': 'spokojna gazeta'}\n",
      "headline\n",
      "meta\n",
      "article\n",
      "imgalt\n",
      "{'headline': 'Resolvendo o antigo mistério de como o atrito leva à eletricidade estática ', 'article': '\\nAgora, uma equipe da Northwestern University desenvolveu um novo modelo que mostra que esfregar dois objetos juntos produz eletricidade estática, ou triboeletricidade, dobrando as minúsculas saliências na superfície dos materiais.\\n\\nEsse novo entendimento pode ter implicações importantes para as aplicações eletrostáticas existentes, como coleta e impressão de energia, além de evitar perigos em potencial, como incêndios iniciados por faíscas da eletricidade estática.\\n\\nA pesquisa será publicada na quinta-feira, 12 de setembro na revista Physical Review Letters. Laurence Marks, professor de ciência e engenharia de materiais da McCormick School of Engineering da Northwestern, liderou o estudo. Christopher Mizzi e Alex Lin, estudantes de doutorado no laboratório de Marks, foram co-primeiros autores do artigo.\\n\\nO filósofo grego Thales de Miletus primeiro relatou eletricidade estática induzida por fricção em 600 a.C. Depois de esfregar âmbar com pêlo, ele notou que o pêlo atraía poeira.\\n\\n\"Desde então, ficou claro que a fricção induz carga estática em todos os isoladores, não apenas no pêlo\", disse Marks. \"No entanto, é mais ou menos onde o consenso científico terminou.\"\\n\\nNa nanoescala, todos os materiais têm superfícies rugosas com inúmeras saliências minúsculas. Quando dois materiais entram em contato e se esfregam, essas saliências se dobram e se deformam.\\n\\nA equipe de Marks descobriu que essas deformações dão origem a tensões que acabam causando carga estática. Esse fenômeno é chamado de \"efeito flexoelétrico\", que ocorre quando a separação de carga em um isolador surge de deformações como flexões.\\n\\nUsando um modelo simples, a equipe da Northwestern mostrou que as tensões decorrentes das saliências dobradas durante a fricção são realmente grandes o suficiente para causar eletricidade estática. Este trabalho explica uma série de observações experimentais, como por que as cargas são produzidas mesmo quando duas peças do mesmo material são esfregadas e prevê cargas experimentalmente medidas com precisão notável.\\n\\n\"Nossa descoberta sugere que triboeletricidade, flexoeletricidade e atrito estão indissociavelmente ligados\", disse Marks. \"Isso fornece muitas informações sobre a adequação do desempenho triboelétrico para aplicativos atuais e a expansão da funcionalidade para novas tecnologias\".\\n\\n\"Este é um ótimo exemplo de como a pesquisa fundamental pode explicar fenômenos cotidianos que não haviam sido entendidos anteriormente e de como a pesquisa em uma área, neste caso, atrito e desgaste, pode levar a avanços inesperados em outra área\", disse Andrew Wells. , diretor do programa da National Science Foundation (NSF), que financiou a pesquisa. \"A NSF financia pesquisas como essa em ciência e engenharia de materiais para novos conhecimentos que podem um dia abrir novas oportunidades\".\\n\\n', 'imgalt': ' Cabelo estático (imagem).', 'meta': ' Os cientistas desenvolveram um novo modelo, que mostra que esfregar dois objetos juntos produz eletricidade estática, ou triboeletricidade, dobrando as minúsculas protrusões na superfície dos materiais.\\n'}\n",
      "{'source:-pt': 'fonte:', 'archive-zh-CN': '档案', 'journal pacifique-es': 'periódico pacífico', 'source:-pl': 'źródło', 'archive-es': 'archivo', 'about us-es': 'sobre nosotros', 'source:-es': 'fuente:', 'archive-pl': 'archiwum', 'homepage-zh-CN': '主页', 'homepage-pt': 'pagina inicial', 'journal pacifique-pt': 'jornal pacífico', 'archive-pt': 'arquivo', 'journal pacifique-zh-CN': '和平的报纸', 'about us-pl': 'o nas', 'about us-zh-CN': '关于我们', 'homepage-pl': 'strona główna', 'source:-zh-CN': '资源', 'homepage-es': 'página principal', 'about us-pt': 'sobre nós', 'journal pacifique-pl': 'spokojna gazeta'}\n",
      "headline\n",
      "meta\n",
      "article\n",
      "imgalt\n"
     ]
    },
    {
     "name": "stdout",
     "output_type": "stream",
     "text": [
      "{'headline': 'Rozwiązanie długoletniej tajemnicy, w jaki sposób tarcie prowadzi do elektryczności statycznej ', 'article': '\\nTeraz zespół Northwestern University opracował nowy model, który pokazuje, że pocieranie dwóch obiektów razem wytwarza elektryczność statyczną lub tryboelektryczność poprzez zginanie maleńkich wypukłości na powierzchni materiałów.\\n\\nTo nowe zrozumienie może mieć ważne implikacje dla istniejących zastosowań elektrostatycznych, takich jak pozyskiwanie energii i drukowanie, a także dla uniknięcia potencjalnych zagrożeń, takich jak pożary wywołane iskrami z elektryczności statycznej.\\n\\nWyniki badań zostaną opublikowane w czwartek 12 września w czasopiśmie Physical Review Letters. Laurence Marks, profesor inżynierii materiałowej w McCormick School of Engineering w Northwestern, kierował badaniami. Christopher Mizzi i Alex Lin, doktoranci w laboratorium Marksa, byli pierwszymi autorami artykułu.\\n\\nGrecki filozof Thales z Miletu po raz pierwszy zgłosił indukowaną tarcie elektryczność statyczną w 600 r.p.n.e. Po przetarciu bursztynu futrem zauważył, że futro przyciąga kurz.\\n\\n„Od tego czasu stało się jasne, że pocieranie indukuje ładunki elektrostatyczne we wszystkich izolatorach, nie tylko futrach”, powiedział Marks. „Jednak mniej więcej na tym kończy się konsensus naukowy”.\\n\\nW nanoskali wszystkie materiały mają chropowate powierzchnie z niezliczonymi drobnymi występami. Kiedy dwa materiały stykają się i ocierają się o siebie, występy te wyginają się i odkształcają.\\n\\nZespół Marksa stwierdził, że odkształcenia te powodują wzrost napięć, które ostatecznie powodują ładowanie statyczne. Zjawisko to nazywane jest „efektem fleksoelektrycznym”, który występuje, gdy oddzielenie ładunku w izolatorze powstaje w wyniku odkształceń, takich jak zginanie.\\n\\nKorzystając z prostego modelu, zespół Northwestern wykazał, że napięcia wynikające z wyginających się występów podczas tarcia są rzeczywiście wystarczająco duże, aby spowodować elektryczność statyczną. W pracy wyjaśniono szereg obserwacji eksperymentalnych, na przykład dlaczego powstają ładunki, nawet gdy dwa kawałki tego samego materiału są pocierane razem i przewiduje eksperymentalnie zmierzone ładunki z niezwykłą dokładnością.\\n\\n„Nasze odkrycie sugeruje, że tryboelektryczność, fleksoelektryczność i tarcie są nierozerwalnie związane”, powiedział Marks. „Zapewnia to duży wgląd w dostosowywanie wydajności tryboelektrycznej do bieżących aplikacji i rozszerzanie funkcjonalności na nowe technologie”.\\n\\n„To świetny przykład tego, jak podstawowe badania mogą wyjaśnić codzienne zjawiska, których wcześniej nie rozumiano, oraz w jaki sposób badania w jednym obszarze, w tym przypadku tarcie i zużycie, mogą prowadzić do nieoczekiwanych postępów w innym obszarze”, powiedział Andrew Wells , dyrektor programu w National Science Foundation (NSF), który sfinansował badania. „NSF finansuje takie badania w dziedzinie inżynierii materiałowej i inżynierii materiałowej, aby uzyskać nową wiedzę, która pewnego dnia otworzy nowe możliwości”.\\n\\n', 'imgalt': ' Włosy statyczne (zdjęcie stockowe).', 'meta': ' Naukowcy opracowali nowy model, który pokazuje, że pocieranie dwóch obiektów razem wytwarza elektryczność statyczną lub tryboelektryczność, poprzez zginanie maleńkich wypukłości na powierzchni materiałów.\\n'}\n",
      "{'source:-pt': 'fonte:', 'archive-zh-CN': '档案', 'journal pacifique-es': 'periódico pacífico', 'source:-pl': 'źródło', 'archive-es': 'archivo', 'about us-es': 'sobre nosotros', 'source:-es': 'fuente:', 'archive-pl': 'archiwum', 'homepage-zh-CN': '主页', 'homepage-pt': 'pagina inicial', 'journal pacifique-pt': 'jornal pacífico', 'archive-pt': 'arquivo', 'journal pacifique-zh-CN': '和平的报纸', 'about us-pl': 'o nas', 'about us-zh-CN': '关于我们', 'homepage-pl': 'strona główna', 'source:-zh-CN': '资源', 'homepage-es': 'página principal', 'about us-pt': 'sobre nós', 'journal pacifique-pl': 'spokojna gazeta'}\n",
      "headline\n",
      "meta\n",
      "article\n",
      "imgalt\n",
      "{'headline': '解决摩擦如何导致静电的长期谜团', 'article': '\\n现在，西北大学的一个团队开发了一种新模型，该模型显示通过弯曲材料表面上的微小突起，将两个物体摩擦在一起会产生静电或摩擦电。\\n\\n这种新的理解可能对现有的静电应用产生重要影响，例如能量收集和印刷，以及避免潜在的危险，例如由静电火花引发的火灾。\\n\\n该研究将于9月12日星期四在“物理评论快报”上发表。西北麦考密克工程学院材料科学与工程教授劳伦斯马克斯领导了这项研究。 Marks实验室的博士生Christopher Mizzi和Alex Lin是该论文的共同第一作者。\\n\\n米利都的希腊哲学家Thales首先报道了公元前600年的摩擦引起的静电。用裘皮擦琥珀后，他发现毛皮吸引了灰尘。\\n\\n“从那时起，很明显摩擦会在所有绝缘体中产生静电，而不仅仅是毛皮，”马克斯说。 “然而，这或多或少是科学共识结束的地方。”\\n\\n在纳米尺度上，所有材料都具有粗糙表面，具有无数微小突起。当两种材料接触并相互摩擦时，这些突起弯曲并变形。\\n\\nMarks的团队发现这些变形会产生最终导致静电充电的电压。这种现象被称为“挠曲电效应”，其发生在绝缘体中的电荷分离由诸如弯曲的变形引起时。\\n\\n使用一个简单的模型，西北大学的研究小组表明，摩擦过程中弯曲突起产生的电压实际上足以引起静电。这项工作解释了许多实验观察，例如为什么即使两块相同材料被摩擦在一起产生电荷，并以非常精确的方式预测实验测量的电荷。\\n\\n“我们的发现表明摩擦电，挠曲电和摩擦力是密不可分的，”马克斯说。 “这为当前应用的定制摩擦电性能以及将功能扩展到新技术提供了很多见解。”\\n\\n“这是一个很好的例子，说明基础研究如何解释以前未被理解的日常现象，以及一个领域的研究，在这种情况下摩擦和磨损，如何导致另一个领域的意外进展，”安德鲁威尔斯说。 ，美国国家科学基金会（NSF）的项目主任，为该研究提供资金。 “NSF在材料科学和工程方面为这样的研究提供资金，以获得有朝一日可以开辟新机会的新知识。”\\n\\n', 'imgalt': '静态头发（股票图像）。', 'meta': '科学家开发了一种新模型，该模型显示通过弯曲材料表面上的微小突起，将两个物体摩擦在一起会产生静电或摩擦电。\\n'}\n",
      "{'source:-pt': 'fonte:', 'archive-zh-CN': '档案', 'journal pacifique-es': 'periódico pacífico', 'source:-pl': 'źródło', 'archive-es': 'archivo', 'about us-es': 'sobre nosotros', 'source:-es': 'fuente:', 'archive-pl': 'archiwum', 'homepage-zh-CN': '主页', 'homepage-pt': 'pagina inicial', 'journal pacifique-pt': 'jornal pacífico', 'archive-pt': 'arquivo', 'journal pacifique-zh-CN': '和平的报纸', 'about us-pl': 'o nas', 'about us-zh-CN': '关于我们', 'homepage-pl': 'strona główna', 'source:-zh-CN': '资源', 'homepage-es': 'página principal', 'about us-pt': 'sobre nós', 'journal pacifique-pl': 'spokojna gazeta'}\n",
      "headline\n",
      "meta\n",
      "article\n",
      "imgalt\n",
      "{'headline': 'El reactor convierte el gas de efecto invernadero en combustible líquido puro ', 'article': '\\nEl reactor catalítico desarrollado por el laboratorio de ingeniería química y biomolecular de la Universidad de Rice, Haotian Wang, utiliza dióxido de carbono como materia prima y, en su último prototipo, produce altas concentraciones de ácido fórmico altamente purificado.\\n\\nEl ácido fórmico producido por los dispositivos tradicionales de dióxido de carbono necesita pasos de purificación costosos e intensivos en energía, dijo Wang. La producción directa de soluciones de ácido fórmico puro ayudará a promover tecnologías comerciales de conversión de dióxido de carbono.\\n\\nEl método se detalla en Nature Energy.\\n\\nWang, quien se unió a la Escuela de Ingeniería Brown de Rice en enero, y su grupo persiguen tecnologías que convierten los gases de efecto invernadero en productos útiles. En las pruebas, el nuevo electrocatalizador alcanzó una eficiencia de conversión de energía de aproximadamente 42%. Eso significa que casi la mitad de la energía eléctrica puede almacenarse en ácido fórmico como combustible líquido.\\n\\n\"El ácido fórmico es un portador de energía\", dijo Wang. \"Es un combustible de celda de combustible que puede generar electricidad y emitir dióxido de carbono, que puede tomar y reciclar nuevamente.\\n\\n\"También es fundamental en la industria de la ingeniería química como materia prima para otros productos químicos y un material de almacenamiento de hidrógeno que puede contener casi 1,000 veces la energía del mismo volumen de gas hidrógeno, que es difícil de comprimir\", dijo. \"Ese es actualmente un gran desafío para los automóviles con celdas de combustible de hidrógeno\".\\n\\nDos avances hicieron posible el nuevo dispositivo, dijo el autor principal e investigador postdoctoral de Rice, Chuan Xia. El primero fue su desarrollo de un catalizador de bismuto bidimensional robusto y el segundo un electrolito de estado sólido que elimina la necesidad de sal como parte de la reacción.\\n\\n\"El bismuto es un átomo muy pesado, en comparación con los metales de transición como el cobre, el hierro o el cobalto\", dijo Wang. \"Su movilidad es mucho menor, particularmente en condiciones de reacción. De modo que estabiliza el catalizador\". Señaló que el reactor está estructurado para evitar que el agua entre en contacto con el catalizador, lo que también ayuda a preservarlo.\\n\\nXia puede fabricar los nanomateriales a granel. \"Actualmente, las personas producen catalizadores en las escalas de miligramos o gramos\", dijo. \"Desarrollamos una forma de producirlos a escala de kilogramos. Eso hará que nuestro proceso sea más fácil de escalar para la industria\".\\n\\nEl electrolito sólido a base de polímero está recubierto con ligandos de ácido sulfónico para conducir carga positiva o grupos funcionales amino para conducir iones negativos. \"Por lo general, las personas reducen el dióxido de carbono en un electrolito líquido tradicional como el agua salada\", dijo Wang. \"Desea que se conduzca la electricidad, pero el electrolito de agua pura es demasiado resistente. Necesita agregar sales como cloruro de sodio o bicarbonato de potasio para que los iones puedan moverse libremente en el agua\".\\n\\n\"Pero cuando se genera ácido fórmico de esa manera, se mezcla con las sales\", dijo. \"Para la mayoría de las aplicaciones, tiene que eliminar las sales del producto final, lo que requiere mucha energía y costo. Por lo tanto, empleamos electrolitos sólidos que conducen protones y pueden estar hechos de polímeros insolubles o compuestos inorgánicos, eliminando la necesidad de sales \".\\n\\nLa velocidad a la que fluye el agua a través de la cámara del producto determina la concentración de la solución. El rendimiento lento con la configuración actual produce una solución que es casi un 30% de ácido fórmico en peso, mientras que los flujos más rápidos permiten personalizar la concentración. Los investigadores esperan alcanzar concentraciones más altas de los reactores de próxima generación que aceptan el flujo de gas para extraer vapores de ácido fórmico puro.\\n\\nEl laboratorio de Rice trabajó con el Laboratorio Nacional Brookhaven para ver el proceso en progreso. \"La espectroscopía de absorción de rayos X, una técnica poderosa disponible en la línea de haz de la Espectroscopía de cubierta interna (ISS) en la Fuente de luz nacional sincrotrón II de Brookhaven Lab, nos permite sondear la estructura electrónica de electrocatalizadores en operando, es decir, durante el proceso químico real, \"dijo el coautor Eli Stavitski, científico principal de la línea de luz de la ISS. \"En este trabajo, seguimos los estados de oxidación del bismuto a diferentes potenciales y pudimos identificar el estado activo del catalizador durante la reducción de dióxido de carbono\".\\n\\nCon su reactor actual, el laboratorio generó ácido fórmico continuamente durante 100 horas con una degradación insignificante de los componentes del reactor, incluidos los catalizadores a nanoescala. Wang sugirió que el reactor podría ser fácilmente modificado para producir productos de mayor valor como el ácido acético, el etanol o los combustibles de propanol.\\n\\n\"El panorama general es que la reducción de dióxido de carbono es muy importante por su efecto sobre el calentamiento global, así como para la síntesis química verde\", dijo Wang. \"Si la electricidad proviene de fuentes renovables como el sol o el viento, podemos crear un circuito que convierta el dióxido de carbono en algo importante sin emitir más\".\\n\\nLos coautores son el estudiante graduado de Rice Peng Zhu; estudiante graduado Qiu Jiang y Husam Alshareef, profesor de ciencia e ingeniería de materiales, en la Universidad de Ciencia y Tecnología King Abdullah, Arabia Saudita (KAUST); investigador postdoctoral Ying Pan de la Universidad de Harvard; y el científico del personal Wentao Liang de la Northeastern University. Wang es el profesor asistente de fiduciario William Marsh Rice de ingeniería química y biomolecular. Xia es becario postdoctoral de J. Evans Attwell-Welch en Rice.\\n\\nRice y las instalaciones para usuarios de la Oficina de Ciencias de la Oficina de Ciencia del Departamento de Energía de EE. UU. Apoyaron la investigación.\\n\\n', 'imgalt': ' Modelos de moléculas de dióxido de carbono (imagen de stock).', 'meta': ' Un reactor de electrocatálisis construido en la Universidad de Rice recicla dióxido de carbono para producir soluciones de combustible líquido puro usando electricidad. Los científicos detrás de la invención esperan que se convierta en una forma eficiente y rentable de reutilizar el gas de efecto invernadero y mantenerlo fuera de la atmósfera.\\n'}\n",
      "{'source:-pt': 'fonte:', 'archive-zh-CN': '档案', 'journal pacifique-es': 'periódico pacífico', 'source:-pl': 'źródło', 'archive-es': 'archivo', 'about us-es': 'sobre nosotros', 'source:-es': 'fuente:', 'archive-pl': 'archiwum', 'homepage-zh-CN': '主页', 'homepage-pt': 'pagina inicial', 'journal pacifique-pt': 'jornal pacífico', 'archive-pt': 'arquivo', 'journal pacifique-zh-CN': '和平的报纸', 'about us-pl': 'o nas', 'about us-zh-CN': '关于我们', 'homepage-pl': 'strona główna', 'source:-zh-CN': '资源', 'homepage-es': 'página principal', 'about us-pt': 'sobre nós', 'journal pacifique-pl': 'spokojna gazeta'}\n",
      "headline\n",
      "meta\n",
      "article\n",
      "imgalt\n"
     ]
    },
    {
     "name": "stdout",
     "output_type": "stream",
     "text": [
      "{'headline': 'Reator transforma gás de efeito estufa em combustível líquido puro ', 'article': '\\nO reator catalítico desenvolvido pelo laboratório químico e biomolecular da Universidade Rice, Haotian Wang, usa dióxido de carbono como matéria-prima e, em seu protótipo mais recente, produz concentrações altamente purificadas e altas de ácido fórmico.\\n\\nO ácido fórmico produzido por dispositivos tradicionais de dióxido de carbono precisa de etapas de purificação dispendiosas e que consomem muita energia, disse Wang. A produção direta de soluções de ácido fórmico puro ajudará a promover tecnologias comerciais de conversão de dióxido de carbono.\\n\\nO método é detalhado em Nature Energy.\\n\\nWang, que ingressou na Brown School of Engineering de Rice em janeiro, e seu grupo buscam tecnologias que transformam gases de efeito estufa em produtos úteis. Nos testes, o novo eletrocatalisador alcançou uma eficiência de conversão de energia de cerca de 42%. Isso significa que quase metade da energia elétrica pode ser armazenada em ácido fórmico como combustível líquido.\\n\\n\"O ácido fórmico é um transportador de energia\", disse Wang. \"É um combustível de célula de combustível que pode gerar eletricidade e emitir dióxido de carbono, que você pode pegar e reciclar novamente.\\n\\n\"Também é fundamental na indústria de engenharia química como matéria-prima para outros produtos químicos, e um material de armazenamento de hidrogênio que pode conter quase 1.000 vezes a energia do mesmo volume de gás hidrogênio, difícil de comprimir\", afirmou. \"Atualmente, esse é um grande desafio para os carros a célula a hidrogênio\".\\n\\nDois avanços tornaram possível o novo dispositivo, disse o principal autor e pesquisador de pós-doutorado em Rice, Chuan Xia. O primeiro foi o desenvolvimento de um catalisador robusto e bidimensional de bismuto e o segundo de um eletrólito de estado sólido que elimina a necessidade de sal como parte da reação.\\n\\n\"O bismuto é um átomo muito pesado, comparado a metais de transição como cobre, ferro ou cobalto\", disse Wang. \"Sua mobilidade é muito menor, principalmente sob condições de reação. Isso estabiliza o catalisador\". Ele observou que o reator está estruturado para impedir que a água entre em contato com o catalisador, o que também ajuda a preservá-lo.\\n\\nXia pode fabricar os nanomateriais a granel. \"Atualmente, as pessoas produzem catalisadores nas escalas de miligrama ou grama\", disse ele. \"Desenvolvemos uma maneira de produzi-los na escala de quilogramas. Isso facilitará o processo de expansão para a indústria\".\\n\\nO eletrólito sólido à base de polímero é revestido com ligantes de ácido sulfônico para conduzir carga positiva ou grupos funcionais amino para conduzir íons negativos. \"Normalmente, as pessoas reduzem o dióxido de carbono em um eletrólito líquido tradicional como a água salgada\", disse Wang. \"Você deseja que a eletricidade seja conduzida, mas o eletrólito da água pura é muito resistente. Você precisa adicionar sais como cloreto de sódio ou bicarbonato de potássio para que os íons possam se mover livremente na água.\\n\\n\"Mas quando você gera ácido fórmico dessa maneira, ele se mistura com os sais\", disse ele. \"Para a maioria das aplicações, é necessário remover os sais do produto final, o que demanda muita energia e custo. Por isso, empregamos eletrólitos sólidos que conduzem prótons e podem ser feitos de polímeros insolúveis ou compostos inorgânicos, eliminando a necessidade de sais . \"\\n\\nA taxa na qual a água flui através da câmara do produto determina a concentração da solução. A taxa de transferência lenta com a configuração atual produz uma solução com quase 30% de ácido fórmico em peso, enquanto fluxos mais rápidos permitem que a concentração seja personalizada. Os pesquisadores esperam alcançar concentrações mais altas dos reatores de próxima geração que aceitam o fluxo de gás para trazer vapores de ácido fórmico puro.\\n\\nO laboratório Rice trabalhou com o Laboratório Nacional Brookhaven para visualizar o processo em andamento. \"A espectroscopia de absorção de raios-X, uma técnica poderosa disponível na linha de feixe Inner Shell Spectroscopy (ISS) da National Synchrotron Light Source II da Brookhaven Lab, nos permite investigar a estrutura eletrônica dos eletrocatalisadores em operação, ou seja, durante o processo químico real, \", disse o coautor Eli Stavitski, principal cientista da ISS. \"Neste trabalho, seguimos os estados de oxidação do bismuto em diferentes potenciais e conseguimos identificar o estado ativo do catalisador durante a redução de dióxido de carbono\".\\n\\nCom seu reator atual, o laboratório gerou ácido fórmico continuamente por 100 horas com degradação insignificante dos componentes do reator, incluindo os catalisadores em nanoescala. Wang sugeriu que o reator poderia ser facilmente reequipado para produzir produtos de maior valor como ácido acético, etanol ou propanol.\\n\\n\"O cenário geral é que a redução de dióxido de carbono é muito importante por seu efeito no aquecimento global e também na síntese química verde\", disse Wang. \"Se a eletricidade vier de fontes renováveis, como o sol ou o vento, podemos criar um loop que transforma dióxido de carbono em algo importante sem emitir mais\".\\n\\nOs co-autores são estudantes de graduação em Rice, Peng Zhu; o estudante de graduação Qiu Jiang e Husam Alshareef, professor de ciência e engenharia de materiais, na Universidade de Ciência e Tecnologia King Abdullah, Arábia Saudita (KAUST); pesquisador de pós-doutorado Ying Pan da Universidade de Harvard; e o cientista Wentao Liang, da Northeastern University. Wang é o professor assistente de William Marsh Rice Trustee de engenharia química e biomolecular. Xia é pós-doutorado em J. Evans Attwell-Welch na Rice.\\n\\nRice e o Departamento de Energia dos EUA Departamento de Instalações de Usuários da Ciência apoiaram a pesquisa.\\n\\n', 'imgalt': ' Modelos de moléculas de dióxido de carbono (imagem).', 'meta': ' Um reator de eletrocatálise construído na Rice University recicla dióxido de carbono para produzir soluções de combustível líquido puro usando eletricidade. Os cientistas por trás da invenção esperam que ela se torne uma maneira eficiente e lucrativa de reutilizar o gás de efeito estufa e mantê-lo fora da atmosfera.\\n'}\n",
      "{'source:-pt': 'fonte:', 'archive-zh-CN': '档案', 'journal pacifique-es': 'periódico pacífico', 'source:-pl': 'źródło', 'archive-es': 'archivo', 'about us-es': 'sobre nosotros', 'source:-es': 'fuente:', 'archive-pl': 'archiwum', 'homepage-zh-CN': '主页', 'homepage-pt': 'pagina inicial', 'journal pacifique-pt': 'jornal pacífico', 'archive-pt': 'arquivo', 'journal pacifique-zh-CN': '和平的报纸', 'about us-pl': 'o nas', 'about us-zh-CN': '关于我们', 'homepage-pl': 'strona główna', 'source:-zh-CN': '资源', 'homepage-es': 'página principal', 'about us-pt': 'sobre nós', 'journal pacifique-pl': 'spokojna gazeta'}\n",
      "headline\n",
      "meta\n",
      "article\n",
      "imgalt\n",
      "{'headline': 'Reaktor zamienia gaz cieplarniany w czyste paliwo płynne ', 'article': '\\nReaktor katalityczny opracowany przez laboratorium inżyniera chemicznego i biomolekularnego na Uniwersytecie Rice w Haotian Wang wykorzystuje dwutlenek węgla jako surowiec, aw swoim najnowszym prototypie wytwarza wysoko oczyszczone i wysokie stężenia kwasu mrówkowego.\\n\\nWang powiedział, że kwas mrówkowy wytwarzany przez tradycyjne urządzenia do dwutlenku węgla wymaga kosztownych i energochłonnych etapów oczyszczania. Bezpośrednia produkcja czystych roztworów kwasu mrówkowego pomoże promować komercyjne technologie konwersji dwutlenku węgla.\\n\\nMetoda została szczegółowo opisana w Nature Energy.\\n\\nWang, który dołączył do Brown School of Engineering w styczniu w Rice, i jego grupa opracowują technologie, które zamieniają gazy cieplarniane w przydatne produkty. W testach nowy elektrokatalizator osiągnął wydajność konwersji energii około 42%. Oznacza to, że prawie połowa energii elektrycznej może być magazynowana w kwasie mrówkowym jako paliwo płynne.\\n\\n„Kwas mrówkowy jest nośnikiem energii” - powiedział Wang. „Jest to paliwo do ogniw paliwowych, które może wytwarzać energię elektryczną i emitować dwutlenek węgla, który można odzyskać i poddać recyklingowi.\\n\\n„Ma również zasadnicze znaczenie w przemyśle inżynierii chemicznej jako surowiec dla innych chemikaliów oraz materiał do magazynowania wodoru, który może pomieścić prawie 1000 razy więcej energii niż ta sama objętość gazowego wodoru, który jest trudny do sprężenia” - powiedział. „To obecnie duże wyzwanie dla samochodów napędzanych wodorem”.\\n\\nDwa postępy sprawiły, że nowe urządzenie stało się możliwe, powiedział Chuan Xia, główny autor i badacz doktora Rice. Pierwszym z nich był rozwój solidnego, dwuwymiarowego katalizatora bizmutu, a drugim elektrolit w stanie stałym, który eliminuje potrzebę soli jako części reakcji.\\n\\n„Bizmut jest bardzo ciężkim atomem w porównaniu z metalami przejściowymi, takimi jak miedź, żelazo lub kobalt” - powiedział Wang. „Jego ruchliwość jest znacznie niższa, szczególnie w warunkach reakcji. To stabilizuje katalizator”. Zauważył, że reaktor jest tak skonstruowany, aby woda nie kontaktowała się z katalizatorem, co również pomaga go zachować.\\n\\nXia może wytwarzać nanomateriały luzem. „Obecnie ludzie produkują katalizatory w skali miligramów lub gramów” - powiedział. „Opracowaliśmy sposób ich wytwarzania w skali kilogramowej. Dzięki temu nasz proces będzie łatwiejszy do skalowania dla przemysłu”.\\n\\nStały elektrolit na bazie polimeru jest powlekany ligandami kwasu sulfonowego w celu przewodzenia ładunku dodatniego lub grup funkcyjnych amin w celu przewodzenia jonów ujemnych. „Zwykle ludzie redukują dwutlenek węgla w tradycyjnym ciekłym elektrolicie, takim jak słona woda” - powiedział Wang. „Chcesz, aby elektryczność była przewodzona, ale elektrolit w czystej wodzie jest zbyt odporny. Musisz dodać sole, takie jak chlorek sodu lub wodorowęglan potasu, aby jony mogły swobodnie poruszać się w wodzie.\\n\\n„Ale kiedy generujesz w ten sposób kwas mrówkowy, miesza się on z solami” - powiedział. „W przypadku większości zastosowań należy usunąć sole z produktu końcowego, co wymaga dużo energii i kosztów. Dlatego zastosowaliśmy stałe elektrolity, które przewodzą protony i mogą być wykonane z nierozpuszczalnych polimerów lub związków nieorganicznych, co eliminuje potrzebę stosowania soli . ”\\n\\nSzybkość przepływu wody przez komorę produktu determinuje stężenie roztworu. Niska przepustowość przy obecnym układzie daje roztwór, który stanowi prawie 30% masy kwasu mrówkowego, a szybsze przepływy pozwalają na dostosowanie stężenia. Naukowcy oczekują, że osiągną wyższe stężenia z reaktorów nowej generacji, które przyjmują przepływ gazu, aby wydobywać czyste opary kwasu mrówkowego.\\n\\nLaboratorium Rice współpracowało z Brookhaven National Laboratory, aby zobaczyć przebieg procesu. „Spektroskopia absorpcyjna promieniowania rentgenowskiego, potężna technika dostępna na linii wiązki spektroskopii wewnętrznej powłoki (ISS) w National Synchrotron Light Source II firmy Brookhaven Lab, pozwala nam zbadać strukturę elektronową elektrokatalizatorów w operando, czyli podczas rzeczywistego procesu chemicznego, „powiedział współautor Eli Stavitski, główny naukowiec w dziedzinie wiązek w ISS. „W tej pracy śledziliśmy stany utlenienia bizmutu przy różnych potencjałach i byliśmy w stanie zidentyfikować stan aktywny katalizatora podczas redukcji dwutlenku węgla”.\\n\\nDzięki obecnemu reaktorowi laboratorium wytwarzało kwas mrówkowy w sposób ciągły przez 100 godzin przy znikomej degradacji składników reaktora, w tym katalizatorów w skali nano. Wang zasugerował, że reaktor można łatwo poddać zmianom w celu wytworzenia produktów o wyższej wartości, takich jak kwas octowy, etanol lub paliwa propanolowe.\\n\\n„Ogólny obraz jest taki, że redukcja dwutlenku węgla jest bardzo ważna ze względu na jego wpływ na globalne ocieplenie, a także na zieloną syntezę chemiczną” - powiedział Wang. „Jeśli energia elektryczna pochodzi ze źródeł odnawialnych, takich jak słońce lub wiatr, możemy stworzyć pętlę, która zamienia dwutlenek węgla w coś ważnego, nie emitując więcej”.\\n\\nWspółautorami są absolwentka Rice Peng Zhu; absolwent Qiu Jiang i Husam Alshareef, profesor nauk o materiałach i inżynierii, na Uniwersytecie Nauki i Technologii Króla Abdullaha w Arabii Saudyjskiej (KAUST); doktor habilitowany Ying Pan z Harvard University; oraz pracownik naukowy Wentao Liang z Northeastern University. Wang jest asystentem powiernika ryżu William Marsh, profesorem inżynierii chemicznej i biomolekularnej. Xia jest doktorem habilitowanym J. Evans Attwell-Welch w Rice.\\n\\nRice i amerykańskie Ministerstwo Energetyki Office of Science User Services wsparły badania.\\n\\n', 'imgalt': ' Modele cząsteczek dwutlenku węgla (zdjęcie stockowe).', 'meta': \" Reaktor elektrokatalizy zbudowany na Uniwersytecie Rice'a przetwarza dwutlenek węgla, aby wytwarzać czyste roztwory paliw ciekłych przy użyciu energii elektrycznej. Naukowcy stojący za wynalazkiem mają nadzieję, że stanie się skutecznym i opłacalnym sposobem na ponowne wykorzystanie gazu cieplarnianego i utrzymanie go poza atmosferą.\\n\"}\n",
      "{'source:-pt': 'fonte:', 'archive-zh-CN': '档案', 'journal pacifique-es': 'periódico pacífico', 'source:-pl': 'źródło', 'archive-es': 'archivo', 'about us-es': 'sobre nosotros', 'source:-es': 'fuente:', 'archive-pl': 'archiwum', 'homepage-zh-CN': '主页', 'homepage-pt': 'pagina inicial', 'journal pacifique-pt': 'jornal pacífico', 'archive-pt': 'arquivo', 'journal pacifique-zh-CN': '和平的报纸', 'about us-pl': 'o nas', 'about us-zh-CN': '关于我们', 'homepage-pl': 'strona główna', 'source:-zh-CN': '资源', 'homepage-es': 'página principal', 'about us-pt': 'sobre nós', 'journal pacifique-pl': 'spokojna gazeta'}\n",
      "headline\n",
      "meta\n",
      "article\n",
      "imgalt\n"
     ]
    },
    {
     "name": "stdout",
     "output_type": "stream",
     "text": [
      "{'headline': '反应堆将温室气体转化为纯液体燃料', 'article': '\\n由莱斯大学化学和生物分子工程师王浩天开发的催化反应器使用二氧化碳作为原料，并在其最新的原型中生产高纯度和高浓度的甲酸。\\n\\nWang说，传统二氧化碳装置生产的甲酸需要昂贵且耗能的净化步骤。直接生产纯甲酸溶液将有助于促进商业二氧化碳转化技术。\\n\\n该方法详见Nature Energy。\\n\\nWang于1月加入赖斯布朗工程学院，他的团队追求将温室气体转化为有用产品的技术。在测试中，新型电催化剂的能量转换效率达到约42％。这意味着近一半的电能可以作为液体燃料储存在甲酸中。\\n\\n“甲酸是一种能量载体，”王说。 “它是一种燃料电池燃料，可以发电并排放二氧化碳，你可以再次抓住并回收利用。\\n\\n“它也是化学工程行业的基础，作为其他化学品的原料，以及氢气的储存材料，其能够容纳相同体积氢气的近1000倍的能量，这是难以压缩的，”他说。 “这对氢燃料电池汽车来说是一个巨大的挑战。”\\n\\n主要作者和赖斯博士后研究员川霞说，两项进展使新设备成为可能。第一个是他开发出坚固的二维铋催化剂，第二个是固态电解质，它不需要盐作为反应的一部分。\\n\\n“与过渡金属如铜，铁或钴相比，铋是一种非常重的原子，”王说。 “它的流动性要低得多，特别是在反应条件下。这样可以稳定催化剂。”他指出，反应器的结构可以防止水接触催化剂，这也有助于保护催化剂。\\n\\n夏可以批量生产纳米材料。 “目前，人们以毫克或克规模生产催化剂，”他说。 “我们开发了一种以千克规模生产它们的方法。这将使我们的工艺更容易扩展到工业领域。”\\n\\n基于聚合物的固体电解质涂覆有磺酸配体以传导正电荷或氨基官能团以传导负离子。 “通常人们会减少传统液体电解质中的二氧化碳，如咸水，”王说。 “你想要用电，但纯水电解质太耐用了。你需要加入盐，如氯化钠或碳酸氢钾，这样离子就可以在水中自由流动。\\n\\n“但是当你以这种方式生成甲酸时，它会与盐混合，”他说。 “对于大多数应用，你必须从最终产品中去除盐，这需要大量的能源和成本。因此我们使用固体电解质来传导质子，可以由不溶性聚合物或无机化合物制成，无需盐“。\\n\\n水流过产品室的速率决定了溶液的浓度。使用当前设置的低吞吐量产生的溶液重量接近30％甲酸，而更快的流量允许定制浓度。研究人员希望从接受气流的下一代反应堆中获得更高的浓度，从而产生纯甲酸蒸气。\\n\\n莱斯实验室与布鲁克海文国家实验室合作，查看正在进行的过程。 “X射线吸收光谱是Brookhaven Lab国家同步加速器光源II的内壳光谱（ISS）光束线上的一种强大技术，使我们能够在操作过程中探测电催化剂的电子结构，即在实际化学过程中， “共同作者，国际空间站主要光束线科学家Eli Stavitski说。 “在这项工作中，我们遵循铋在不同电位下的氧化态，并能够确定催化剂在二氧化碳还原过程中的活性状态。”\\n\\n利用其当前的反应器，实验室连续生成甲酸100小时，反应器组分（包括纳米级催化剂）的降解可忽略不计。 Wang建议可以很容易地对反应器进行重组，以生产乙酸，乙醇或丙醇等高价值产品。\\n\\n“总体情况是，减少二氧化碳对于它对全球变暖以及绿色化学合成的影响非常重要，”王说。 “如果电力来自太阳能或风能等可再生能源，我们就可以形成一个环路，将二氧化碳转化为重要的物质，而不会排放更多的二氧化碳。”\\n\\n合着者是赖斯研究生彭竺;研究生Qiu Jiang和Husam Alshareef，沙特阿拉伯国王阿卜杜拉科技大学（KAUST）材料科学与工程教授;哈佛大学博士后研究员Ying Pan;和东北大学的员工科学家Wentao Liang。 Wang是William Marsh Rice受托人化学与生物分子工程助理教授。 Xia是Rice的J. Evans Attwell-Welch博士后研究员。\\n\\n赖斯和美国能源部科学办公室用户设施支持了这项研究。\\n\\n', 'imgalt': '二氧化碳分子模型（库存图像）。', 'meta': '莱斯大学建造的电催化反应器回收二氧化碳，利用电力生产纯液体燃料溶液。本发明背后的科学家们希望它能够成为一种有效且有利可图的方法来重复利用温室气体并使其远离大气层。\\n'}\n",
      "{'source:-pt': 'fonte:', 'archive-zh-CN': '档案', 'journal pacifique-es': 'periódico pacífico', 'source:-pl': 'źródło', 'archive-es': 'archivo', 'about us-es': 'sobre nosotros', 'source:-es': 'fuente:', 'archive-pl': 'archiwum', 'homepage-zh-CN': '主页', 'homepage-pt': 'pagina inicial', 'journal pacifique-pt': 'jornal pacífico', 'archive-pt': 'arquivo', 'journal pacifique-zh-CN': '和平的报纸', 'about us-pl': 'o nas', 'about us-zh-CN': '关于我们', 'homepage-pl': 'strona główna', 'source:-zh-CN': '资源', 'homepage-es': 'página principal', 'about us-pt': 'sobre nós', 'journal pacifique-pl': 'spokojna gazeta'}\n",
      "headline\n",
      "meta\n",
      "article\n",
      "imgalt\n",
      "{'headline': 'El estudio de ADN antiguo más grande jamás visto ilumina milenios de la prehistoria de Asia meridional y central ', 'article': '\\nLa investigación, publicada en línea el 5 de septiembre en un par de artículos en Science and Cell, también responde preguntas de larga data sobre los orígenes de la agricultura y la fuente de los idiomas indoeuropeos en Asia meridional y central.\\n\\nGenetistas, arqueólogos y antropólogos de América del Norte, Europa, Asia Central y Asia del Sur analizaron los genomas de 524 individuos antiguos nunca antes estudiados. El trabajo aumentó el total mundial de genomas antiguos publicados en aproximadamente un 25 por ciento.\\n\\nAl comparar estos genomas entre sí y con genomas previamente secuenciados, y al poner la información en contexto junto con los registros arqueológicos, lingüísticos y de otro tipo, los investigadores completaron muchos de los detalles clave sobre quién vivió en varias partes de esta región desde la Era Mesolítica. (hace aproximadamente 12,000 años) a la Edad del Hierro (hasta hace aproximadamente 2,000 años) y cómo se relacionan con las personas que viven allí hoy.\\n\\n\"Con tantas muestras, podemos detectar interacciones sutiles entre poblaciones y valores atípicos dentro de las poblaciones, algo que solo ha sido posible en los últimos años a través de los avances tecnológicos\", dijo David Reich, coautor principal de ambos artículos y profesor. de genética en el Instituto Blavatnik de la Facultad de Medicina de Harvard.\\n\\n\"Estos estudios hablan de dos de las transformaciones culturales más profundas en la antigua Eurasia, la transición de la caza y la recolección a la agricultura y la difusión de las lenguas indoeuropeas, que se hablan hoy de las Islas Británicas al sur de Asia, junto con el movimiento de personas \", dijo Vagheesh Narasimhan, coautor de ambos artículos y becario postdoctoral en el laboratorio del Reich. \"Los estudios son particularmente significativos porque Asia Central y del Sur son partes tan poco estudiadas del mundo\".\\n\\n\"Uno de los aspectos más interesantes de este estudio es la forma en que integra la genética con la arqueología y la lingüística\", dijo Ron Pinhasi, de la Universidad de Viena, coautor principal del artículo de Science. \"Los nuevos resultados surgieron después de combinar datos, métodos y perspectivas de diversas disciplinas académicas, un enfoque integrador que proporciona mucha más información sobre el pasado que cualquiera de estas disciplinas podría\".\\n\\n\"Además, la introducción de nuevas metodologías de muestreo nos permitió minimizar el daño a los esqueletos al tiempo que maximizamos la posibilidad de obtener datos genéticos de regiones donde la preservación del ADN a menudo es pobre\", agregó Pinhasi.\\n\\nClave de idioma\\n\\nLos idiomas indoeuropeos, incluidos el hindi / urdu, el bengalí, el punjabi, el persa, el ruso, el inglés, el español, el gaélico y más de 400 más, constituyen la familia lingüística más grande de la Tierra.\\n\\nDurante décadas, los especialistas han debatido cómo las lenguas indoeuropeas llegaron a partes distantes del mundo. ¿Se propagaron a través de pastores de la estepa euroasiática? ¿O viajaron con granjeros que se movían hacia el oeste y el este desde Anatolia (actual Turquía)?\\n\\nUn documento de 2015 de Reich y sus colegas indicó que las lenguas indoeuropeas llegaron a Europa a través de la estepa. El estudio de Science ahora presenta un caso similar para el sur de Asia al mostrar que los asiáticos del sur actuales tienen poca o ninguna ascendencia de los agricultores con raíces de Anatolia.\\n\\n\"Podemos descartar una expansión a gran escala de agricultores con raíces de Anatolia en el sur de Asia, la pieza central de la \\'hipótesis de Anatolia\\' de que tal movimiento trajo la agricultura y los idiomas indoeuropeos a la región\", dijo Reich, quien también es investigador. del Instituto Médico Howard Hughes y el Instituto Broad. \"Dado que no se produjeron movimientos sustanciales de personas, este es el jaque mate para la hipótesis de Anatolia\".\\n\\nUna nueva línea de evidencia a favor de un origen estepario para las lenguas indoeuropeas es la detección de patrones genéticos que conectan a los hablantes de las ramas indoeuropeas y baltoeslavas del indoeuropeo. Los investigadores descubrieron que los hablantes actuales de ambas ramas descienden de un subgrupo de pastores esteparios que se trasladaron al oeste hacia Europa hace casi 5.000 años y luego se extendieron hacia el este en Asia Central y del Sur en los siguientes 1.500 años.\\n\\n\"Esto proporciona una explicación simple en términos de movimientos antiguos de personas para las características lingüísticas compartidas, por lo demás desconcertantes, de estas dos ramas del indoeuropeo, que hoy están separadas por grandes distancias geográficas\", dijo Reich.\\n\\nUna segunda línea de evidencia a favor de un origen estepario es el descubrimiento de los investigadores de que de las 140 poblaciones actuales del sur de Asia analizadas en el estudio, un puñado muestra un notable aumento en la ascendencia de la estepa. Todas menos una de estas poblaciones enriquecidas con estepas son grupos históricamente sacerdotales, incluidos los brahmanes, custodios tradicionales de textos escritos en el antiguo sánscrito indoeuropeo.\\n\\n\"El hallazgo de que los brahmanes a menudo tienen más ascendencia esteparia que otros grupos en el sur de Asia, controlando por otros factores, proporciona un nuevo argumento fascinante a favor de un origen estepario para las lenguas indoeuropeas en el sur de Asia\", dijo Reich.\\n\\n\"Este estudio ha completado una gran pieza del rompecabezas de la propagación del indoeuropeo\", dijo el coautor Nick Patterson, investigador en genética en HMS y científico del personal del Broad Institute of MIT y Harvard. \"Creo que ahora se entiende la imagen de alto nivel\".\\n\\n\"Este problema ha estado en el aire durante 200 años o más y ahora se está resolviendo rápidamente\", agregó. \"Estoy muy emocionado por eso\".\\n\\nOrígenes de la agricultura\\n\\nLos estudios informan otro debate de larga data, este sobre si el cambio de una economía de caza y recolección a una basada en la agricultura fue impulsado más por los movimientos de personas, la copia de ideas o la invención local.\\n\\nEn Europa, los estudios de ADN antiguo han demostrado que la agricultura llegó junto con una afluencia de personas con ascendencia de Anatolia.\\n\\nEl nuevo estudio revela una dinámica similar en Irán y Turan (sur de Asia Central), donde los investigadores descubrieron que la ascendencia y la agricultura relacionadas con Anatolia llegaron al mismo tiempo.\\n\\n\"Esto confirma que la expansión de la agricultura implicó no solo una ruta hacia el oeste desde Anatolia a Europa, sino también una ruta hacia el este desde Anatolia hacia regiones de Asia que anteriormente solo estaban habitadas por grupos de cazadores-recolectores\", dijo Pinhasi.\\n\\nLuego, a medida que la agricultura se extendía hacia el norte a través de las montañas de Asia Interior miles de años después de establecerse en Irán y Turan, \"los vínculos entre la ascendencia y la economía se vuelven más complejos\", dijo el arqueólogo Michael Frachetti de la Universidad de Washington en St. Louis, co-senior autor que dirigió gran parte del muestreo esquelético para el artículo de Science.\\n\\nHace unos 5.000 años, los investigadores descubrieron que la ascendencia del sudoeste asiático fluía hacia el norte junto con la tecnología agrícola, mientras que la ascendencia siberiana o esteparia fluía hacia el sur hacia la meseta iraní. El patrón de movimiento bidireccional tuvo lugar a lo largo de las montañas, un corredor que Frachetti mostró anteriormente era una \"Ruta de la Seda de la Edad del Bronce\" a lo largo de la cual la gente intercambiaba cultivos e ideas entre Oriente y Occidente.\\n\\nEn el sur de Asia, sin embargo, la historia parece bastante diferente. Los investigadores no solo no encontraron rastros de la ascendencia relacionada con Anatolia que es un sello distintivo de la propagación de la agricultura hacia el oeste, sino que la ascendencia relacionada con Irán que detectaron en los asiáticos del sur proviene de un linaje que se separó de los antiguos agricultores y cazadores iraníes. -los recolectores antes de que esos grupos se separen unos de otros.\\n\\nLos investigadores concluyeron que la agricultura en el sur de Asia no se debió al movimiento de personas de las culturas agrícolas anteriores del oeste; en cambio, los recolectores locales lo adoptaron.\\n\\n\"Antes de la llegada de los pastores esteparios que trajeron sus lenguas indoeuropeas hace unos 4.000 años, no encontramos evidencia de movimientos a gran escala de personas hacia el sur de Asia\", dijo Reich.\\n\\nPrimer vistazo a la ascendencia de la civilización del valle del Indo\\n\\nDesde el Himalaya hasta el Mar Arábigo, el valle del río Indo fue el sitio de una de las primeras civilizaciones del mundo antiguo, que floreció hace entre 4.000 y 5.000 años. La gente construyó ciudades con poblaciones de decenas de miles. Utilizaron pesos y medidas estandarizados e intercambiaron bienes con lugares tan remotos como África Oriental.\\n\\n¿Pero quiénes eran ellos?\\n\\nHasta ahora, los genetistas no podían extraer datos viables de esqueletos enterrados en los sitios arqueológicos de la civilización del valle del Indo porque el calor y el clima volátil de las tierras bajas del sur de Asia han degradado la mayor parte del ADN más allá de la capacidad de los científicos para analizarlo.\\n\\nEl papel de Cell cambia esto.\\n\\nDespués de analizar más de 60 muestras esqueléticas de la ciudad más grande conocida de la Civilización del Valle del Indo, llamada Rakhigarhi, los autores encontraron una con un toque de ADN antiguo. Después de más de 100 intentos de secuencia, generaron datos suficientes para llegar a conclusiones significativas.\\n\\nEl genoma de la mujer antigua coincidía con el de otras 11 personas antiguas reportadas en el artículo de Science que vivían en lo que ahora es Irán y Turkmenistán en sitios conocidos por haber intercambiado objetos con la Civilización del Valle del Indo. Los 12 tenían una mezcla distintiva de ascendencia, incluido un linaje relacionado con los cazadores-recolectores del sudeste asiático y un linaje relacionado con Irán específico para el sur de Asia. Debido a que esta mezcla era diferente de la mayoría de las personas que vivían en Irán y Turkmenistán en ese momento, los autores proponen que las 11 personas reportadas en el artículo de Science eran migrantes, probablemente de la Civilización del Valle del Indo.\\n\\nNinguno de los 12 tenía evidencia de ascendencia de pastores esteparios, de acuerdo con el modelo de que ese grupo aún no había llegado al sur de Asia.\\n\\nEl artículo de Science demostró además que después del declive de la civilización del valle del Indo entre hace 4.000 y 3.500 años, una parte del grupo al que pertenecían estos 12 individuos se mezcló con personas provenientes del norte que tenían ascendencia pastoral esteparia, formando los indios ancestrales del norte. , una de las dos principales poblaciones ancestrales de personas de la actualidad en la India. Una parte del grupo original también se mezcló con personas de la India peninsular para formar la otra población de origen primario, los indios ancestrales del sur.\\n\\n\"Las mezclas de los indios ancestrales del norte y los indios ancestrales del sur, quienes deben su ascendencia primaria a personas como el individuo de la civilización del valle del Indo que secuenciamos, forman la ascendencia principal de los asiáticos del sur hoy\", dijo Patterson.\\n\\n\"El estudio vincula directamente a los asiáticos del sur actuales con los pueblos antiguos de la primera civilización del sur de Asia\", agregó Narasimhan.\\n\\nLos autores advierten que analizar el genoma de un solo individuo limita las conclusiones que pueden extraerse sobre toda la población de la civilización del valle del Indo.\\n\\n\"Mi mejor conjetura es que la civilización del valle del Indo en sí era genéticamente extremadamente diversa\", dijo Patterson. \"Los genomas adicionales seguramente enriquecerán la imagen\".\\n\\n', 'imgalt': '', 'meta': ' Los investigadores analizaron los genomas de 524 personas antiguas nunca antes estudiadas, incluido el primer genoma de un individuo de la antigua civilización del valle del Indo. Las ideas responden preguntas de larga data sobre los orígenes de la agricultura y la fuente de las lenguas indoeuropeas en Asia meridional y central. El estudio aumenta el total mundial de genomas antiguos publicados en un 25 por ciento.\\n'}\n",
      "{'source:-pt': 'fonte:', 'archive-zh-CN': '档案', 'journal pacifique-es': 'periódico pacífico', 'source:-pl': 'źródło', 'archive-es': 'archivo', 'about us-es': 'sobre nosotros', 'source:-es': 'fuente:', 'archive-pl': 'archiwum', 'homepage-zh-CN': '主页', 'homepage-pt': 'pagina inicial', 'journal pacifique-pt': 'jornal pacífico', 'archive-pt': 'arquivo', 'journal pacifique-zh-CN': '和平的报纸', 'about us-pl': 'o nas', 'about us-zh-CN': '关于我们', 'homepage-pl': 'strona główna', 'source:-zh-CN': '资源', 'homepage-es': 'página principal', 'about us-pt': 'sobre nós', 'journal pacifique-pl': 'spokojna gazeta'}\n",
      "headline\n",
      "meta\n",
      "article\n",
      "imgalt\n"
     ]
    },
    {
     "name": "stdout",
     "output_type": "stream",
     "text": [
      "{'headline': 'O maior estudo de DNA antigo já realizado ilumina milênios da pré-história do Sul e da Ásia Central ', 'article': '\\nA pesquisa, publicada on-line em 5 de setembro em um par de artigos na Science and Cell, também responde a perguntas de longa data sobre as origens da agricultura e a fonte das línguas indo-européias no sul e no centro da Ásia.\\n\\nGeneticistas, arqueólogos e antropólogos da América do Norte, Europa, Ásia Central e Sul da Ásia analisaram os genomas de 524 indivíduos nunca antes estudados. O trabalho aumentou o total mundial de genomas antigos publicados em cerca de 25%.\\n\\nAo comparar esses genomas entre si e com os genomas previamente sequenciados, e ao colocar as informações em contexto juntamente com registros arqueológicos, lingüísticos e outros, os pesquisadores preencheram muitos dos principais detalhes sobre quem viveu em várias partes desta região desde a Era Mesolítica (cerca de 12.000 anos atrás) à Idade do Ferro (até cerca de 2.000 anos atrás) e como eles se relacionam com as pessoas que vivem lá hoje.\\n\\n\"Com tantas amostras, podemos detectar interações sutis entre populações e outliers dentro de populações, algo que só se tornou possível nos últimos dois anos através de avanços tecnológicos\", disse David Reich, co-autor sênior de artigos e professor de genética no Instituto Blavatnik na Harvard Medical School.\\n\\n\"Esses estudos falam de duas das mais profundas transformações culturais na Eurásia antiga, a transição da caça e coleta para a agricultura e a disseminação de idiomas indo-europeus, hoje falados das Ilhas Britânicas para o sul da Ásia, juntamente com o movimento de \", disse Vagheesh Narasimhan, co-primeiro autor de ambos os artigos e pós-doutorado no laboratório do Reich. \"Os estudos são particularmente significativos porque a Ásia Central e do Sul são partes tão pouco estudadas do mundo\".\\n\\n\"Um dos aspectos mais empolgantes deste estudo é a maneira como ele integra genética com arqueologia e linguística\", disse Ron Pinhasi, da Universidade de Viena, co-autor sênior do artigo da Science. \"Os novos resultados surgiram após a combinação de dados, métodos e perspectivas de diversas disciplinas acadêmicas, uma abordagem integrativa que fornece muito mais informações sobre o passado do que qualquer uma dessas disciplinas poderia sozinha\".\\n\\n\"Além disso, a introdução de novas metodologias de amostragem nos permitiu minimizar os danos aos esqueletos, maximizando a chance de obter dados genéticos de regiões onde a preservação do DNA geralmente é ruim\", acrescentou Pinhasi.\\n\\nTecla de idioma\\n\\nOs idiomas indo-europeus, incluindo hindi / urdu, bengali, punjabi, persa, russo, inglês, espanhol, gaélico e mais de 400 outros, compõem a maior família de idiomas da Terra.\\n\\nDurante décadas, especialistas debateram como as línguas indo-européias chegaram a partes distantes do mundo. Eles se espalharam através de pastores da estepe da Eurásia? Ou eles viajaram com agricultores que se deslocam para oeste e leste da Anatólia (atual Turquia)?\\n\\nUm artigo de 2015 de Reich e colegas indicou que as línguas indo-européias chegaram à Europa através das estepes. O estudo da Science agora faz um argumento semelhante para o sul da Ásia, mostrando que os sul-asiáticos atuais têm pouca ou nenhuma ascendência de agricultores com raízes anatólias.\\n\\n\"Podemos descartar uma disseminação em larga escala de agricultores com raízes anatólias no sul da Ásia, peça central da \\'hipótese da Anatólia\\' de que esse movimento trouxe a agricultura e as línguas indo-européias para a região\", disse Reich, que também é investigador. do Howard Hughes Medical Institute e do Broad Institute. \"Como não ocorreram movimentos substanciais de pessoas, este é um xeque-mate para a hipótese da Anatólia\".\\n\\nUma nova linha de evidência a favor da origem das estepes para as línguas indo-européias é a detecção de padrões genéticos que conectam falantes dos ramos indo-iranianos e balto-eslavos da indo-européia. Os pesquisadores descobriram que os oradores atuais de ambos os ramos descendem de um subgrupo de pastores das estepes que se mudaram para o oeste em direção à Europa há quase 5.000 anos e depois se espalharam de volta para o leste na Ásia Central e do Sul nos 1.500 anos seguintes.\\n\\n\"Isso fornece uma explicação simples em termos de movimentos antigos de pessoas para as características lingüísticas compartilhadas desses dois ramos da indo-européia, que hoje são separadas por grandes distâncias geográficas\", disse Reich.\\n\\nUma segunda linha de evidência a favor da origem das estepes é a descoberta dos pesquisadores de que das 140 populações do sul da Ásia atualmente analisadas no estudo, um punhado mostra um notável aumento na ancestralidade das estepes. Todas, exceto uma dessas populações enriquecidas por estepes, são grupos historicamente sacerdotais, incluindo brâmanes, guardiões tradicionais de textos escritos na antiga língua indo-européia, sânscrito.\\n\\n\"A descoberta de que os brâmanes geralmente têm mais ascendência das estepes do que outros grupos no sul da Ásia, controlando outros fatores, fornece um novo e fascinante argumento a favor da origem das estepes para as línguas indo-européias no sul da Ásia\", disse Reich.\\n\\n\"Este estudo preencheu uma grande parte do quebra-cabeça da disseminação indo-européia\", disse o co-autor Nick Patterson, pesquisador em genética no HMS e cientista do Instituto Broad do MIT e Harvard. \"Acredito que a imagem de alto nível agora seja entendida.\"\\n\\n\"Esse problema está no ar há 200 anos ou mais e agora está sendo resolvido rapidamente\", acrescentou. \"Estou muito animado com isso.\"\\n\\nOrigens da agricultura\\n\\nOs estudos informam outro debate de longa data, sobre se a mudança de uma economia de caça e coleta para uma baseada na agricultura foi impulsionada mais por movimentos de pessoas, pela cópia de idéias ou por invenções locais.\\n\\nNa Europa, estudos de DNA antigo mostraram que a agricultura chegou junto com um afluxo de pessoas com ascendência da Anatólia.\\n\\nO novo estudo revela uma dinâmica semelhante no Irã e Turan (sul da Ásia Central), onde os pesquisadores descobriram que a ancestralidade e a agricultura relacionadas à Anatólia chegaram na mesma época.\\n\\n\"Isso confirma que a expansão da agricultura implicava não apenas uma rota para o oeste da Anatólia para a Europa, mas também uma rota para o leste da Anatólia para regiões da Ásia antes habitadas apenas por grupos de caçadores-coletores\", disse Pinhasi.\\n\\nEntão, quando a agricultura se espalhou para o norte através das montanhas do interior da Ásia milhares de anos depois de se estabelecer no Irã e em Turan, \"os vínculos entre ancestralidade e economia se tornam mais complexos\", disse o arqueólogo Michael Frachetti, da Universidade de Washington em St. Louis, autor que liderou grande parte da amostragem esquelética para o artigo da Science.\\n\\nPor volta de 5.000 anos atrás, os pesquisadores descobriram que os ancestrais do sudoeste asiático fluíam para o norte junto com a tecnologia agrícola, enquanto os ancestrais da Sibéria ou das estepes fluíam para o sul no planalto iraniano. O padrão de movimento bidirecional ocorreu ao longo das montanhas, um corredor que Frachetti anteriormente mostrava era uma \"Rota da Seda da Idade do Bronze\", na qual as pessoas trocavam culturas e idéias entre o Oriente e o Ocidente.\\n\\nNo sul da Ásia, no entanto, a história parece bem diferente. Os pesquisadores não encontraram apenas vestígios da ancestralidade relacionada à Anatólia, que é uma marca registrada da expansão da agricultura para o oeste, mas a ancestralidade relacionada ao Irã que eles detectaram nos sul-asiáticos vem de uma linhagem que se separava dos antigos caçadores e caçadores iranianos. - coletores antes que esses grupos se separem.\\n\\nOs pesquisadores concluíram que a agricultura no sul da Ásia não se devia ao movimento de pessoas das culturas agrícolas anteriores do oeste; em vez disso, as forrageiras locais adotaram.\\n\\n\"Antes da chegada dos pastores das estepes que trouxeram suas línguas indo-européias cerca de 4.000 anos atrás, não encontramos evidências de movimentos em larga escala de pessoas no sul da Ásia\", disse Reich.\\n\\nPrimeiro vislumbre da ancestralidade da civilização do vale do Indo\\n\\nDesde o Himalaia até o Mar da Arábia, o vale do rio Indo foi o local de uma das primeiras civilizações do mundo antigo, florescendo entre 4.000 e 5.000 anos atrás. As pessoas construíram cidades com populações na casa das dezenas de milhares. Eles usaram pesos e medidas padronizados e trocaram mercadorias com lugares tão distantes quanto a África Oriental.\\n\\nMas quem eram eles?\\n\\nAté agora, os geneticistas eram incapazes de extrair dados viáveis \\u200b\\u200bde esqueletos enterrados nos sítios arqueológicos da civilização do Indus Valley, porque o calor e o clima volátil do sul da Ásia nas planícies degradaram a maior parte do DNA, além da capacidade dos cientistas de analisá-lo.\\n\\nO documento da célula muda isso.\\n\\nDepois de examinar mais de 60 amostras esqueléticas da maior cidade conhecida da Civilização do Vale do Indo, chamada Rakhigarhi, os autores encontraram uma com uma pitada de DNA antigo. Após mais de 100 tentativas de sequenciamento, eles geraram dados suficientes para chegar a conclusões significativas.\\n\\nO genoma da mulher antiga coincidia com o de outras 11 pessoas relatadas no jornal da Science que viviam no que hoje é o Irã e o Turcomenistão em locais conhecidos por terem trocado objetos com a Civilização do Vale do Indo. Todos os 12 tinham uma mistura distinta de ancestralidade, incluindo uma linhagem relacionada aos caçadores-coletores do Sudeste Asiático e uma linhagem relacionada ao Irã específica para o sul da Ásia. Como essa mistura era diferente da maioria das pessoas que viviam no Irã e no Turquemenistão na época, os autores propõem que os 11 indivíduos relatados no artigo da Science eram migrantes, provavelmente da Civilização do Vale do Indo.\\n\\nNenhum dos 12 tinha evidências de ascendência dos pastores das estepes, consistente com o modelo de que esse grupo ainda não havia chegado ao sul da Ásia.\\n\\nO artigo da Science mostrou ainda que, após o declínio da civilização do vale do Indo entre 4.000 e 3.500 anos atrás, uma parte do grupo ao qual esses 12 indivíduos pertenciam se misturava com pessoas do norte que tinham ascendência pastoril estepe, formando os índios do norte ancestrais , uma das duas principais populações ancestrais das pessoas atuais na Índia. Uma parte do grupo original também se misturou com pessoas da Índia peninsular para formar a outra população de origem primária, os índios do sul ancestrais.\\n\\n\"As misturas dos índios ancestrais do norte e dos ancestrais do sul, que devem sua ancestralidade primária a pessoas como a do indivíduo da Civilização do Vale do Indo que sequenciamos, formam a ancestralidade primária dos sul-asiáticos hoje\", disse Patterson.\\n\\n\"O estudo vincula diretamente os sul-asiáticos atuais aos povos antigos da primeira civilização do sul da Ásia\", acrescentou Narasimhan.\\n\\nOs autores alertam que a análise do genoma de apenas um indivíduo limita as conclusões que podem ser tiradas sobre toda a população da Civilização do Vale do Indo.\\n\\n\"Meu melhor palpite é que a própria civilização do vale do Indo era geneticamente extremamente diversa\", disse Patterson. \"Genomas adicionais certamente enriquecerão a imagem\".\\n\\n', 'imgalt': '', 'meta': ' Os pesquisadores analisaram o genoma de 524 povos antigos nunca antes estudados, incluindo o primeiro genoma de um indivíduo da antiga civilização do vale do Indus. Os insights respondem a perguntas de longa data sobre as origens da agricultura e a origem das línguas indo-européias no sul e no centro da Ásia. O estudo aumenta o total mundial de genomas antigos publicados em cerca de 25%.\\n'}\n",
      "{'source:-pt': 'fonte:', 'archive-zh-CN': '档案', 'journal pacifique-es': 'periódico pacífico', 'source:-pl': 'źródło', 'archive-es': 'archivo', 'about us-es': 'sobre nosotros', 'source:-es': 'fuente:', 'archive-pl': 'archiwum', 'homepage-zh-CN': '主页', 'homepage-pt': 'pagina inicial', 'journal pacifique-pt': 'jornal pacífico', 'archive-pt': 'arquivo', 'journal pacifique-zh-CN': '和平的报纸', 'about us-pl': 'o nas', 'about us-zh-CN': '关于我们', 'homepage-pl': 'strona główna', 'source:-zh-CN': '资源', 'homepage-es': 'página principal', 'about us-pt': 'sobre nós', 'journal pacifique-pl': 'spokojna gazeta'}\n",
      "headline\n",
      "meta\n",
      "article\n",
      "imgalt\n"
     ]
    },
    {
     "name": "stdout",
     "output_type": "stream",
     "text": [
      "{'headline': 'Największe jak dotąd starożytne badanie DNA oświetla tysiąclecia prehistorii Azji Południowej i Środkowej ', 'article': '\\nBadanie, opublikowane 5 września w Internecie w dwóch artykułach w Science and Cell, odpowiada również na wieloletnie pytania dotyczące pochodzenia rolnictwa i źródeł języków indoeuropejskich w Azji Południowej i Środkowej.\\n\\nGenetycy, archeolodzy i antropologowie z Ameryki Północnej, Europy, Azji Środkowej i Azji Południowej analizowali genomy 524 nigdy wcześniej nie badanych starożytnych osobników. Prace zwiększyły ogólnoświatową liczbę opublikowanych starożytnych genomów o około 25 procent.\\n\\nPorównując te genomy ze sobą i poprzednio zsekwencjonowane genomy oraz umieszczając informacje w kontekście obok zapisów archeologicznych, językowych i innych, badacze wypełnili wiele kluczowych szczegółów na temat tego, kto mieszkał w różnych częściach tego regionu z epoki mezolitu (około 12 000 lat temu) do epoki żelaza (do około 2000 lat temu) i ich relacji z ludźmi, którzy tam mieszkają.\\n\\n„Dzięki tak wielu próbkom możemy wykryć subtelne interakcje między populacjami, a także wartości odstające w obrębie populacji, co stało się możliwe w ciągu ostatnich kilku lat dzięki postępowi technologicznemu” - powiedział David Reich, współautor publikacji i profesor genetyki w Blavatnik Institute w Harvard Medical School.\\n\\n„Badania te mówią o dwóch najgłębszych przemianach kulturowych w starożytnej Eurazji, przejściu od polowań i gromadzenia się do rolnictwa oraz rozpowszechnieniu języków indoeuropejskich, którymi dziś mówi się z Wysp Brytyjskich do Azji Południowej, wraz z ruchem ludzie ”- powiedział Vagheesh Narasimhan, współtwórca obu artykułów i doktorant w laboratorium Rzeszy. „Badania są szczególnie znaczące, ponieważ Azja Środkowa i Południowa są tak niedocenianymi częściami świata”.\\n\\n„Jednym z najbardziej ekscytujących aspektów tego badania jest sposób, w jaki łączy on genetykę z archeologią i językoznawstwem” - powiedział Ron Pinhasi z Uniwersytetu Wiedeńskiego, współautor publikacji Science. „Nowe wyniki pojawiły się po połączeniu danych, metod i perspektyw z różnych dyscyplin akademickich, zintegrowanego podejścia, które zapewnia znacznie więcej informacji na temat przeszłości, niż jakakolwiek z tych dyscyplin mogłaby samodzielnie”.\\n\\n„Ponadto wprowadzenie nowych metodologii próbkowania pozwoliło nam zminimalizować uszkodzenie szkieletów, jednocześnie maksymalizując szansę na uzyskanie danych genetycznych z regionów, w których zachowanie DNA jest często słabe” - dodał Pinhasi.\\n\\nKlucz językowy\\n\\nJęzyki indoeuropejskie, w tym hindi / urdu, bengalski, pendżabski, perski, rosyjski, angielski, hiszpański, gaelicki i ponad 400 innych, stanowią największą rodzinę języków na Ziemi.\\n\\nPrzez dziesięciolecia specjaliści debatowali, w jaki sposób języki indoeuropejskie dotarły do \\u200b\\u200bodległych części świata. Czy rozprzestrzenili się za pośrednictwem pasterzy ze stepu euroazjatyckiego? A może podróżowali z rolnikami przemieszczającymi się na zachód i wschód z Anatolii (dzisiejsza Turcja)?\\n\\nW artykule z 2015 r. Reicha i współpracowników wskazano, że języki indoeuropejskie dotarły do \\u200b\\u200bEuropy przez step. Badanie Science przedstawia teraz podobny przypadek dla Azji Południowej, pokazując, że dzisiejsi Południowi Azjaci mają niewiele, jeśli w ogóle, przodków od rolników o anatolijskich korzeniach.\\n\\n„Możemy wykluczyć rozprzestrzenianie się rolników na dużą skalę z anatolijskimi korzeniami w Azji Południowej, co stanowi centralny element„ hipotezy anatolijskiej ”, zgodnie z którą ruch ten wprowadził do regionu rolnictwo i języki indoeuropejskie” - powiedział Reich, który jest również śledczym Instytutu Medycznego Howarda Hughesa i Broad Institute. „Ponieważ nie wystąpiły znaczące ruchy ludzi, jest to matematyczna hipoteza anatolijska”.\\n\\nJedną z nowych linii dowodów na rzecz pochodzenia stepowego dla języków indoeuropejskich jest wykrycie wzorców genetycznych łączących osoby posługujące się indoeuropejskimi i bałto-słowiańskimi gałęziami indoeuropejskimi. Naukowcy odkryli, że dzisiejsi mówcy obu gałęzi pochodzą z podgrupy stepowych pastorów, którzy przenieśli się na zachód w kierunku Europy prawie 5000 lat temu, a następnie rozprzestrzenili się na wschód do Azji Środkowej i Południowej w ciągu następnych 1500 lat.\\n\\n„To proste wyjaśnienie starożytnych ruchów ludzi dla zagadkowych skądinąd wspólnych cech językowych tych dwóch gałęzi indoeuropejskich, które dziś są oddzielone ogromnymi odległościami geograficznymi”, powiedział Reich.\\n\\nDrugą linią dowodów na korzyść pochodzenia stepowego jest odkrycie przez naukowców, że spośród 140 współczesnych populacji Azji Południowej analizowanych w badaniu, garstka wykazuje niezwykły skok w przodkach stepu. Wszystkie populacje bogate w stepy oprócz jednej to historycznie kapłańskie grupy, w tym bramini, tradycyjni opiekunowie tekstów pisanych w starożytnym sanskrycie w języku indoeuropejskim.\\n\\n„Odkrycie, że bramini często mają więcej przodków stepowych niż inne grupy w Azji Południowej, kontrolując inne czynniki, stanowi fascynujący nowy argument na rzecz pochodzenia stepowego dla języków indoeuropejskich w Azji Południowej” - powiedział Reich.\\n\\n„Badanie to wypełniło dużą część zagadki związanej z rozprzestrzenianiem się Indoeuropejczyków” - powiedział współautor Nick Patterson, pracownik naukowy w dziedzinie genetyki w HMS i pracownik naukowy w Broad Institute of MIT and Harvard. „Wierzę, że obraz wysokiego poziomu jest teraz zrozumiały”.\\n\\n„Ten problem był w powietrzu od 200 lat lub dłużej, a teraz jest szybko rozwiązywany” - dodał. „Jestem tym bardzo podekscytowany”.\\n\\nPoczątki rolnictwa\\n\\nBadania informują o kolejnej długiej debacie, tej o tym, czy zmiana gospodarki łowieckiej i zbierackiej na gospodarkę opartą na rolnictwie była bardziej spowodowana przemieszczaniem się ludzi, kopiowaniem pomysłów lub lokalnym wynalazkiem.\\n\\nW Europie starożytne badania DNA wykazały, że rolnictwo przybyło wraz z napływem osób pochodzących z Anatolii.\\n\\nNowe badanie ujawnia podobną dynamikę w Iranie i Turanie (południowa Azja Środkowa), gdzie naukowcy odkryli, że pochodzenie i hodowla związana z Anatolijami pojawiła się w tym samym czasie.\\n\\n„Potwierdza to, że rozprzestrzenianie się rolnictwa pociągało za sobą nie tylko zachodnią trasę z Anatolii do Europy, ale także wschodnią trasę z Anatolii do regionów Azji wcześniej zamieszkanych tylko przez grupy łowców-zbieraczy” - powiedział Pinhasi.\\n\\nNastępnie, gdy rolnictwo rozprzestrzeniło się na północ w górach Azji Wewnętrznej tysiące lat po objęciu Iranu i Turanu, „powiązania między pochodzeniem a gospodarką stają się coraz bardziej złożone”, powiedział archeolog Michael Frachetti z Washington University w St. Louis, współ-starszy autor, który prowadził większość próbkowania szkieletu do publikacji Science.\\n\\nOkoło 5000 lat temu naukowcy odkryli, że południowo-zachodnie pochodzenie Azji płynęło na północ wraz z technologią rolniczą, podczas gdy pochodzenie syberyjskie lub stepowe płynęło na południe na płaskowyż irański. Dwukierunkowy wzorzec ruchu odbywał się wzdłuż gór, korytarz, który wcześniej pokazał Frachetti, był „Jedwabną Drogą Ery Brązu”, wzdłuż której ludzie wymieniali uprawy i pomysły między Wschodem a Zachodem.\\n\\nJednak w Azji Południowej historia wygląda zupełnie inaczej. Naukowcy nie tylko nie znaleźli śladu przodków związanych z Anatolijczykiem, który jest cechą charakterystyczną rozprzestrzeniania się rolnictwa na zachodzie, ale także pochodzenia spokrewnionego z Iranem, które wykryli u południowych Azjatów, pochodzą z linii oddzielonej od starożytnych irańskich rolników i myśliwych - zbieracze, zanim te grupy się rozdzielą.\\n\\nNaukowcy doszli do wniosku, że rolnictwo w Azji Południowej nie było spowodowane przemieszczaniem się ludzi z wcześniejszych kultur rolnictwa na Zachodzie; zamiast tego przyjęli go lokalni zbieracze.\\n\\n„Przed przybyciem stepowych pastorów przynoszących swoje języki indoeuropejskie około 4000 lat temu nie znaleźliśmy żadnych dowodów na przemieszczanie się ludzi na dużą skalę do Azji Południowej” - powiedział Reich.\\n\\nPierwsze spojrzenie na pochodzenie cywilizacji Doliny Indusu\\n\\nRzeka Indus biegła od Himalajów po Morze Arabskie i była jedną z pierwszych cywilizacji starożytnego świata, kwitnącą między 4000 a 5000 lat temu. Ludzie budowali miasta z populacjami w dziesiątkach tysięcy. Stosowali znormalizowane wagi i miary oraz wymieniali towary z miejscami tak odległymi jak Afryka Wschodnia.\\n\\nAle kim oni byli?\\n\\nDo tej pory genetycy nie byli w stanie wydobyć żywych danych ze szkieletów zakopanych w stanowiskach archeologicznych cywilizacji Doliny Indusu, ponieważ upał i niestabilny klimat w nizinnej Azji Południowej pogorszyły większość DNA poza możliwościami naukowców do jego analizy.\\n\\nPapier komórkowy to zmienia.\\n\\nPo przeszukaniu ponad 60 próbek szkieletów z największego znanego miasta cywilizacji doliny Indusu, zwanego Rakhigarhi, autorzy znaleźli jedną z nutą starożytnego DNA. Po ponad 100 próbach sekwencjonowania wygenerowali wystarczającą ilość danych, aby dojść do znaczących wniosków.\\n\\nGenom starożytnej kobiety pasował do genomu 11 innych starożytnych ludzi zgłoszonych w artykule naukowym, którzy mieszkali w dzisiejszym Iranie i Turkmenistanie w miejscach, o których wiadomo, że wymienili przedmioty z cywilizacją doliny Indusu. Wszystkich 12 miało charakterystyczną mieszankę pochodzenia, w tym rodowód związany z łowcami-zbieraczami z Azji Południowo-Wschodniej oraz rodowód związany z Iranem, specyficzny dla Azji Południowej. Ponieważ ta mieszanka różniła się od większości osób mieszkających wówczas w Iranie i Turkmenistanie, autorzy sugerują, że 11 osób zgłoszonych w artykule naukowym to migranci, prawdopodobnie z cywilizacji doliny Indusu.\\n\\nŻaden z 12 nie miał dowodów na pochodzenie od pasterskich stepów, co jest zgodne z modelem, że grupa ta jeszcze nie przybyła do Azji Południowej.\\n\\nArtykuł naukowy wykazał ponadto, że po upadku cywilizacji doliny Indusu między 4000 a 3500 lat temu część grupy, do której należało te 12 osobników, zmieszała się z ludźmi pochodzącymi z północy, którzy mieli stepowe pochodzenie pastoralne, tworząc przodków Indian północnych , jedna z dwóch pierwotnych populacji przodków współczesnych ludzi w Indiach. Część pierwotnej grupy również zmieszała się z ludźmi z półwyspu Indii, tworząc drugą pierwotną populację źródłową, rdzennych Indian Południowych.\\n\\n„Mieszanki Ancestralnych Indian Północnych i Ancestralnych Indian Południowych, którzy zawdzięczają swój pierwotny rodowód ludziom takim, jak osobnik Indus Valley Civilization, którego sekwencjonowaliśmy, tworzą dziś pierwotne pochodzenie Południowych Azjatów” - powiedział Patterson.\\n\\n„Badanie łączy bezpośrednio dzisiejszych mieszkańców Azji Południowej ze starożytnymi narodami pierwszej cywilizacji Azji Południowej” - dodał Narasimhan.\\n\\nAutorzy ostrzegają, że analiza genomu tylko jednej osoby ogranicza wnioski, które można wyciągnąć na temat całej populacji cywilizacji Doliny Indusu.\\n\\n„Domyślam się, że sama cywilizacja Doliny Indusu była niezwykle różnorodna genetycznie” - powiedział Patterson. „Dodatkowe genomy z pewnością wzbogacą obraz”.\\n\\n', 'imgalt': '', 'meta': ' Naukowcy przeanalizowali genomy 524 nigdy wcześniej nie badanych starożytnych ludzi, w tym pierwszego genomu osoby ze starożytnej cywilizacji Doliny Indusu. Dzięki badaniom można znaleźć odpowiedzi na pytania dotyczące pochodzenia rolnictwa i źródeł języków indoeuropejskich w Azji Południowej i Środkowej. Badanie zwiększa ogólnoświatową liczbę opublikowanych starożytnych genomów o około 25 procent.\\n'}\n",
      "{'source:-pt': 'fonte:', 'archive-zh-CN': '档案', 'journal pacifique-es': 'periódico pacífico', 'source:-pl': 'źródło', 'archive-es': 'archivo', 'about us-es': 'sobre nosotros', 'source:-es': 'fuente:', 'archive-pl': 'archiwum', 'homepage-zh-CN': '主页', 'homepage-pt': 'pagina inicial', 'journal pacifique-pt': 'jornal pacífico', 'archive-pt': 'arquivo', 'journal pacifique-zh-CN': '和平的报纸', 'about us-pl': 'o nas', 'about us-zh-CN': '关于我们', 'homepage-pl': 'strona główna', 'source:-zh-CN': '资源', 'homepage-es': 'página principal', 'about us-pt': 'sobre nós', 'journal pacifique-pl': 'spokojna gazeta'}\n",
      "headline\n",
      "meta\n",
      "article\n",
      "imgalt\n"
     ]
    },
    {
     "name": "stdout",
     "output_type": "stream",
     "text": [
      "{'headline': '有史以来最大规模的古代DNA研究揭示了南亚和中亚史前的数千年', 'article': \"\\n该研究于9月5日在线发表在Science and Cell上的一篇论文中，也回答了有关农业起源和南亚和中亚印欧语言来源的长期问题。\\n\\n来自北美，欧洲，中亚和南亚的遗传学家，考古学家和人类学家分析了524名从未研究过的古代个体的基因组。这项工作使全球公布的古代基因组总数增加了约25％。\\n\\n通过将这些基因组相互比较并与之前测序的基因组进行比较，并将信息与考古学，语言学和其他记录放在一起，研究人员从中石器时代填写了许多关于谁生活在该地区不同地区的关键细节。 （大约12000年前）到铁器时代（直到大约2000年前）以及它们与今天生活在那里的人们的关系。\\n\\n“通过这么多样本，我们可以发现种群之间的微妙相互作用以及种群内的异常值，这种情况在过去几年中只有通过技术进步才有可能实现，”David Reich说，他是论文和教授的共同高级作者。哈佛医学院Blavatnik研究所的遗传学研究。\\n\\n“这些研究涉及古欧亚大陆最深刻的两种文化转变，从狩猎和采集到农业的过渡，以及今天从不列颠群岛到南亚的印欧语言的传播，以及人们，“Vagheesh Narasimhan说，他是两篇论文的共同第一作者，也是帝国实验室的博士后研究员。 “这些研究特别重要，因为中亚和南亚是世界上未充分研究的地区。”\\n\\n“这项研究最激动人心的方面之一就是它将遗传学与考古学和语言学相结合的方式，”维也纳大学的科文论文的共同高级作者罗恩·比哈西说。 “在结合来自不同学科的数据，方法和观点之后出现了新的结果，这种综合方法提供了比过去任何一个学科更多的过去信息。”\\n\\n“此外，引入新的抽样方法使我们能够最大限度地减少对骨骼的损害，同时最大限度地从DNA保存通常较差的地区获取遗传数据的机会，”Pinhasi补充说。\\n\\n语言键\\n\\n印欧语系包括印地语/乌尔都语，孟加拉语，旁遮普语，波斯语，俄语，英语，西班牙语，盖尔语以及400多种其他语言，构成了地球上最大的语言家族。\\n\\n几十年来，专家们一直在争论印欧语言如何走向世界遥远的地方。他们是通过牧民从欧亚草原传播的吗？或者他们是否与从安纳托利亚（现今的土耳其）向西和向东移动的农民一起旅行？\\n\\nReich及其同事撰写的2015年论文表明，印欧语系通过草原抵达欧洲。科学研究现在对南亚提出了类似的案例，表明现今的南亚人几乎没有来自安纳托利亚根源的农民的血统。\\n\\n“我们可以排除安纳托利亚根源进入南亚的大规模农民，这是'安纳托利亚假说'的核心，即这种运动将农业和印欧语言带入该地区，”Reich说，他也是一名调查员。霍华德休斯医学研究所和布罗德研究所。 “由于没有人发生实质性的变动，这是安纳托利亚假设的最终结果。”\\n\\n支持印欧语言草原的一个新证据是检测连接印欧语系印地语和巴尔托 - 斯拉夫语系的基因模式。研究人员发现，现在这两个分支的发言人都来自一个草原牧民小组，他们将近5000年前向西迁移到欧洲，然后在接下来的1500年中向东扩散到中亚和南亚。\\n\\n“这为古代人们的运动提供了一个简单的解释，因为印度 - 欧洲这两个分支的其他令人费解的共同语言特征，今天被广阔的地理距离分开，”Reich说。\\n\\n支持草原起源的第二个证据是研究人员发现，在该研究中分析的140个现今南亚种群中，少数显示出来自草原的血统显着增加。除了其中一个富含草原的种群以外，其他所有种族都是历史上的祭司群体，包括婆罗门（Brahmins），古代印欧语言梵语中的传统文本保管人。\\n\\n“发现婆罗门经常拥有比南亚其他群体更多的草原血统，控制其他因素，这为南亚的印欧语言草原提供了一个引人入胜的新观点，”Reich说。\\n\\n“这项研究填补了印度 - 欧洲传播的大部分难题，”共同作者，麻省理工学院遗传学研究员，麻省理工学院和哈佛大学博士研究所的科学家尼克帕特森说。 “我相信现在可以理解高层图片了。”\\n\\n“这个问题已经存在了200年或更长时间，现在它正在迅速解决，”他补充道。 “我为此感到非常兴奋。”\\n\\n农业起源\\n\\n这些研究为另一个长期存在的争论提供了信息，这个辩论是关于从狩猎和采集经济到基于农业的经济的变化是否更多地是由人的流动，思想的复制或本地发明所驱动的。\\n\\n在欧洲，古老的DNA研究表明，农业与来自安纳托利亚的血统有关。\\n\\n这项新的研究揭示了伊朗和图兰（中亚南部）的类似动态，研究人员发现安纳托利亚相关的血统和农业在同一时间到来。\\n\\n“这证实了农业的传播不仅包括从安纳托利亚到欧洲的西向路线，还包括从安纳托利亚到东部地区的东部路线，这些路线以前只有狩猎采集团居住，”Pinhasi说。\\n\\n然后，随着农业在伊朗和图兰占领数千年后向北蔓延到内亚山脉，“祖先与经济之间的联系变得更加复杂，”圣路易斯华盛顿大学的考古学家Michael Frachetti说，撰写科学论文的大部分骨骼抽样的作者。\\n\\n大约5000年前，研究人员发现，亚洲西南部的祖先随着农业技术向北流动，而西伯利亚或草原血统则向南流入伊朗高原。双向运动模式沿着山脉发生，Frachetti之前展示的走廊是一条“青铜时代的丝绸之路”，人们在这条道路上交换了东西方之间的作物和思想。\\n\\n然而，在南亚，故事似乎有很大不同。研究人员不仅没有发现与安纳托利亚有关的血统的痕迹，这是西部农业传播的标志，但他们在南亚人中发现的伊朗相关血统来自与伊朗古代农民和猎人分离的血统。 - 在这些群体彼此分裂之前的聚集者。\\n\\n研究人员得出结论认为，南亚的农业生产不是因为人们从西方早期的农耕文化中迁移出来;相反，当地的觅食者采用了它。\\n\\n“在大约4，000年前草原牧民带来他们的印欧语言之前，我们没有发现人们大规模进入南亚的证据，”赖希说。\\n\\n第一次看到印度河流域文明的血统\\n\\n印度河流域从喜马拉雅山脉延伸到阿拉伯海，是古代世界最早的文明之一，在4000到5000年之间蓬勃发展。人们建造了人口数万的城镇。他们使用标准化的重量和措施，并与远在东非的地方交换货物。\\n\\n但他们是谁？\\n\\n在此之前，遗传学家无法从埋葬在印度河流域文明考古遗址的骨骼中提取可行的数据，因为南亚低地的炎热和变化的气候已使大多数DNA退化，超出了科学家分析它的能力。\\n\\n细胞纸改变了这一点。\\n\\n在对已知最大的印度河流域文明镇（称为Rakhigarhi）的60多个骨骼样本进行筛选后，作者发现了一个带有一丝古老DNA的骨骼样本。经过100多次测序尝试后，他们生成了足够的数据以得出有意义的结论。\\n\\n古代女性的基因组与科学论文中报道的11个其他古代人的基因组相匹配，他们生活在现在的伊朗和土库曼斯坦，在已知与印度河流域文明交换物的地方。所有12个人都有独特的血统组合，包括与东南亚狩猎采集者有关的血统和与南亚有关的伊朗相关血统。由于这种混合物与当时生活在伊朗和土库曼斯坦的大多数人不同，作者提出科学论文中报道的11个人是移民，可能来自印度河流域文明。\\n\\n12人中没有一人有草原牧民的血统证据，这与该群体尚未抵达南亚的模式一致。\\n\\n“科学”杂志的文章进一步表明，印度河流域文明在4,000至3,500年前衰落之后，这12个人所属的群体中的一部分与来自北方的人们混在一起，这些人来自原始牧民的祖先，形成了祖先的北印第安人。 ，印度当今人口的两个主要祖先人口之一。原始群体的一部分也与来自印度半岛的人混在一起形成另一个主要来源群体 - 祖先南印第安人。\\n\\n“祖先北印第安人和祖先南印第安人的混合物，都是他们的主要血统，就像我们排序的印度河流域文明个体一样，形成了今天南亚人的主要血统，”帕特森说。\\n\\n“这项研究直接将当今的南亚人与南亚第一个文明的古代人民联系在一起，”Narasimhan补充道。\\n\\n作者警告说，仅分析一个人的基因组限制了可以得出的关于印度河流域文明的整个人口的结论。\\n\\n“我最好的猜测是印度河流域文明本身在遗传上极为多样化，”帕特森说。 “额外的基因组肯定会丰富图片。”\\n\\n\", 'imgalt': '', 'meta': '研究人员分析了524个从未研究过的古代人的基因组，包括来自古代印度河流域文明的个体的第一个基因组。见解回答了有关农业起源和南亚和中亚印欧语言来源的长期问题。该研究将世界公布的古代基因组总数增加了约25％。\\n'}\n",
      "{'source:-pt': 'fonte:', 'archive-zh-CN': '档案', 'journal pacifique-es': 'periódico pacífico', 'source:-pl': 'źródło', 'archive-es': 'archivo', 'about us-es': 'sobre nosotros', 'source:-es': 'fuente:', 'archive-pl': 'archiwum', 'homepage-zh-CN': '主页', 'homepage-pt': 'pagina inicial', 'journal pacifique-pt': 'jornal pacífico', 'archive-pt': 'arquivo', 'journal pacifique-zh-CN': '和平的报纸', 'about us-pl': 'o nas', 'about us-zh-CN': '关于我们', 'homepage-pl': 'strona główna', 'source:-zh-CN': '资源', 'homepage-es': 'página principal', 'about us-pt': 'sobre nós', 'journal pacifique-pl': 'spokojna gazeta'}\n",
      "headline\n",
      "meta\n",
      "article\n",
      "imgalt\n",
      "{'headline': 'T. Rex tenía un acondicionador de aire en la cabeza, sugiere un estudio ', 'article': '\\nEn el pasado, los científicos creían que dos grandes agujeros en el techo del cráneo de un T.rex, llamados fenestra dorsotemporal, estaban llenos de músculos que ayudan con los movimientos de la mandíbula.\\n\\nPero esa afirmación desconcertó a Casey Holliday, profesora de anatomía en la Facultad de Medicina de MU e investigadora principal del estudio.\\n\\n\"Es realmente extraño que un músculo salga de la mandíbula, haga un giro de 90 grados y recorra el techo del cráneo\", dijo Holliday. \"Sin embargo, ahora tenemos muchas pruebas convincentes de los vasos sanguíneos en esta área, según nuestro trabajo con caimanes y otros reptiles\".\\n\\nUtilizando imágenes térmicas, dispositivos que traducen el calor en luz visible, los investigadores examinaron caimanes en el Parque Zoológico St. Augustine Alligator Farm en Florida. Creen que su evidencia ofrece una nueva teoría y una visión de la anatomía de la cabeza de un T. rex.\\n\\n\"El calor corporal de un cocodrilo depende de su entorno\", dijo Kent Vliet, coordinador de laboratorios del Departamento de Biología de la Universidad de Florida. \"Por lo tanto, notamos que cuando hacía más frío y los caimanes intentaban calentarse, nuestra imagen térmica mostró grandes puntos calientes en estos agujeros en el techo de su cráneo, lo que indica un aumento de la temperatura. Sin embargo, más tarde en el día cuando hace más calor , los agujeros parecen oscuros, como si estuvieran apagados para mantenerse frescos. Esto es consistente con la evidencia previa de que los caimanes tienen un sistema circulatorio de corriente cruzada o un termostato interno, por así decirlo \".\\n\\nHolliday y su equipo tomaron sus datos de imágenes térmicas y examinaron restos fosilizados de dinosaurios y cocodrilos para ver cómo este agujero en el cráneo cambió con el tiempo.\\n\\n\"Sabemos que, de manera similar al T. rex, los caimanes tienen agujeros en el techo de sus cráneos y están llenos de vasos sanguíneos\", dijo Larry Witmer, profesor de anatomía en el Heritage College of Osteopathic Medicine de la Universidad de Ohio. \"Sin embargo, durante más de 100 años hemos estado colocando los músculos en un espacio similar con los dinosaurios. Al usar algo de anatomía y fisiología de los animales actuales, podemos demostrar que podemos anular esas hipótesis iniciales sobre la anatomía de esta parte de la T. cráneo de rex \".\\n\\n', 'imgalt': '\\n<em> T. esqueleto, cabeza y cuello rex </em> (imagen de stock).', 'meta': ' Tyrannosaurus rex, uno de los dinosaurios carnívoros más grandes del planeta, tenía un acondicionador de aire en la cabeza, sugiere científicos que están desafiando más de un siglo creencias.\\n'}\n",
      "{'source:-pt': 'fonte:', 'archive-zh-CN': '档案', 'journal pacifique-es': 'periódico pacífico', 'source:-pl': 'źródło', 'archive-es': 'archivo', 'about us-es': 'sobre nosotros', 'source:-es': 'fuente:', 'archive-pl': 'archiwum', 'homepage-zh-CN': '主页', 'homepage-pt': 'pagina inicial', 'journal pacifique-pt': 'jornal pacífico', 'archive-pt': 'arquivo', 'journal pacifique-zh-CN': '和平的报纸', 'about us-pl': 'o nas', 'about us-zh-CN': '关于我们', 'homepage-pl': 'strona główna', 'source:-zh-CN': '资源', 'homepage-es': 'página principal', 'about us-pt': 'sobre nós', 'journal pacifique-pl': 'spokojna gazeta'}\n",
      "headline\n",
      "meta\n",
      "article\n",
      "imgalt\n",
      "{'headline': 'T. Rex tinha um ar condicionado na cabeça, sugere estudo ', 'article': '\\nNo passado, os cientistas acreditavam que dois grandes buracos no teto do crânio de um T. rex, chamados fenestra dorsotemporal, estavam cheios de músculos que ajudam nos movimentos da mandíbula.\\n\\nMas essa afirmação intrigou Casey Holliday, professora de anatomia da MU School of Medicine e principal pesquisadora do estudo.\\n\\n\"É realmente estranho que um músculo suba da mandíbula, faça uma curva de 90 graus e vá ao longo do teto do crânio\", disse Holliday. \"No entanto, agora temos muitas evidências convincentes para vasos sanguíneos nessa área, com base em nosso trabalho com jacarés e outros répteis\".\\n\\nUsando imagens térmicas, dispositivos que traduzem calor em luz visível, os pesquisadores examinaram jacarés no Parque Zoológico de St. Augustine Alligator Farm, na Flórida. Eles acreditam que suas evidências oferecem uma nova teoria e insights sobre a anatomia da cabeça de um T. rex.\\n\\n\"O calor do corpo de um jacaré depende do ambiente\", disse Kent Vliet, coordenador de laboratórios do Departamento de Biologia da Universidade da Flórida. \"Portanto, percebemos quando estava mais frio e os jacarés estavam tentando se aquecer. Nossa imagem térmica mostrou grandes pontos quentes nesses buracos no teto do crânio, indicando um aumento na temperatura. No entanto, mais tarde, quando está mais quente , os buracos parecem escuros, como se tivessem sido desligados para se refrescar. Isso é consistente com evidências anteriores de que os jacarés têm um sistema circulatório de corrente cruzada ou um termostato interno, por assim dizer \".\\n\\nHolliday e sua equipe pegaram seus dados de imagem térmica e examinaram restos fossilizados de dinossauros e crocodilos para ver como esse buraco no crânio mudou com o tempo.\\n\\n\"Sabemos que, da mesma forma que o T. rex, os jacarés têm buracos no teto de seus crânios e estão cheios de vasos sanguíneos\", disse Larry Witmer, professor de anatomia da Faculdade de Medicina Osteopática da Universidade de Ohio. \"No entanto, há mais de 100 anos que colocamos os músculos em um espaço semelhante aos dinossauros. Usando alguma anatomia e fisiologia dos animais atuais, podemos mostrar que podemos derrubar essas hipóteses iniciais sobre a anatomia dessa parte do T. o crânio de rex \".\\n\\n', 'imgalt': '\\n<em> T. rex </em> esqueleto, cabeça e pescoço (imagem).', 'meta': ' O Tyrannosaurus rex, um dos maiores dinossauros carnívoros do planeta, tinha um ar condicionado na cabeça, sugerem cientistas que estão desafiando mais de um século antes crenças.\\n'}\n",
      "{'source:-pt': 'fonte:', 'archive-zh-CN': '档案', 'journal pacifique-es': 'periódico pacífico', 'source:-pl': 'źródło', 'archive-es': 'archivo', 'about us-es': 'sobre nosotros', 'source:-es': 'fuente:', 'archive-pl': 'archiwum', 'homepage-zh-CN': '主页', 'homepage-pt': 'pagina inicial', 'journal pacifique-pt': 'jornal pacífico', 'archive-pt': 'arquivo', 'journal pacifique-zh-CN': '和平的报纸', 'about us-pl': 'o nas', 'about us-zh-CN': '关于我们', 'homepage-pl': 'strona główna', 'source:-zh-CN': '资源', 'homepage-es': 'página principal', 'about us-pt': 'sobre nós', 'journal pacifique-pl': 'spokojna gazeta'}\n",
      "headline\n",
      "meta\n",
      "article\n",
      "imgalt\n"
     ]
    },
    {
     "name": "stdout",
     "output_type": "stream",
     "text": [
      "{'headline': 'T. Rex miał klimatyzator w głowie, badania sugerują ', 'article': '\\nW przeszłości naukowcy uważali, że dwie duże dziury w dachu czaszki T. rex, zwane fenestrą grzbietowo-skroniową, były wypełnione mięśniami, które wspomagają ruchy szczęki.\\n\\nAle to stwierdzenie zdziwiło Casey Holliday, profesor anatomii w MU School of Medicine i główny badacz w badaniu.\\n\\n„To naprawdę dziwne, że mięsień unosi się ze szczęki, wykonuje obrót o 90 stopni i idzie wzdłuż dachu czaszki” - powiedział Holliday. „Mamy jednak obecnie wiele przekonujących dowodów na obecność naczyń krwionośnych w tym obszarze, opartych na naszej pracy z aligatorami i innymi gadami”.\\n\\nWykorzystując obrazowanie termiczne, urządzenia, które przekształcają ciepło w światło widzialne, badacze zbadali aligatory w parku zoologicznym St. Augustine Alligator Farm na Florydzie. Wierzą, że ich dowody oferują nową teorię i wgląd w anatomię głowy T. rex.\\n\\n„Ciepło ciała aligatora zależy od jego środowiska” - powiedział Kent Vliet, koordynator laboratoriów na Wydziale Biologii Uniwersytetu Florydy. „Dlatego zauważyliśmy, że gdy było chłodniej, a aligatory próbują się rozgrzać, nasze obrazowanie termiczne pokazało duże gorące punkty w tych otworach w dachu czaszki, wskazując na wzrost temperatury. Jednak później, w dzień, gdy jest cieplej , dziury wydają się ciemne, jakby zostały wyłączone, aby zachować chłód. Jest to zgodne z wcześniejszymi dowodami, że aligatory mają krzyżowy układ krążenia lub wewnętrzny termostat, że tak powiem ”.\\n\\nHolliday i jego zespół wzięli dane termowizyjne i zbadali skamieniałe pozostałości dinozaurów i krokodyli, aby zobaczyć, jak ta dziura w czaszce zmieniała się w czasie.\\n\\n„Wiemy, że podobnie jak T. rex, aligatory mają dziury w dachu czaszek i są wypełnione naczyniami krwionośnymi” - powiedział Larry Witmer, profesor anatomii w Heritage University of Osteopathic Medicine w Ohio University. „Jednak od ponad 100 lat umieszczamy mięśnie w podobnej przestrzeni z dinozaurami. Stosując anatomię i fizjologię obecnych zwierząt, możemy pokazać, że możemy obalić te wczesne hipotezy dotyczące anatomii tej części T. czaszka rex. ”\\n\\n', 'imgalt': '\\n<em> T. rex </em> szkielet, głowa i szyja (obraz stockowy).', 'meta': ' Tyrannosaurus rex, jeden z największych dinozaurów jedzących mięso na świecie, miał klimatyzator w głowie, sugerują naukowcy, którzy stanowią wyzwanie od ponad stu lat wcześniej wierzenia.\\n'}\n",
      "{'source:-pt': 'fonte:', 'archive-zh-CN': '档案', 'journal pacifique-es': 'periódico pacífico', 'source:-pl': 'źródło', 'archive-es': 'archivo', 'about us-es': 'sobre nosotros', 'source:-es': 'fuente:', 'archive-pl': 'archiwum', 'homepage-zh-CN': '主页', 'homepage-pt': 'pagina inicial', 'journal pacifique-pt': 'jornal pacífico', 'archive-pt': 'arquivo', 'journal pacifique-zh-CN': '和平的报纸', 'about us-pl': 'o nas', 'about us-zh-CN': '关于我们', 'homepage-pl': 'strona główna', 'source:-zh-CN': '资源', 'homepage-es': 'página principal', 'about us-pt': 'sobre nós', 'journal pacifique-pl': 'spokojna gazeta'}\n",
      "headline\n",
      "meta\n",
      "article\n",
      "imgalt\n",
      "{'headline': '研究表明，雷克斯有一台空调，研究表明', 'article': '\\n在过去，科学家认为T. rex颅骨顶部的两个大洞，称为背腱窗，充满了有助于下颌运动的肌肉。\\n\\n但这一说法使MU医学院的解剖学教授，该研究的首席研究员Casey Holliday感到困惑。\\n\\n霍利迪说：“肌肉从下颚上升，转90度，然后沿着颅骨顶部走，真是奇怪。” “然而，根据我们与短吻鳄和其他爬行动物的合作，我们现在有很多令人信服的证据证明这个地区的血管。”\\n\\n研究人员使用热成像技术将热量转化为可见光，研究人员在佛罗里达州圣奥古斯丁鳄鱼农场动物园检查了鳄鱼。他们相信他们的证据提供了一种新的理论和洞察霸王龙头部的解剖学。\\n\\n“鳄鱼的体温取决于它的环境，”佛罗里达大学生物系实验室协调员Kent Vliet说。 “因此，我们注意到当它变冷，鳄鱼正在试着变暖时，我们的热成像显示了头骨顶部这些洞中的大热点，表明温度升高。但是，当它温暖的那天晚些时候这些洞看起来是黑暗的，就像它们被关闭以保持凉爽一样。这与以前的证据表明短吻鳄有一个交叉循环系统或内部恒温器是可以这么说的。\\n\\n霍利迪和他的团队拍摄了他们的热成像数据并检查了恐龙和鳄鱼的化石残骸，看看头骨中的这个洞是如何随时间变化的。\\n\\n“我们知道，类似于霸王龙，鳄鱼的头骨上有洞，而且它们充满了血管，”俄亥俄大学传统骨科医学院解剖学教授拉里威特默说。 “然而，100多年来，我们一直将肌肉放入与恐龙相似的空间。通过使用当前动物的一些解剖学和生理学，我们可以证明我们可以推翻关于这部分T的解剖学的早期假设。雷克斯的头骨。“\\n\\n', 'imgalt': '\\n<EM>吨。 rex </ em>骨架，头部和颈部（股票图像）。', 'meta': '霸王龙是地球上最大的食肉恐龙之一，其头部装有空调，这表明科学家们已经挑战了一个世纪以前信仰。\\n'}\n",
      "{'source:-pt': 'fonte:', 'archive-zh-CN': '档案', 'journal pacifique-es': 'periódico pacífico', 'source:-pl': 'źródło', 'archive-es': 'archivo', 'about us-es': 'sobre nosotros', 'source:-es': 'fuente:', 'archive-pl': 'archiwum', 'homepage-zh-CN': '主页', 'homepage-pt': 'pagina inicial', 'journal pacifique-pt': 'jornal pacífico', 'archive-pt': 'arquivo', 'journal pacifique-zh-CN': '和平的报纸', 'about us-pl': 'o nas', 'about us-zh-CN': '关于我们', 'homepage-pl': 'strona główna', 'source:-zh-CN': '资源', 'homepage-es': 'página principal', 'about us-pt': 'sobre nós', 'journal pacifique-pl': 'spokojna gazeta'}\n"
     ]
    }
   ],
   "source": [
    "for article in articles:\n",
    "    dic = sciencedaily_parse_article(article)\n",
    "    for target_language in languages:\n",
    "            tmp = dic_to_dirfile(dic,target_language, elements_dictionary)\n",
    "            articlessofar[tmp[2]]=tmp[1]"
   ]
  },
  {
   "cell_type": "code",
   "execution_count": 16,
   "metadata": {
    "colab": {
     "base_uri": "https://localhost:8080/",
     "height": 85
    },
    "colab_type": "code",
    "id": "GLMAwueUAB1f",
    "outputId": "58b5a679-0efb-414f-ca87-b6f66436e039"
   },
   "outputs": [
    {
     "name": "stdout",
     "output_type": "stream",
     "text": [
      "pt/posts/2019-09-12/Reactor-turns-greenhouse-gas-into-pure-liquid-fuel-pt.html\n",
      "pt/posts/2019-09-12/Milestones-on-the-way-to-the-nuclear-clock-pt.html\n",
      "pt/posts/2019-09-12/Largest-ever-ancient-DNA-study-illuminates-millennia-of-South-and-Central-Asian-prehistory-pt.html\n",
      "es/posts/2019-09-12/Towering-balloon-like-features-discovered-near-center-of-Milky-Way-es.html\n",
      "pt/posts/2019-09-12/A-Goldilocks-zone-for-planet-size-pt.html\n",
      "es/posts/2019-09-12/Milestones-on-the-way-to-the-nuclear-clock-es.html\n",
      "zh-CN/posts/2019-09-12/Milestones-on-the-way-to-the-nuclear-clock-zh-CN.html\n",
      "zh-CN/posts/2019-09-12/Solving-the-longstanding-mystery-of-how-friction-leads-to-static-electricity-zh-CN.html\n",
      "es/posts/2019-09-12/Reactor-turns-greenhouse-gas-into-pure-liquid-fuel-es.html\n",
      "es/posts/2019-09-12/Largest-ever-ancient-DNA-study-illuminates-millennia-of-South-and-Central-Asian-prehistory-es.html\n",
      "zh-CN/posts/2019-09-12/Towering-balloon-like-features-discovered-near-center-of-Milky-Way-zh-CN.html\n",
      "es/posts/2019-09-12/T--Rex-had-an-air-conditioner-in-its-head--study-suggests-es.html\n",
      "zh-CN/posts/2019-09-12/Reactor-turns-greenhouse-gas-into-pure-liquid-fuel-zh-CN.html\n",
      "pl/posts/2019-09-12/New-flying-reptile-species-was-one-of-largest-ever-flying-animals-pl.html\n",
      "es/posts/2019-09-12/New-flying-reptile-species-was-one-of-largest-ever-flying-animals-es.html\n",
      "pt/posts/2019-09-12/Towering-balloon-like-features-discovered-near-center-of-Milky-Way-pt.html\n",
      "pl/posts/2019-09-12/A-Goldilocks-zone-for-planet-size-pl.html\n",
      "zh-CN/posts/2019-09-12/A-Goldilocks-zone-for-planet-size-zh-CN.html\n",
      "zh-CN/posts/2019-09-12/T--Rex-had-an-air-conditioner-in-its-head--study-suggests-zh-CN.html\n",
      "zh-CN/posts/2019-09-12/Largest-ever-ancient-DNA-study-illuminates-millennia-of-South-and-Central-Asian-prehistory-zh-CN.html\n",
      "pl/posts/2019-09-12/It-takes-a--consortium---Researchers-develop-metabolic-engineering-technique-pl.html\n",
      "pl/posts/2019-09-12/Towering-balloon-like-features-discovered-near-center-of-Milky-Way-pl.html\n",
      "pt/posts/2019-09-12/New-flying-reptile-species-was-one-of-largest-ever-flying-animals-pt.html\n",
      "pt/posts/2019-09-12/Solving-the-longstanding-mystery-of-how-friction-leads-to-static-electricity-pt.html\n",
      "zh-CN/posts/2019-09-12/New-flying-reptile-species-was-one-of-largest-ever-flying-animals-zh-CN.html\n",
      "pl/posts/2019-09-12/T--Rex-had-an-air-conditioner-in-its-head--study-suggests-pl.html\n",
      "es/posts/2019-09-12/It-takes-a--consortium---Researchers-develop-metabolic-engineering-technique-es.html\n",
      "pl/posts/2019-09-12/Reactor-turns-greenhouse-gas-into-pure-liquid-fuel-pl.html\n",
      "pt/posts/2019-09-12/T--Rex-had-an-air-conditioner-in-its-head--study-suggests-pt.html\n",
      "zh-CN/posts/2019-09-12/It-takes-a--consortium---Researchers-develop-metabolic-engineering-technique-zh-CN.html\n",
      "pl/posts/2019-09-12/Largest-ever-ancient-DNA-study-illuminates-millennia-of-South-and-Central-Asian-prehistory-pl.html\n",
      "es/posts/2019-09-12/Solving-the-longstanding-mystery-of-how-friction-leads-to-static-electricity-es.html\n",
      "pl/posts/2019-09-12/Milestones-on-the-way-to-the-nuclear-clock-pl.html\n",
      "pt/posts/2019-09-12/It-takes-a--consortium---Researchers-develop-metabolic-engineering-technique-pt.html\n",
      "es/posts/2019-09-12/A-Goldilocks-zone-for-planet-size-es.html\n",
      "pl/posts/2019-09-12/Solving-the-longstanding-mystery-of-how-friction-leads-to-static-electricity-pl.html\n"
     ]
    }
   ],
   "source": [
    "for key in articlessofar:\n",
    "    print(articlessofar[key][\"path\"])"
   ]
  },
  {
   "cell_type": "code",
   "execution_count": 0,
   "metadata": {
    "colab": {},
    "colab_type": "code",
    "id": "OLA2Xs8wUQYx"
   },
   "outputs": [],
   "source": [
    "def get_article_links_from_sd():\n",
    "    \n",
    "    sd_tech = \"https://www.sciencedaily.com/news/top/technology/\"\"\n",
    "    req = Request(sd_tech, headers={'User-Agent': 'Mozilla/5.0'})\n",
    "    webpage = urlopen(req).read()\n",
    "    sd_tech_html_string = webpage.decode(\"utf-8\") \n",
    "    \n",
    "    find_between(html_string, '<h1 id=\"headline\" class=\"headline\">','</h1>')"
   ]
  },
  {
   "cell_type": "code",
   "execution_count": 0,
   "metadata": {
    "colab": {},
    "colab_type": "code",
    "id": "m7tM1pNHvsRo"
   },
   "outputs": [],
   "source": []
  },
  {
   "cell_type": "code",
   "execution_count": 0,
   "metadata": {
    "colab": {},
    "colab_type": "code",
    "id": "LgdwWqSBepZL"
   },
   "outputs": [],
   "source": []
  },
  {
   "cell_type": "code",
   "execution_count": 0,
   "metadata": {
    "colab": {},
    "colab_type": "code",
    "id": "YiGEb3gaxBDH"
   },
   "outputs": [],
   "source": []
  },
  {
   "cell_type": "code",
   "execution_count": 0,
   "metadata": {
    "colab": {},
    "colab_type": "code",
    "id": "pSIzEoDzepNr"
   },
   "outputs": [],
   "source": []
  },
  {
   "cell_type": "code",
   "execution_count": 0,
   "metadata": {
    "colab": {},
    "colab_type": "code",
    "id": "UciJeDgfqz3r"
   },
   "outputs": [],
   "source": [
    "def form_index():\n",
    "    jp_index = \"https://journalpacifique.com/jp-index.temp\"\"\n",
    "    req = Request(jp_index, headers={'User-Agent': 'Mozilla/5.0'})\n",
    "    webpage = urlopen(req).read()\n",
    "    jp_index_html_string = webpage.decode(\"utf-8\") "
   ]
  },
  {
   "cell_type": "code",
   "execution_count": 0,
   "metadata": {
    "colab": {},
    "colab_type": "code",
    "id": "JMFBjf5vqz6B"
   },
   "outputs": [],
   "source": []
  },
  {
   "cell_type": "code",
   "execution_count": 0,
   "metadata": {
    "colab": {},
    "colab_type": "code",
    "id": "qKuJ6WK3qz8Z"
   },
   "outputs": [],
   "source": []
  },
  {
   "cell_type": "code",
   "execution_count": 0,
   "metadata": {
    "colab": {},
    "colab_type": "code",
    "id": "Mo1ubDJ8qz_P"
   },
   "outputs": [],
   "source": []
  },
  {
   "cell_type": "code",
   "execution_count": 0,
   "metadata": {
    "colab": {},
    "colab_type": "code",
    "id": "XKfQHt50q0Dx"
   },
   "outputs": [],
   "source": []
  },
  {
   "cell_type": "code",
   "execution_count": 0,
   "metadata": {
    "colab": {},
    "colab_type": "code",
    "id": "BIHb6cRlepob"
   },
   "outputs": [],
   "source": []
  },
  {
   "cell_type": "code",
   "execution_count": 0,
   "metadata": {
    "colab": {},
    "colab_type": "code",
    "id": "eXLuwSPjXGx-"
   },
   "outputs": [],
   "source": [
    "\"\"\"#parse given url (for quanta mag) and return translation of the article.\n",
    "\n",
    "def quanta_parser(url, target_language='tr'):\n",
    "  site = url\n",
    "  html_string = \"\"\n",
    "  tagged_w_ps = \"\"\n",
    "\n",
    "  # parse html\n",
    "\n",
    "  from mechanize import Browser\n",
    "  br = Browser()\n",
    "  br.set_handle_robots(False) #illegal\n",
    "  br.open(site)\n",
    "  html = br.response().readlines()\n",
    "  for line in html:\n",
    "    html_string = html_string+line.decode(\"utf-8\") \n",
    "    \n",
    "    \n",
    "  # get text in the main section under <section> tag.  \n",
    "  \n",
    "  for item in html_string.split(\"</section>\"):\n",
    "    if \"<section>\" in item:\n",
    "      tagged_w_ps = tagged_w_ps + item[ item.find(\"<section>\")+len(\"<section>\") : ]\n",
    "      \n",
    "  \n",
    "  # get text in the paragraph tags (<p>).\n",
    "  \n",
    "  for item in html_string.split(\"</p>\"):\n",
    "    if \"<p>\" in item:\n",
    "      tagged_w_ps = tagged_w_ps + (item[ item.find(\"<p>\")+len(\"<p>\") : ]+\"ğ\")\n",
    "      \n",
    "      \n",
    "  # remove alt texts.\n",
    "  tagged_w_ps = re.sub(r\" *\\..*(Quanta Magazine)\", \".\", tagged_w_ps)\n",
    "      \n",
    "  \n",
    "  # take link tags out of the way and edit custom characters.\n",
    "  # TODO: expand this list for future articles with other unicode characters.\n",
    "      \n",
    "  newstr = re.sub(r\"(<a href).*?(\\\">)\", \"\", tagged_w_ps)\n",
    "  newstr = re.sub(r\"(\\\\u2018)\", \"\\\"\", newstr)\n",
    "  newstr = re.sub(r\"(\\\\u2019)\", \"\\\"\", newstr)\n",
    "  newstr = re.sub(r\"(\\xa0)\", \" \", newstr)\n",
    "  newstr = re.sub(r\"(&#8217)\", \"\\'\", newstr)\n",
    "  newstr = re.sub(r\"(</a>)\", \"\", newstr)\n",
    "  newstr = re.sub(r\"\\.<.*?(quote_attribution).*?<p>\", \" says \", newstr)\n",
    "  newstr = re.sub(r\"(<p>)\", \"\", newstr)\n",
    "  newstr = re.sub(r\"(<).*(>)\", \".\", newstr)\n",
    "  newstr = re.sub(r\"(\\\",\\\"caption).*}}\", \"\", newstr)\n",
    "  \n",
    "  \n",
    "  # convert custom newline tag to newline\n",
    "  newstr = re.sub(r\"ğ+\", \"\\n\\n\", newstr)\n",
    "  \n",
    "  # translate the text to your target language.\n",
    "  \n",
    "  translation = translator.translate(newstr, dest=target_language).text\n",
    "  \n",
    "  return translation\n",
    "  \n",
    "  \"\"\""
   ]
  }
 ],
 "metadata": {
  "colab": {
   "collapsed_sections": [],
   "name": "TRANSLATE2.ipynb",
   "provenance": [],
   "version": "0.3.2"
  },
  "kernelspec": {
   "display_name": "Python 3",
   "language": "python",
   "name": "python3"
  },
  "language_info": {
   "codemirror_mode": {
    "name": "ipython",
    "version": 3
   },
   "file_extension": ".py",
   "mimetype": "text/x-python",
   "name": "python",
   "nbconvert_exporter": "python",
   "pygments_lexer": "ipython3",
   "version": "3.5.2"
  }
 },
 "nbformat": 4,
 "nbformat_minor": 1
}
